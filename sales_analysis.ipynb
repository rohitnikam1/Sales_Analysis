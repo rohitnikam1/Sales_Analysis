{
  "nbformat": 4,
  "nbformat_minor": 0,
  "metadata": {
    "colab": {
      "name": "sales_analysis.ipynb",
      "provenance": [],
      "collapsed_sections": [],
      "authorship_tag": "ABX9TyN9iPulOX5/z4UoFpQhT+dA",
      "include_colab_link": true
    },
    "kernelspec": {
      "name": "python3",
      "display_name": "Python 3"
    },
    "language_info": {
      "name": "python"
    }
  },
  "cells": [
    {
      "cell_type": "markdown",
      "metadata": {
        "id": "view-in-github",
        "colab_type": "text"
      },
      "source": [
        "<a href=\"https://colab.research.google.com/github/rohitnikam1/Sales_Analysis/blob/master/sales_analysis.ipynb\" target=\"_parent\"><img src=\"https://colab.research.google.com/assets/colab-badge.svg\" alt=\"Open In Colab\"/></a>"
      ]
    },
    {
      "cell_type": "markdown",
      "metadata": {
        "id": "umATJK3HajGn"
      },
      "source": [
        "# Importing relevant libraries"
      ]
    },
    {
      "cell_type": "code",
      "metadata": {
        "colab": {
          "base_uri": "https://localhost:8080/"
        },
        "id": "1lFezSBOpWx-",
        "outputId": "1545bff5-50c4-4849-da40-1a9cff8de4b5"
      },
      "source": [
        "from google.colab import drive\n",
        "drive.mount('/content/drive')\n",
        "\n",
        "import pandas as pd\n",
        "import numpy as np\n",
        "from IPython.display import display, HTML, display_html\n",
        "import os\n",
        "import matplotlib.pyplot as plt\n",
        "%matplotlib inline \n",
        "import seaborn\n",
        "seaborn.set()\n",
        "\n",
        "# Set formatting\n",
        "pd.set_option('display.max_columns', 100)\n",
        "pd.set_option('display.max_rows', 100)"
      ],
      "execution_count": 65,
      "outputs": [
        {
          "output_type": "stream",
          "name": "stdout",
          "text": [
            "Drive already mounted at /content/drive; to attempt to forcibly remount, call drive.mount(\"/content/drive\", force_remount=True).\n"
          ]
        }
      ]
    },
    {
      "cell_type": "markdown",
      "metadata": {
        "id": "t8-4kBODkRpc"
      },
      "source": [
        "## Merging 12 files into one file"
      ]
    },
    {
      "cell_type": "code",
      "metadata": {
        "id": "gN3pNcQjsLJ6"
      },
      "source": [
        "path = '/content/drive/MyDrive/Colab_Notebooks/Sales_Data/data'"
      ],
      "execution_count": 8,
      "outputs": []
    },
    {
      "cell_type": "code",
      "metadata": {
        "colab": {
          "base_uri": "https://localhost:8080/",
          "height": 224
        },
        "id": "UiGojm8usgwR",
        "outputId": "ac4107be-e781-477b-c3a8-69924718993c"
      },
      "source": [
        "list_df = []\n",
        "\n",
        "for file in os.listdir(path):\n",
        "  if file.endswith('csv'):\n",
        "    Df = pd.read_csv(f'{path}/{file}', parse_dates=['Order Date'])\n",
        "    list_df.append(Df)\n",
        "\n",
        "df = pd.concat(list_df)\n",
        "display(df.shape)\n",
        "display(df.head())"
      ],
      "execution_count": 9,
      "outputs": [
        {
          "output_type": "display_data",
          "data": {
            "text/plain": [
              "(186850, 6)"
            ]
          },
          "metadata": {}
        },
        {
          "output_type": "display_data",
          "data": {
            "text/html": [
              "<div>\n",
              "<style scoped>\n",
              "    .dataframe tbody tr th:only-of-type {\n",
              "        vertical-align: middle;\n",
              "    }\n",
              "\n",
              "    .dataframe tbody tr th {\n",
              "        vertical-align: top;\n",
              "    }\n",
              "\n",
              "    .dataframe thead th {\n",
              "        text-align: right;\n",
              "    }\n",
              "</style>\n",
              "<table border=\"1\" class=\"dataframe\">\n",
              "  <thead>\n",
              "    <tr style=\"text-align: right;\">\n",
              "      <th></th>\n",
              "      <th>Order ID</th>\n",
              "      <th>Product</th>\n",
              "      <th>Quantity Ordered</th>\n",
              "      <th>Price Each</th>\n",
              "      <th>Order Date</th>\n",
              "      <th>Purchase Address</th>\n",
              "    </tr>\n",
              "  </thead>\n",
              "  <tbody>\n",
              "    <tr>\n",
              "      <th>0</th>\n",
              "      <td>222910</td>\n",
              "      <td>Apple Airpods Headphones</td>\n",
              "      <td>1</td>\n",
              "      <td>150</td>\n",
              "      <td>07/26/19 16:51</td>\n",
              "      <td>389 South St, Atlanta, GA 30301</td>\n",
              "    </tr>\n",
              "    <tr>\n",
              "      <th>1</th>\n",
              "      <td>222911</td>\n",
              "      <td>Flatscreen TV</td>\n",
              "      <td>1</td>\n",
              "      <td>300</td>\n",
              "      <td>07/05/19 08:55</td>\n",
              "      <td>590 4th St, Seattle, WA 98101</td>\n",
              "    </tr>\n",
              "    <tr>\n",
              "      <th>2</th>\n",
              "      <td>222912</td>\n",
              "      <td>AA Batteries (4-pack)</td>\n",
              "      <td>1</td>\n",
              "      <td>3.84</td>\n",
              "      <td>07/29/19 12:41</td>\n",
              "      <td>861 Hill St, Atlanta, GA 30301</td>\n",
              "    </tr>\n",
              "    <tr>\n",
              "      <th>3</th>\n",
              "      <td>222913</td>\n",
              "      <td>AA Batteries (4-pack)</td>\n",
              "      <td>1</td>\n",
              "      <td>3.84</td>\n",
              "      <td>07/28/19 10:15</td>\n",
              "      <td>190 Ridge St, Atlanta, GA 30301</td>\n",
              "    </tr>\n",
              "    <tr>\n",
              "      <th>4</th>\n",
              "      <td>222914</td>\n",
              "      <td>AAA Batteries (4-pack)</td>\n",
              "      <td>5</td>\n",
              "      <td>2.99</td>\n",
              "      <td>07/31/19 02:13</td>\n",
              "      <td>824 Forest St, Seattle, WA 98101</td>\n",
              "    </tr>\n",
              "  </tbody>\n",
              "</table>\n",
              "</div>"
            ],
            "text/plain": [
              "  Order ID                   Product Quantity Ordered Price Each  \\\n",
              "0   222910  Apple Airpods Headphones                1        150   \n",
              "1   222911             Flatscreen TV                1        300   \n",
              "2   222912     AA Batteries (4-pack)                1       3.84   \n",
              "3   222913     AA Batteries (4-pack)                1       3.84   \n",
              "4   222914    AAA Batteries (4-pack)                5       2.99   \n",
              "\n",
              "       Order Date                  Purchase Address  \n",
              "0  07/26/19 16:51   389 South St, Atlanta, GA 30301  \n",
              "1  07/05/19 08:55     590 4th St, Seattle, WA 98101  \n",
              "2  07/29/19 12:41    861 Hill St, Atlanta, GA 30301  \n",
              "3  07/28/19 10:15   190 Ridge St, Atlanta, GA 30301  \n",
              "4  07/31/19 02:13  824 Forest St, Seattle, WA 98101  "
            ]
          },
          "metadata": {}
        }
      ]
    },
    {
      "cell_type": "markdown",
      "metadata": {
        "id": "_Ne8Od0hx6Dm"
      },
      "source": [
        "# **Question 1: What was the best month for sales? How much was earned that month?**"
      ]
    },
    {
      "cell_type": "code",
      "metadata": {
        "colab": {
          "base_uri": "https://localhost:8080/",
          "height": 260
        },
        "id": "eIdKaNYjyF8Z",
        "outputId": "74742a81-f88f-4942-e0e8-36c4f65641bf"
      },
      "source": [
        "display(df.info())"
      ],
      "execution_count": 10,
      "outputs": [
        {
          "output_type": "stream",
          "name": "stdout",
          "text": [
            "<class 'pandas.core.frame.DataFrame'>\n",
            "Int64Index: 186850 entries, 0 to 25116\n",
            "Data columns (total 6 columns):\n",
            " #   Column            Non-Null Count   Dtype \n",
            "---  ------            --------------   ----- \n",
            " 0   Order ID          186305 non-null  object\n",
            " 1   Product           186305 non-null  object\n",
            " 2   Quantity Ordered  186305 non-null  object\n",
            " 3   Price Each        186305 non-null  object\n",
            " 4   Order Date        186305 non-null  object\n",
            " 5   Purchase Address  186305 non-null  object\n",
            "dtypes: object(6)\n",
            "memory usage: 10.0+ MB\n"
          ]
        },
        {
          "output_type": "display_data",
          "data": {
            "text/plain": [
              "None"
            ]
          },
          "metadata": {}
        }
      ]
    },
    {
      "cell_type": "markdown",
      "metadata": {
        "id": "ksMlTemUAOKl"
      },
      "source": [
        "It can be seen that the `Order Date` column is of type `object` and not datetime type. We therefore intend to first convert the column into the datetime type and afterwards extract month from there."
      ]
    },
    {
      "cell_type": "code",
      "metadata": {
        "colab": {
          "base_uri": "https://localhost:8080/",
          "height": 539
        },
        "id": "A1gWbeoIyL4F",
        "outputId": "16232bf6-9695-45ae-d8d5-8740661027f2"
      },
      "source": [
        "df['Order Date'] = pd.to_datetime(df['Order Date'], format=\"%m/%d/%y %H:%M\")"
      ],
      "execution_count": 11,
      "outputs": [
        {
          "output_type": "error",
          "ename": "ValueError",
          "evalue": "ignored",
          "traceback": [
            "\u001b[0;31m---------------------------------------------------------------------------\u001b[0m",
            "\u001b[0;31mTypeError\u001b[0m                                 Traceback (most recent call last)",
            "\u001b[0;32m/usr/local/lib/python3.7/dist-packages/pandas/core/tools/datetimes.py\u001b[0m in \u001b[0;36m_convert_listlike_datetimes\u001b[0;34m(arg, format, name, tz, unit, errors, infer_datetime_format, dayfirst, yearfirst, exact)\u001b[0m\n\u001b[1;32m    449\u001b[0m             \u001b[0;32mtry\u001b[0m\u001b[0;34m:\u001b[0m\u001b[0;34m\u001b[0m\u001b[0;34m\u001b[0m\u001b[0m\n\u001b[0;32m--> 450\u001b[0;31m                 \u001b[0mvalues\u001b[0m\u001b[0;34m,\u001b[0m \u001b[0mtz\u001b[0m \u001b[0;34m=\u001b[0m \u001b[0mconversion\u001b[0m\u001b[0;34m.\u001b[0m\u001b[0mdatetime_to_datetime64\u001b[0m\u001b[0;34m(\u001b[0m\u001b[0marg\u001b[0m\u001b[0;34m)\u001b[0m\u001b[0;34m\u001b[0m\u001b[0;34m\u001b[0m\u001b[0m\n\u001b[0m\u001b[1;32m    451\u001b[0m                 \u001b[0mdta\u001b[0m \u001b[0;34m=\u001b[0m \u001b[0mDatetimeArray\u001b[0m\u001b[0;34m(\u001b[0m\u001b[0mvalues\u001b[0m\u001b[0;34m,\u001b[0m \u001b[0mdtype\u001b[0m\u001b[0;34m=\u001b[0m\u001b[0mtz_to_dtype\u001b[0m\u001b[0;34m(\u001b[0m\u001b[0mtz\u001b[0m\u001b[0;34m)\u001b[0m\u001b[0;34m)\u001b[0m\u001b[0;34m\u001b[0m\u001b[0;34m\u001b[0m\u001b[0m\n",
            "\u001b[0;32mpandas/_libs/tslibs/conversion.pyx\u001b[0m in \u001b[0;36mpandas._libs.tslibs.conversion.datetime_to_datetime64\u001b[0;34m()\u001b[0m\n",
            "\u001b[0;31mTypeError\u001b[0m: Unrecognized value type: <class 'str'>",
            "\nDuring handling of the above exception, another exception occurred:\n",
            "\u001b[0;31mValueError\u001b[0m                                Traceback (most recent call last)",
            "\u001b[0;32m<ipython-input-11-294c1e1e0632>\u001b[0m in \u001b[0;36m<module>\u001b[0;34m()\u001b[0m\n\u001b[0;32m----> 1\u001b[0;31m \u001b[0mdf\u001b[0m\u001b[0;34m[\u001b[0m\u001b[0;34m'Order Date'\u001b[0m\u001b[0;34m]\u001b[0m \u001b[0;34m=\u001b[0m \u001b[0mpd\u001b[0m\u001b[0;34m.\u001b[0m\u001b[0mto_datetime\u001b[0m\u001b[0;34m(\u001b[0m\u001b[0mdf\u001b[0m\u001b[0;34m[\u001b[0m\u001b[0;34m'Order Date'\u001b[0m\u001b[0;34m]\u001b[0m\u001b[0;34m,\u001b[0m \u001b[0mformat\u001b[0m\u001b[0;34m=\u001b[0m\u001b[0;34m\"%m/%d/%y %H:%M\"\u001b[0m\u001b[0;34m)\u001b[0m\u001b[0;34m\u001b[0m\u001b[0;34m\u001b[0m\u001b[0m\n\u001b[0m",
            "\u001b[0;32m/usr/local/lib/python3.7/dist-packages/pandas/core/tools/datetimes.py\u001b[0m in \u001b[0;36mto_datetime\u001b[0;34m(arg, errors, dayfirst, yearfirst, utc, format, exact, unit, infer_datetime_format, origin, cache)\u001b[0m\n\u001b[1;32m    801\u001b[0m             \u001b[0mresult\u001b[0m \u001b[0;34m=\u001b[0m \u001b[0marg\u001b[0m\u001b[0;34m.\u001b[0m\u001b[0mmap\u001b[0m\u001b[0;34m(\u001b[0m\u001b[0mcache_array\u001b[0m\u001b[0;34m)\u001b[0m\u001b[0;34m\u001b[0m\u001b[0;34m\u001b[0m\u001b[0m\n\u001b[1;32m    802\u001b[0m         \u001b[0;32melse\u001b[0m\u001b[0;34m:\u001b[0m\u001b[0;34m\u001b[0m\u001b[0;34m\u001b[0m\u001b[0m\n\u001b[0;32m--> 803\u001b[0;31m             \u001b[0mvalues\u001b[0m \u001b[0;34m=\u001b[0m \u001b[0mconvert_listlike\u001b[0m\u001b[0;34m(\u001b[0m\u001b[0marg\u001b[0m\u001b[0;34m.\u001b[0m\u001b[0m_values\u001b[0m\u001b[0;34m,\u001b[0m \u001b[0mformat\u001b[0m\u001b[0;34m)\u001b[0m\u001b[0;34m\u001b[0m\u001b[0;34m\u001b[0m\u001b[0m\n\u001b[0m\u001b[1;32m    804\u001b[0m             \u001b[0mresult\u001b[0m \u001b[0;34m=\u001b[0m \u001b[0marg\u001b[0m\u001b[0;34m.\u001b[0m\u001b[0m_constructor\u001b[0m\u001b[0;34m(\u001b[0m\u001b[0mvalues\u001b[0m\u001b[0;34m,\u001b[0m \u001b[0mindex\u001b[0m\u001b[0;34m=\u001b[0m\u001b[0marg\u001b[0m\u001b[0;34m.\u001b[0m\u001b[0mindex\u001b[0m\u001b[0;34m,\u001b[0m \u001b[0mname\u001b[0m\u001b[0;34m=\u001b[0m\u001b[0marg\u001b[0m\u001b[0;34m.\u001b[0m\u001b[0mname\u001b[0m\u001b[0;34m)\u001b[0m\u001b[0;34m\u001b[0m\u001b[0;34m\u001b[0m\u001b[0m\n\u001b[1;32m    805\u001b[0m     \u001b[0;32melif\u001b[0m \u001b[0misinstance\u001b[0m\u001b[0;34m(\u001b[0m\u001b[0marg\u001b[0m\u001b[0;34m,\u001b[0m \u001b[0;34m(\u001b[0m\u001b[0mABCDataFrame\u001b[0m\u001b[0;34m,\u001b[0m \u001b[0mabc\u001b[0m\u001b[0;34m.\u001b[0m\u001b[0mMutableMapping\u001b[0m\u001b[0;34m)\u001b[0m\u001b[0;34m)\u001b[0m\u001b[0;34m:\u001b[0m\u001b[0;34m\u001b[0m\u001b[0;34m\u001b[0m\u001b[0m\n",
            "\u001b[0;32m/usr/local/lib/python3.7/dist-packages/pandas/core/tools/datetimes.py\u001b[0m in \u001b[0;36m_convert_listlike_datetimes\u001b[0;34m(arg, format, name, tz, unit, errors, infer_datetime_format, dayfirst, yearfirst, exact)\u001b[0m\n\u001b[1;32m    452\u001b[0m                 \u001b[0;32mreturn\u001b[0m \u001b[0mDatetimeIndex\u001b[0m\u001b[0;34m.\u001b[0m\u001b[0m_simple_new\u001b[0m\u001b[0;34m(\u001b[0m\u001b[0mdta\u001b[0m\u001b[0;34m,\u001b[0m \u001b[0mname\u001b[0m\u001b[0;34m=\u001b[0m\u001b[0mname\u001b[0m\u001b[0;34m)\u001b[0m\u001b[0;34m\u001b[0m\u001b[0;34m\u001b[0m\u001b[0m\n\u001b[1;32m    453\u001b[0m             \u001b[0;32mexcept\u001b[0m \u001b[0;34m(\u001b[0m\u001b[0mValueError\u001b[0m\u001b[0;34m,\u001b[0m \u001b[0mTypeError\u001b[0m\u001b[0;34m)\u001b[0m\u001b[0;34m:\u001b[0m\u001b[0;34m\u001b[0m\u001b[0;34m\u001b[0m\u001b[0m\n\u001b[0;32m--> 454\u001b[0;31m                 \u001b[0;32mraise\u001b[0m \u001b[0me\u001b[0m\u001b[0;34m\u001b[0m\u001b[0;34m\u001b[0m\u001b[0m\n\u001b[0m\u001b[1;32m    455\u001b[0m \u001b[0;34m\u001b[0m\u001b[0m\n\u001b[1;32m    456\u001b[0m     \u001b[0;32mif\u001b[0m \u001b[0mresult\u001b[0m \u001b[0;32mis\u001b[0m \u001b[0;32mNone\u001b[0m\u001b[0;34m:\u001b[0m\u001b[0;34m\u001b[0m\u001b[0;34m\u001b[0m\u001b[0m\n",
            "\u001b[0;32m/usr/local/lib/python3.7/dist-packages/pandas/core/tools/datetimes.py\u001b[0m in \u001b[0;36m_convert_listlike_datetimes\u001b[0;34m(arg, format, name, tz, unit, errors, infer_datetime_format, dayfirst, yearfirst, exact)\u001b[0m\n\u001b[1;32m    416\u001b[0m                 \u001b[0;32mtry\u001b[0m\u001b[0;34m:\u001b[0m\u001b[0;34m\u001b[0m\u001b[0;34m\u001b[0m\u001b[0m\n\u001b[1;32m    417\u001b[0m                     result, timezones = array_strptime(\n\u001b[0;32m--> 418\u001b[0;31m                         \u001b[0marg\u001b[0m\u001b[0;34m,\u001b[0m \u001b[0mformat\u001b[0m\u001b[0;34m,\u001b[0m \u001b[0mexact\u001b[0m\u001b[0;34m=\u001b[0m\u001b[0mexact\u001b[0m\u001b[0;34m,\u001b[0m \u001b[0merrors\u001b[0m\u001b[0;34m=\u001b[0m\u001b[0merrors\u001b[0m\u001b[0;34m\u001b[0m\u001b[0;34m\u001b[0m\u001b[0m\n\u001b[0m\u001b[1;32m    419\u001b[0m                     )\n\u001b[1;32m    420\u001b[0m                     \u001b[0;32mif\u001b[0m \u001b[0;34m\"%Z\"\u001b[0m \u001b[0;32min\u001b[0m \u001b[0mformat\u001b[0m \u001b[0;32mor\u001b[0m \u001b[0;34m\"%z\"\u001b[0m \u001b[0;32min\u001b[0m \u001b[0mformat\u001b[0m\u001b[0;34m:\u001b[0m\u001b[0;34m\u001b[0m\u001b[0;34m\u001b[0m\u001b[0m\n",
            "\u001b[0;32mpandas/_libs/tslibs/strptime.pyx\u001b[0m in \u001b[0;36mpandas._libs.tslibs.strptime.array_strptime\u001b[0;34m()\u001b[0m\n",
            "\u001b[0;31mValueError\u001b[0m: time data 'Order Date' does not match format '%m/%d/%y %H:%M' (match)"
          ]
        }
      ]
    },
    {
      "cell_type": "markdown",
      "metadata": {
        "id": "h59zo571BJNV"
      },
      "source": [
        "As seen, trying to parse the column into the datetime type returns an error. This could be due to missing values present in the dataframe. Let's check."
      ]
    },
    {
      "cell_type": "code",
      "metadata": {
        "colab": {
          "base_uri": "https://localhost:8080/"
        },
        "id": "DilFBI7Y76o2",
        "outputId": "dc927edd-14e6-4d10-9ab7-0454fcd2d7fc"
      },
      "source": [
        "df.isnull().sum()"
      ],
      "execution_count": 12,
      "outputs": [
        {
          "output_type": "execute_result",
          "data": {
            "text/plain": [
              "Order ID            545\n",
              "Product             545\n",
              "Quantity Ordered    545\n",
              "Price Each          545\n",
              "Order Date          545\n",
              "Purchase Address    545\n",
              "dtype: int64"
            ]
          },
          "metadata": {},
          "execution_count": 12
        }
      ]
    },
    {
      "cell_type": "markdown",
      "metadata": {
        "id": "FB5OE6HzBpB2"
      },
      "source": [
        "There are 545 rows with missing values, which is probably the reason for error in the datetime conversion."
      ]
    },
    {
      "cell_type": "code",
      "metadata": {
        "colab": {
          "base_uri": "https://localhost:8080/",
          "height": 424
        },
        "id": "msMx_K2g78yU",
        "outputId": "ba0bb60c-3a70-41c3-ad85-28e0e7c87c74"
      },
      "source": [
        "df[df.isnull().any(axis=1)]"
      ],
      "execution_count": 13,
      "outputs": [
        {
          "output_type": "execute_result",
          "data": {
            "text/html": [
              "<div>\n",
              "<style scoped>\n",
              "    .dataframe tbody tr th:only-of-type {\n",
              "        vertical-align: middle;\n",
              "    }\n",
              "\n",
              "    .dataframe tbody tr th {\n",
              "        vertical-align: top;\n",
              "    }\n",
              "\n",
              "    .dataframe thead th {\n",
              "        text-align: right;\n",
              "    }\n",
              "</style>\n",
              "<table border=\"1\" class=\"dataframe\">\n",
              "  <thead>\n",
              "    <tr style=\"text-align: right;\">\n",
              "      <th></th>\n",
              "      <th>Order ID</th>\n",
              "      <th>Product</th>\n",
              "      <th>Quantity Ordered</th>\n",
              "      <th>Price Each</th>\n",
              "      <th>Order Date</th>\n",
              "      <th>Purchase Address</th>\n",
              "    </tr>\n",
              "  </thead>\n",
              "  <tbody>\n",
              "    <tr>\n",
              "      <th>199</th>\n",
              "      <td>NaN</td>\n",
              "      <td>NaN</td>\n",
              "      <td>NaN</td>\n",
              "      <td>NaN</td>\n",
              "      <td>NaN</td>\n",
              "      <td>NaN</td>\n",
              "    </tr>\n",
              "    <tr>\n",
              "      <th>315</th>\n",
              "      <td>NaN</td>\n",
              "      <td>NaN</td>\n",
              "      <td>NaN</td>\n",
              "      <td>NaN</td>\n",
              "      <td>NaN</td>\n",
              "      <td>NaN</td>\n",
              "    </tr>\n",
              "    <tr>\n",
              "      <th>599</th>\n",
              "      <td>NaN</td>\n",
              "      <td>NaN</td>\n",
              "      <td>NaN</td>\n",
              "      <td>NaN</td>\n",
              "      <td>NaN</td>\n",
              "      <td>NaN</td>\n",
              "    </tr>\n",
              "    <tr>\n",
              "      <th>675</th>\n",
              "      <td>NaN</td>\n",
              "      <td>NaN</td>\n",
              "      <td>NaN</td>\n",
              "      <td>NaN</td>\n",
              "      <td>NaN</td>\n",
              "      <td>NaN</td>\n",
              "    </tr>\n",
              "    <tr>\n",
              "      <th>1027</th>\n",
              "      <td>NaN</td>\n",
              "      <td>NaN</td>\n",
              "      <td>NaN</td>\n",
              "      <td>NaN</td>\n",
              "      <td>NaN</td>\n",
              "      <td>NaN</td>\n",
              "    </tr>\n",
              "    <tr>\n",
              "      <th>...</th>\n",
              "      <td>...</td>\n",
              "      <td>...</td>\n",
              "      <td>...</td>\n",
              "      <td>...</td>\n",
              "      <td>...</td>\n",
              "      <td>...</td>\n",
              "    </tr>\n",
              "    <tr>\n",
              "      <th>22945</th>\n",
              "      <td>NaN</td>\n",
              "      <td>NaN</td>\n",
              "      <td>NaN</td>\n",
              "      <td>NaN</td>\n",
              "      <td>NaN</td>\n",
              "      <td>NaN</td>\n",
              "    </tr>\n",
              "    <tr>\n",
              "      <th>22962</th>\n",
              "      <td>NaN</td>\n",
              "      <td>NaN</td>\n",
              "      <td>NaN</td>\n",
              "      <td>NaN</td>\n",
              "      <td>NaN</td>\n",
              "      <td>NaN</td>\n",
              "    </tr>\n",
              "    <tr>\n",
              "      <th>23309</th>\n",
              "      <td>NaN</td>\n",
              "      <td>NaN</td>\n",
              "      <td>NaN</td>\n",
              "      <td>NaN</td>\n",
              "      <td>NaN</td>\n",
              "      <td>NaN</td>\n",
              "    </tr>\n",
              "    <tr>\n",
              "      <th>23996</th>\n",
              "      <td>NaN</td>\n",
              "      <td>NaN</td>\n",
              "      <td>NaN</td>\n",
              "      <td>NaN</td>\n",
              "      <td>NaN</td>\n",
              "      <td>NaN</td>\n",
              "    </tr>\n",
              "    <tr>\n",
              "      <th>24730</th>\n",
              "      <td>NaN</td>\n",
              "      <td>NaN</td>\n",
              "      <td>NaN</td>\n",
              "      <td>NaN</td>\n",
              "      <td>NaN</td>\n",
              "      <td>NaN</td>\n",
              "    </tr>\n",
              "  </tbody>\n",
              "</table>\n",
              "<p>545 rows × 6 columns</p>\n",
              "</div>"
            ],
            "text/plain": [
              "      Order ID Product Quantity Ordered Price Each Order Date Purchase Address\n",
              "199        NaN     NaN              NaN        NaN        NaN              NaN\n",
              "315        NaN     NaN              NaN        NaN        NaN              NaN\n",
              "599        NaN     NaN              NaN        NaN        NaN              NaN\n",
              "675        NaN     NaN              NaN        NaN        NaN              NaN\n",
              "1027       NaN     NaN              NaN        NaN        NaN              NaN\n",
              "...        ...     ...              ...        ...        ...              ...\n",
              "22945      NaN     NaN              NaN        NaN        NaN              NaN\n",
              "22962      NaN     NaN              NaN        NaN        NaN              NaN\n",
              "23309      NaN     NaN              NaN        NaN        NaN              NaN\n",
              "23996      NaN     NaN              NaN        NaN        NaN              NaN\n",
              "24730      NaN     NaN              NaN        NaN        NaN              NaN\n",
              "\n",
              "[545 rows x 6 columns]"
            ]
          },
          "metadata": {},
          "execution_count": 13
        }
      ]
    },
    {
      "cell_type": "markdown",
      "metadata": {
        "id": "sWWhXspPBnz-"
      },
      "source": [
        "As can be seen, rows with NaN values have all fields as NaN. We will drop these rows."
      ]
    },
    {
      "cell_type": "code",
      "metadata": {
        "id": "0Rk7Gsw_8gGY"
      },
      "source": [
        "df = df.dropna(how='all')"
      ],
      "execution_count": 14,
      "outputs": []
    },
    {
      "cell_type": "markdown",
      "metadata": {
        "id": "YTiHVp3bIGrY"
      },
      "source": [
        "It's now time to retry the parsing of `Order Date` column as datetime type."
      ]
    },
    {
      "cell_type": "code",
      "metadata": {
        "colab": {
          "base_uri": "https://localhost:8080/",
          "height": 539
        },
        "id": "Ko11SoQFH-W5",
        "outputId": "0555133a-b057-44e3-ed99-3517a1c2c9a2"
      },
      "source": [
        "df['Order Date'] = pd.to_datetime(df['Order Date'], format=\"%m/%d/%y %H:%M\")"
      ],
      "execution_count": 15,
      "outputs": [
        {
          "output_type": "error",
          "ename": "ValueError",
          "evalue": "ignored",
          "traceback": [
            "\u001b[0;31m---------------------------------------------------------------------------\u001b[0m",
            "\u001b[0;31mTypeError\u001b[0m                                 Traceback (most recent call last)",
            "\u001b[0;32m/usr/local/lib/python3.7/dist-packages/pandas/core/tools/datetimes.py\u001b[0m in \u001b[0;36m_convert_listlike_datetimes\u001b[0;34m(arg, format, name, tz, unit, errors, infer_datetime_format, dayfirst, yearfirst, exact)\u001b[0m\n\u001b[1;32m    449\u001b[0m             \u001b[0;32mtry\u001b[0m\u001b[0;34m:\u001b[0m\u001b[0;34m\u001b[0m\u001b[0;34m\u001b[0m\u001b[0m\n\u001b[0;32m--> 450\u001b[0;31m                 \u001b[0mvalues\u001b[0m\u001b[0;34m,\u001b[0m \u001b[0mtz\u001b[0m \u001b[0;34m=\u001b[0m \u001b[0mconversion\u001b[0m\u001b[0;34m.\u001b[0m\u001b[0mdatetime_to_datetime64\u001b[0m\u001b[0;34m(\u001b[0m\u001b[0marg\u001b[0m\u001b[0;34m)\u001b[0m\u001b[0;34m\u001b[0m\u001b[0;34m\u001b[0m\u001b[0m\n\u001b[0m\u001b[1;32m    451\u001b[0m                 \u001b[0mdta\u001b[0m \u001b[0;34m=\u001b[0m \u001b[0mDatetimeArray\u001b[0m\u001b[0;34m(\u001b[0m\u001b[0mvalues\u001b[0m\u001b[0;34m,\u001b[0m \u001b[0mdtype\u001b[0m\u001b[0;34m=\u001b[0m\u001b[0mtz_to_dtype\u001b[0m\u001b[0;34m(\u001b[0m\u001b[0mtz\u001b[0m\u001b[0;34m)\u001b[0m\u001b[0;34m)\u001b[0m\u001b[0;34m\u001b[0m\u001b[0;34m\u001b[0m\u001b[0m\n",
            "\u001b[0;32mpandas/_libs/tslibs/conversion.pyx\u001b[0m in \u001b[0;36mpandas._libs.tslibs.conversion.datetime_to_datetime64\u001b[0;34m()\u001b[0m\n",
            "\u001b[0;31mTypeError\u001b[0m: Unrecognized value type: <class 'str'>",
            "\nDuring handling of the above exception, another exception occurred:\n",
            "\u001b[0;31mValueError\u001b[0m                                Traceback (most recent call last)",
            "\u001b[0;32m<ipython-input-15-294c1e1e0632>\u001b[0m in \u001b[0;36m<module>\u001b[0;34m()\u001b[0m\n\u001b[0;32m----> 1\u001b[0;31m \u001b[0mdf\u001b[0m\u001b[0;34m[\u001b[0m\u001b[0;34m'Order Date'\u001b[0m\u001b[0;34m]\u001b[0m \u001b[0;34m=\u001b[0m \u001b[0mpd\u001b[0m\u001b[0;34m.\u001b[0m\u001b[0mto_datetime\u001b[0m\u001b[0;34m(\u001b[0m\u001b[0mdf\u001b[0m\u001b[0;34m[\u001b[0m\u001b[0;34m'Order Date'\u001b[0m\u001b[0;34m]\u001b[0m\u001b[0;34m,\u001b[0m \u001b[0mformat\u001b[0m\u001b[0;34m=\u001b[0m\u001b[0;34m\"%m/%d/%y %H:%M\"\u001b[0m\u001b[0;34m)\u001b[0m\u001b[0;34m\u001b[0m\u001b[0;34m\u001b[0m\u001b[0m\n\u001b[0m",
            "\u001b[0;32m/usr/local/lib/python3.7/dist-packages/pandas/core/tools/datetimes.py\u001b[0m in \u001b[0;36mto_datetime\u001b[0;34m(arg, errors, dayfirst, yearfirst, utc, format, exact, unit, infer_datetime_format, origin, cache)\u001b[0m\n\u001b[1;32m    801\u001b[0m             \u001b[0mresult\u001b[0m \u001b[0;34m=\u001b[0m \u001b[0marg\u001b[0m\u001b[0;34m.\u001b[0m\u001b[0mmap\u001b[0m\u001b[0;34m(\u001b[0m\u001b[0mcache_array\u001b[0m\u001b[0;34m)\u001b[0m\u001b[0;34m\u001b[0m\u001b[0;34m\u001b[0m\u001b[0m\n\u001b[1;32m    802\u001b[0m         \u001b[0;32melse\u001b[0m\u001b[0;34m:\u001b[0m\u001b[0;34m\u001b[0m\u001b[0;34m\u001b[0m\u001b[0m\n\u001b[0;32m--> 803\u001b[0;31m             \u001b[0mvalues\u001b[0m \u001b[0;34m=\u001b[0m \u001b[0mconvert_listlike\u001b[0m\u001b[0;34m(\u001b[0m\u001b[0marg\u001b[0m\u001b[0;34m.\u001b[0m\u001b[0m_values\u001b[0m\u001b[0;34m,\u001b[0m \u001b[0mformat\u001b[0m\u001b[0;34m)\u001b[0m\u001b[0;34m\u001b[0m\u001b[0;34m\u001b[0m\u001b[0m\n\u001b[0m\u001b[1;32m    804\u001b[0m             \u001b[0mresult\u001b[0m \u001b[0;34m=\u001b[0m \u001b[0marg\u001b[0m\u001b[0;34m.\u001b[0m\u001b[0m_constructor\u001b[0m\u001b[0;34m(\u001b[0m\u001b[0mvalues\u001b[0m\u001b[0;34m,\u001b[0m \u001b[0mindex\u001b[0m\u001b[0;34m=\u001b[0m\u001b[0marg\u001b[0m\u001b[0;34m.\u001b[0m\u001b[0mindex\u001b[0m\u001b[0;34m,\u001b[0m \u001b[0mname\u001b[0m\u001b[0;34m=\u001b[0m\u001b[0marg\u001b[0m\u001b[0;34m.\u001b[0m\u001b[0mname\u001b[0m\u001b[0;34m)\u001b[0m\u001b[0;34m\u001b[0m\u001b[0;34m\u001b[0m\u001b[0m\n\u001b[1;32m    805\u001b[0m     \u001b[0;32melif\u001b[0m \u001b[0misinstance\u001b[0m\u001b[0;34m(\u001b[0m\u001b[0marg\u001b[0m\u001b[0;34m,\u001b[0m \u001b[0;34m(\u001b[0m\u001b[0mABCDataFrame\u001b[0m\u001b[0;34m,\u001b[0m \u001b[0mabc\u001b[0m\u001b[0;34m.\u001b[0m\u001b[0mMutableMapping\u001b[0m\u001b[0;34m)\u001b[0m\u001b[0;34m)\u001b[0m\u001b[0;34m:\u001b[0m\u001b[0;34m\u001b[0m\u001b[0;34m\u001b[0m\u001b[0m\n",
            "\u001b[0;32m/usr/local/lib/python3.7/dist-packages/pandas/core/tools/datetimes.py\u001b[0m in \u001b[0;36m_convert_listlike_datetimes\u001b[0;34m(arg, format, name, tz, unit, errors, infer_datetime_format, dayfirst, yearfirst, exact)\u001b[0m\n\u001b[1;32m    452\u001b[0m                 \u001b[0;32mreturn\u001b[0m \u001b[0mDatetimeIndex\u001b[0m\u001b[0;34m.\u001b[0m\u001b[0m_simple_new\u001b[0m\u001b[0;34m(\u001b[0m\u001b[0mdta\u001b[0m\u001b[0;34m,\u001b[0m \u001b[0mname\u001b[0m\u001b[0;34m=\u001b[0m\u001b[0mname\u001b[0m\u001b[0;34m)\u001b[0m\u001b[0;34m\u001b[0m\u001b[0;34m\u001b[0m\u001b[0m\n\u001b[1;32m    453\u001b[0m             \u001b[0;32mexcept\u001b[0m \u001b[0;34m(\u001b[0m\u001b[0mValueError\u001b[0m\u001b[0;34m,\u001b[0m \u001b[0mTypeError\u001b[0m\u001b[0;34m)\u001b[0m\u001b[0;34m:\u001b[0m\u001b[0;34m\u001b[0m\u001b[0;34m\u001b[0m\u001b[0m\n\u001b[0;32m--> 454\u001b[0;31m                 \u001b[0;32mraise\u001b[0m \u001b[0me\u001b[0m\u001b[0;34m\u001b[0m\u001b[0;34m\u001b[0m\u001b[0m\n\u001b[0m\u001b[1;32m    455\u001b[0m \u001b[0;34m\u001b[0m\u001b[0m\n\u001b[1;32m    456\u001b[0m     \u001b[0;32mif\u001b[0m \u001b[0mresult\u001b[0m \u001b[0;32mis\u001b[0m \u001b[0;32mNone\u001b[0m\u001b[0;34m:\u001b[0m\u001b[0;34m\u001b[0m\u001b[0;34m\u001b[0m\u001b[0m\n",
            "\u001b[0;32m/usr/local/lib/python3.7/dist-packages/pandas/core/tools/datetimes.py\u001b[0m in \u001b[0;36m_convert_listlike_datetimes\u001b[0;34m(arg, format, name, tz, unit, errors, infer_datetime_format, dayfirst, yearfirst, exact)\u001b[0m\n\u001b[1;32m    416\u001b[0m                 \u001b[0;32mtry\u001b[0m\u001b[0;34m:\u001b[0m\u001b[0;34m\u001b[0m\u001b[0;34m\u001b[0m\u001b[0m\n\u001b[1;32m    417\u001b[0m                     result, timezones = array_strptime(\n\u001b[0;32m--> 418\u001b[0;31m                         \u001b[0marg\u001b[0m\u001b[0;34m,\u001b[0m \u001b[0mformat\u001b[0m\u001b[0;34m,\u001b[0m \u001b[0mexact\u001b[0m\u001b[0;34m=\u001b[0m\u001b[0mexact\u001b[0m\u001b[0;34m,\u001b[0m \u001b[0merrors\u001b[0m\u001b[0;34m=\u001b[0m\u001b[0merrors\u001b[0m\u001b[0;34m\u001b[0m\u001b[0;34m\u001b[0m\u001b[0m\n\u001b[0m\u001b[1;32m    419\u001b[0m                     )\n\u001b[1;32m    420\u001b[0m                     \u001b[0;32mif\u001b[0m \u001b[0;34m\"%Z\"\u001b[0m \u001b[0;32min\u001b[0m \u001b[0mformat\u001b[0m \u001b[0;32mor\u001b[0m \u001b[0;34m\"%z\"\u001b[0m \u001b[0;32min\u001b[0m \u001b[0mformat\u001b[0m\u001b[0;34m:\u001b[0m\u001b[0;34m\u001b[0m\u001b[0;34m\u001b[0m\u001b[0m\n",
            "\u001b[0;32mpandas/_libs/tslibs/strptime.pyx\u001b[0m in \u001b[0;36mpandas._libs.tslibs.strptime.array_strptime\u001b[0;34m()\u001b[0m\n",
            "\u001b[0;31mValueError\u001b[0m: time data 'Order Date' does not match format '%m/%d/%y %H:%M' (match)"
          ]
        }
      ]
    },
    {
      "cell_type": "markdown",
      "metadata": {
        "id": "YxocAGs3JAp0"
      },
      "source": [
        "We still get the same error. Note that the purpose of parsing the `Order Date` column into the datetime type is to extract month from the column. In order to zero in on what might be the core reason of the above error, we look for alternative ways to separate the month from the `Order Date` column. Simple way is to extract month string (initial 2 characters) from the column. "
      ]
    },
    {
      "cell_type": "code",
      "metadata": {
        "id": "IySIgmtJIZp6"
      },
      "source": [
        "df['Month'] = df['Order Date'].str[:2]"
      ],
      "execution_count": 16,
      "outputs": []
    },
    {
      "cell_type": "code",
      "metadata": {
        "colab": {
          "base_uri": "https://localhost:8080/",
          "height": 206
        },
        "id": "_jGKmUGEKJXC",
        "outputId": "9278bdbd-5a1e-481b-b22e-22a034aab9a2"
      },
      "source": [
        "display(df.head())"
      ],
      "execution_count": 18,
      "outputs": [
        {
          "output_type": "display_data",
          "data": {
            "text/html": [
              "<div>\n",
              "<style scoped>\n",
              "    .dataframe tbody tr th:only-of-type {\n",
              "        vertical-align: middle;\n",
              "    }\n",
              "\n",
              "    .dataframe tbody tr th {\n",
              "        vertical-align: top;\n",
              "    }\n",
              "\n",
              "    .dataframe thead th {\n",
              "        text-align: right;\n",
              "    }\n",
              "</style>\n",
              "<table border=\"1\" class=\"dataframe\">\n",
              "  <thead>\n",
              "    <tr style=\"text-align: right;\">\n",
              "      <th></th>\n",
              "      <th>Order ID</th>\n",
              "      <th>Product</th>\n",
              "      <th>Quantity Ordered</th>\n",
              "      <th>Price Each</th>\n",
              "      <th>Order Date</th>\n",
              "      <th>Purchase Address</th>\n",
              "      <th>Month</th>\n",
              "    </tr>\n",
              "  </thead>\n",
              "  <tbody>\n",
              "    <tr>\n",
              "      <th>0</th>\n",
              "      <td>222910</td>\n",
              "      <td>Apple Airpods Headphones</td>\n",
              "      <td>1</td>\n",
              "      <td>150</td>\n",
              "      <td>07/26/19 16:51</td>\n",
              "      <td>389 South St, Atlanta, GA 30301</td>\n",
              "      <td>07</td>\n",
              "    </tr>\n",
              "    <tr>\n",
              "      <th>1</th>\n",
              "      <td>222911</td>\n",
              "      <td>Flatscreen TV</td>\n",
              "      <td>1</td>\n",
              "      <td>300</td>\n",
              "      <td>07/05/19 08:55</td>\n",
              "      <td>590 4th St, Seattle, WA 98101</td>\n",
              "      <td>07</td>\n",
              "    </tr>\n",
              "    <tr>\n",
              "      <th>2</th>\n",
              "      <td>222912</td>\n",
              "      <td>AA Batteries (4-pack)</td>\n",
              "      <td>1</td>\n",
              "      <td>3.84</td>\n",
              "      <td>07/29/19 12:41</td>\n",
              "      <td>861 Hill St, Atlanta, GA 30301</td>\n",
              "      <td>07</td>\n",
              "    </tr>\n",
              "    <tr>\n",
              "      <th>3</th>\n",
              "      <td>222913</td>\n",
              "      <td>AA Batteries (4-pack)</td>\n",
              "      <td>1</td>\n",
              "      <td>3.84</td>\n",
              "      <td>07/28/19 10:15</td>\n",
              "      <td>190 Ridge St, Atlanta, GA 30301</td>\n",
              "      <td>07</td>\n",
              "    </tr>\n",
              "    <tr>\n",
              "      <th>4</th>\n",
              "      <td>222914</td>\n",
              "      <td>AAA Batteries (4-pack)</td>\n",
              "      <td>5</td>\n",
              "      <td>2.99</td>\n",
              "      <td>07/31/19 02:13</td>\n",
              "      <td>824 Forest St, Seattle, WA 98101</td>\n",
              "      <td>07</td>\n",
              "    </tr>\n",
              "  </tbody>\n",
              "</table>\n",
              "</div>"
            ],
            "text/plain": [
              "  Order ID                   Product Quantity Ordered Price Each  \\\n",
              "0   222910  Apple Airpods Headphones                1        150   \n",
              "1   222911             Flatscreen TV                1        300   \n",
              "2   222912     AA Batteries (4-pack)                1       3.84   \n",
              "3   222913     AA Batteries (4-pack)                1       3.84   \n",
              "4   222914    AAA Batteries (4-pack)                5       2.99   \n",
              "\n",
              "       Order Date                  Purchase Address Month  \n",
              "0  07/26/19 16:51   389 South St, Atlanta, GA 30301    07  \n",
              "1  07/05/19 08:55     590 4th St, Seattle, WA 98101    07  \n",
              "2  07/29/19 12:41    861 Hill St, Atlanta, GA 30301    07  \n",
              "3  07/28/19 10:15   190 Ridge St, Atlanta, GA 30301    07  \n",
              "4  07/31/19 02:13  824 Forest St, Seattle, WA 98101    07  "
            ]
          },
          "metadata": {}
        }
      ]
    },
    {
      "cell_type": "markdown",
      "metadata": {
        "id": "zyxD62_oKiyz"
      },
      "source": [
        "The month column here is a string type. We now attempt to convert it to integer type."
      ]
    },
    {
      "cell_type": "code",
      "metadata": {
        "colab": {
          "base_uri": "https://localhost:8080/",
          "height": 348
        },
        "id": "jjHHcU-fKcFx",
        "outputId": "fa72cddc-0f24-4513-cf2c-5541301dd525"
      },
      "source": [
        "df['Month'] = df['Month'].astype('int32')"
      ],
      "execution_count": 19,
      "outputs": [
        {
          "output_type": "error",
          "ename": "ValueError",
          "evalue": "ignored",
          "traceback": [
            "\u001b[0;31m---------------------------------------------------------------------------\u001b[0m",
            "\u001b[0;31mValueError\u001b[0m                                Traceback (most recent call last)",
            "\u001b[0;32m<ipython-input-19-9167c44faee7>\u001b[0m in \u001b[0;36m<module>\u001b[0;34m()\u001b[0m\n\u001b[0;32m----> 1\u001b[0;31m \u001b[0mdf\u001b[0m\u001b[0;34m[\u001b[0m\u001b[0;34m'Month'\u001b[0m\u001b[0;34m]\u001b[0m \u001b[0;34m=\u001b[0m \u001b[0mdf\u001b[0m\u001b[0;34m[\u001b[0m\u001b[0;34m'Month'\u001b[0m\u001b[0;34m]\u001b[0m\u001b[0;34m.\u001b[0m\u001b[0mastype\u001b[0m\u001b[0;34m(\u001b[0m\u001b[0;34m'int32'\u001b[0m\u001b[0;34m)\u001b[0m\u001b[0;34m\u001b[0m\u001b[0;34m\u001b[0m\u001b[0m\n\u001b[0m",
            "\u001b[0;32m/usr/local/lib/python3.7/dist-packages/pandas/core/generic.py\u001b[0m in \u001b[0;36mastype\u001b[0;34m(self, dtype, copy, errors)\u001b[0m\n\u001b[1;32m   5546\u001b[0m         \u001b[0;32melse\u001b[0m\u001b[0;34m:\u001b[0m\u001b[0;34m\u001b[0m\u001b[0;34m\u001b[0m\u001b[0m\n\u001b[1;32m   5547\u001b[0m             \u001b[0;31m# else, only a single dtype is given\u001b[0m\u001b[0;34m\u001b[0m\u001b[0;34m\u001b[0m\u001b[0;34m\u001b[0m\u001b[0m\n\u001b[0;32m-> 5548\u001b[0;31m             \u001b[0mnew_data\u001b[0m \u001b[0;34m=\u001b[0m \u001b[0mself\u001b[0m\u001b[0;34m.\u001b[0m\u001b[0m_mgr\u001b[0m\u001b[0;34m.\u001b[0m\u001b[0mastype\u001b[0m\u001b[0;34m(\u001b[0m\u001b[0mdtype\u001b[0m\u001b[0;34m=\u001b[0m\u001b[0mdtype\u001b[0m\u001b[0;34m,\u001b[0m \u001b[0mcopy\u001b[0m\u001b[0;34m=\u001b[0m\u001b[0mcopy\u001b[0m\u001b[0;34m,\u001b[0m \u001b[0merrors\u001b[0m\u001b[0;34m=\u001b[0m\u001b[0merrors\u001b[0m\u001b[0;34m,\u001b[0m\u001b[0;34m)\u001b[0m\u001b[0;34m\u001b[0m\u001b[0;34m\u001b[0m\u001b[0m\n\u001b[0m\u001b[1;32m   5549\u001b[0m             \u001b[0;32mreturn\u001b[0m \u001b[0mself\u001b[0m\u001b[0;34m.\u001b[0m\u001b[0m_constructor\u001b[0m\u001b[0;34m(\u001b[0m\u001b[0mnew_data\u001b[0m\u001b[0;34m)\u001b[0m\u001b[0;34m.\u001b[0m\u001b[0m__finalize__\u001b[0m\u001b[0;34m(\u001b[0m\u001b[0mself\u001b[0m\u001b[0;34m,\u001b[0m \u001b[0mmethod\u001b[0m\u001b[0;34m=\u001b[0m\u001b[0;34m\"astype\"\u001b[0m\u001b[0;34m)\u001b[0m\u001b[0;34m\u001b[0m\u001b[0;34m\u001b[0m\u001b[0m\n\u001b[1;32m   5550\u001b[0m \u001b[0;34m\u001b[0m\u001b[0m\n",
            "\u001b[0;32m/usr/local/lib/python3.7/dist-packages/pandas/core/internals/managers.py\u001b[0m in \u001b[0;36mastype\u001b[0;34m(self, dtype, copy, errors)\u001b[0m\n\u001b[1;32m    602\u001b[0m         \u001b[0mself\u001b[0m\u001b[0;34m,\u001b[0m \u001b[0mdtype\u001b[0m\u001b[0;34m,\u001b[0m \u001b[0mcopy\u001b[0m\u001b[0;34m:\u001b[0m \u001b[0mbool\u001b[0m \u001b[0;34m=\u001b[0m \u001b[0;32mFalse\u001b[0m\u001b[0;34m,\u001b[0m \u001b[0merrors\u001b[0m\u001b[0;34m:\u001b[0m \u001b[0mstr\u001b[0m \u001b[0;34m=\u001b[0m \u001b[0;34m\"raise\"\u001b[0m\u001b[0;34m\u001b[0m\u001b[0;34m\u001b[0m\u001b[0m\n\u001b[1;32m    603\u001b[0m     ) -> \"BlockManager\":\n\u001b[0;32m--> 604\u001b[0;31m         \u001b[0;32mreturn\u001b[0m \u001b[0mself\u001b[0m\u001b[0;34m.\u001b[0m\u001b[0mapply\u001b[0m\u001b[0;34m(\u001b[0m\u001b[0;34m\"astype\"\u001b[0m\u001b[0;34m,\u001b[0m \u001b[0mdtype\u001b[0m\u001b[0;34m=\u001b[0m\u001b[0mdtype\u001b[0m\u001b[0;34m,\u001b[0m \u001b[0mcopy\u001b[0m\u001b[0;34m=\u001b[0m\u001b[0mcopy\u001b[0m\u001b[0;34m,\u001b[0m \u001b[0merrors\u001b[0m\u001b[0;34m=\u001b[0m\u001b[0merrors\u001b[0m\u001b[0;34m)\u001b[0m\u001b[0;34m\u001b[0m\u001b[0;34m\u001b[0m\u001b[0m\n\u001b[0m\u001b[1;32m    605\u001b[0m \u001b[0;34m\u001b[0m\u001b[0m\n\u001b[1;32m    606\u001b[0m     def convert(\n",
            "\u001b[0;32m/usr/local/lib/python3.7/dist-packages/pandas/core/internals/managers.py\u001b[0m in \u001b[0;36mapply\u001b[0;34m(self, f, align_keys, **kwargs)\u001b[0m\n\u001b[1;32m    407\u001b[0m                 \u001b[0mapplied\u001b[0m \u001b[0;34m=\u001b[0m \u001b[0mb\u001b[0m\u001b[0;34m.\u001b[0m\u001b[0mapply\u001b[0m\u001b[0;34m(\u001b[0m\u001b[0mf\u001b[0m\u001b[0;34m,\u001b[0m \u001b[0;34m**\u001b[0m\u001b[0mkwargs\u001b[0m\u001b[0;34m)\u001b[0m\u001b[0;34m\u001b[0m\u001b[0;34m\u001b[0m\u001b[0m\n\u001b[1;32m    408\u001b[0m             \u001b[0;32melse\u001b[0m\u001b[0;34m:\u001b[0m\u001b[0;34m\u001b[0m\u001b[0;34m\u001b[0m\u001b[0m\n\u001b[0;32m--> 409\u001b[0;31m                 \u001b[0mapplied\u001b[0m \u001b[0;34m=\u001b[0m \u001b[0mgetattr\u001b[0m\u001b[0;34m(\u001b[0m\u001b[0mb\u001b[0m\u001b[0;34m,\u001b[0m \u001b[0mf\u001b[0m\u001b[0;34m)\u001b[0m\u001b[0;34m(\u001b[0m\u001b[0;34m**\u001b[0m\u001b[0mkwargs\u001b[0m\u001b[0;34m)\u001b[0m\u001b[0;34m\u001b[0m\u001b[0;34m\u001b[0m\u001b[0m\n\u001b[0m\u001b[1;32m    410\u001b[0m             \u001b[0mresult_blocks\u001b[0m \u001b[0;34m=\u001b[0m \u001b[0m_extend_blocks\u001b[0m\u001b[0;34m(\u001b[0m\u001b[0mapplied\u001b[0m\u001b[0;34m,\u001b[0m \u001b[0mresult_blocks\u001b[0m\u001b[0;34m)\u001b[0m\u001b[0;34m\u001b[0m\u001b[0;34m\u001b[0m\u001b[0m\n\u001b[1;32m    411\u001b[0m \u001b[0;34m\u001b[0m\u001b[0m\n",
            "\u001b[0;32m/usr/local/lib/python3.7/dist-packages/pandas/core/internals/blocks.py\u001b[0m in \u001b[0;36mastype\u001b[0;34m(self, dtype, copy, errors)\u001b[0m\n\u001b[1;32m    593\u001b[0m             \u001b[0mvals1d\u001b[0m \u001b[0;34m=\u001b[0m \u001b[0mvalues\u001b[0m\u001b[0;34m.\u001b[0m\u001b[0mravel\u001b[0m\u001b[0;34m(\u001b[0m\u001b[0;34m)\u001b[0m\u001b[0;34m\u001b[0m\u001b[0;34m\u001b[0m\u001b[0m\n\u001b[1;32m    594\u001b[0m             \u001b[0;32mtry\u001b[0m\u001b[0;34m:\u001b[0m\u001b[0;34m\u001b[0m\u001b[0;34m\u001b[0m\u001b[0m\n\u001b[0;32m--> 595\u001b[0;31m                 \u001b[0mvalues\u001b[0m \u001b[0;34m=\u001b[0m \u001b[0mastype_nansafe\u001b[0m\u001b[0;34m(\u001b[0m\u001b[0mvals1d\u001b[0m\u001b[0;34m,\u001b[0m \u001b[0mdtype\u001b[0m\u001b[0;34m,\u001b[0m \u001b[0mcopy\u001b[0m\u001b[0;34m=\u001b[0m\u001b[0;32mTrue\u001b[0m\u001b[0;34m)\u001b[0m\u001b[0;34m\u001b[0m\u001b[0;34m\u001b[0m\u001b[0m\n\u001b[0m\u001b[1;32m    596\u001b[0m             \u001b[0;32mexcept\u001b[0m \u001b[0;34m(\u001b[0m\u001b[0mValueError\u001b[0m\u001b[0;34m,\u001b[0m \u001b[0mTypeError\u001b[0m\u001b[0;34m)\u001b[0m\u001b[0;34m:\u001b[0m\u001b[0;34m\u001b[0m\u001b[0;34m\u001b[0m\u001b[0m\n\u001b[1;32m    597\u001b[0m                 \u001b[0;31m# e.g. astype_nansafe can fail on object-dtype of strings\u001b[0m\u001b[0;34m\u001b[0m\u001b[0;34m\u001b[0m\u001b[0;34m\u001b[0m\u001b[0m\n",
            "\u001b[0;32m/usr/local/lib/python3.7/dist-packages/pandas/core/dtypes/cast.py\u001b[0m in \u001b[0;36mastype_nansafe\u001b[0;34m(arr, dtype, copy, skipna)\u001b[0m\n\u001b[1;32m    972\u001b[0m         \u001b[0;31m# work around NumPy brokenness, #1987\u001b[0m\u001b[0;34m\u001b[0m\u001b[0;34m\u001b[0m\u001b[0;34m\u001b[0m\u001b[0m\n\u001b[1;32m    973\u001b[0m         \u001b[0;32mif\u001b[0m \u001b[0mnp\u001b[0m\u001b[0;34m.\u001b[0m\u001b[0missubdtype\u001b[0m\u001b[0;34m(\u001b[0m\u001b[0mdtype\u001b[0m\u001b[0;34m.\u001b[0m\u001b[0mtype\u001b[0m\u001b[0;34m,\u001b[0m \u001b[0mnp\u001b[0m\u001b[0;34m.\u001b[0m\u001b[0minteger\u001b[0m\u001b[0;34m)\u001b[0m\u001b[0;34m:\u001b[0m\u001b[0;34m\u001b[0m\u001b[0;34m\u001b[0m\u001b[0m\n\u001b[0;32m--> 974\u001b[0;31m             \u001b[0;32mreturn\u001b[0m \u001b[0mlib\u001b[0m\u001b[0;34m.\u001b[0m\u001b[0mastype_intsafe\u001b[0m\u001b[0;34m(\u001b[0m\u001b[0marr\u001b[0m\u001b[0;34m.\u001b[0m\u001b[0mravel\u001b[0m\u001b[0;34m(\u001b[0m\u001b[0;34m)\u001b[0m\u001b[0;34m,\u001b[0m \u001b[0mdtype\u001b[0m\u001b[0;34m)\u001b[0m\u001b[0;34m.\u001b[0m\u001b[0mreshape\u001b[0m\u001b[0;34m(\u001b[0m\u001b[0marr\u001b[0m\u001b[0;34m.\u001b[0m\u001b[0mshape\u001b[0m\u001b[0;34m)\u001b[0m\u001b[0;34m\u001b[0m\u001b[0;34m\u001b[0m\u001b[0m\n\u001b[0m\u001b[1;32m    975\u001b[0m \u001b[0;34m\u001b[0m\u001b[0m\n\u001b[1;32m    976\u001b[0m         \u001b[0;31m# if we have a datetime/timedelta array of objects\u001b[0m\u001b[0;34m\u001b[0m\u001b[0;34m\u001b[0m\u001b[0;34m\u001b[0m\u001b[0m\n",
            "\u001b[0;32mpandas/_libs/lib.pyx\u001b[0m in \u001b[0;36mpandas._libs.lib.astype_intsafe\u001b[0;34m()\u001b[0m\n",
            "\u001b[0;31mValueError\u001b[0m: invalid literal for int() with base 10: 'Or'"
          ]
        }
      ]
    },
    {
      "cell_type": "markdown",
      "metadata": {
        "id": "4PbtPQPXK8KX"
      },
      "source": [
        "The error recieved above gives more detailed picture of the reason behind the error on line 94. There are some entries in the `Month` column that are `Or` which is not numeric and therefore causing trouble in conversion to integer type. Let's see it clearly."
      ]
    },
    {
      "cell_type": "code",
      "metadata": {
        "colab": {
          "base_uri": "https://localhost:8080/",
          "height": 424
        },
        "id": "XD57LAvQK6Yu",
        "outputId": "15ec961a-4128-4ca4-a660-37264f13d074"
      },
      "source": [
        "display(df[df['Month'] == 'Or'])"
      ],
      "execution_count": 21,
      "outputs": [
        {
          "output_type": "display_data",
          "data": {
            "text/html": [
              "<div>\n",
              "<style scoped>\n",
              "    .dataframe tbody tr th:only-of-type {\n",
              "        vertical-align: middle;\n",
              "    }\n",
              "\n",
              "    .dataframe tbody tr th {\n",
              "        vertical-align: top;\n",
              "    }\n",
              "\n",
              "    .dataframe thead th {\n",
              "        text-align: right;\n",
              "    }\n",
              "</style>\n",
              "<table border=\"1\" class=\"dataframe\">\n",
              "  <thead>\n",
              "    <tr style=\"text-align: right;\">\n",
              "      <th></th>\n",
              "      <th>Order ID</th>\n",
              "      <th>Product</th>\n",
              "      <th>Quantity Ordered</th>\n",
              "      <th>Price Each</th>\n",
              "      <th>Order Date</th>\n",
              "      <th>Purchase Address</th>\n",
              "      <th>Month</th>\n",
              "    </tr>\n",
              "  </thead>\n",
              "  <tbody>\n",
              "    <tr>\n",
              "      <th>775</th>\n",
              "      <td>Order ID</td>\n",
              "      <td>Product</td>\n",
              "      <td>Quantity Ordered</td>\n",
              "      <td>Price Each</td>\n",
              "      <td>Order Date</td>\n",
              "      <td>Purchase Address</td>\n",
              "      <td>Or</td>\n",
              "    </tr>\n",
              "    <tr>\n",
              "      <th>1391</th>\n",
              "      <td>Order ID</td>\n",
              "      <td>Product</td>\n",
              "      <td>Quantity Ordered</td>\n",
              "      <td>Price Each</td>\n",
              "      <td>Order Date</td>\n",
              "      <td>Purchase Address</td>\n",
              "      <td>Or</td>\n",
              "    </tr>\n",
              "    <tr>\n",
              "      <th>1438</th>\n",
              "      <td>Order ID</td>\n",
              "      <td>Product</td>\n",
              "      <td>Quantity Ordered</td>\n",
              "      <td>Price Each</td>\n",
              "      <td>Order Date</td>\n",
              "      <td>Purchase Address</td>\n",
              "      <td>Or</td>\n",
              "    </tr>\n",
              "    <tr>\n",
              "      <th>1624</th>\n",
              "      <td>Order ID</td>\n",
              "      <td>Product</td>\n",
              "      <td>Quantity Ordered</td>\n",
              "      <td>Price Each</td>\n",
              "      <td>Order Date</td>\n",
              "      <td>Purchase Address</td>\n",
              "      <td>Or</td>\n",
              "    </tr>\n",
              "    <tr>\n",
              "      <th>1720</th>\n",
              "      <td>Order ID</td>\n",
              "      <td>Product</td>\n",
              "      <td>Quantity Ordered</td>\n",
              "      <td>Price Each</td>\n",
              "      <td>Order Date</td>\n",
              "      <td>Purchase Address</td>\n",
              "      <td>Or</td>\n",
              "    </tr>\n",
              "    <tr>\n",
              "      <th>...</th>\n",
              "      <td>...</td>\n",
              "      <td>...</td>\n",
              "      <td>...</td>\n",
              "      <td>...</td>\n",
              "      <td>...</td>\n",
              "      <td>...</td>\n",
              "      <td>...</td>\n",
              "    </tr>\n",
              "    <tr>\n",
              "      <th>23198</th>\n",
              "      <td>Order ID</td>\n",
              "      <td>Product</td>\n",
              "      <td>Quantity Ordered</td>\n",
              "      <td>Price Each</td>\n",
              "      <td>Order Date</td>\n",
              "      <td>Purchase Address</td>\n",
              "      <td>Or</td>\n",
              "    </tr>\n",
              "    <tr>\n",
              "      <th>23337</th>\n",
              "      <td>Order ID</td>\n",
              "      <td>Product</td>\n",
              "      <td>Quantity Ordered</td>\n",
              "      <td>Price Each</td>\n",
              "      <td>Order Date</td>\n",
              "      <td>Purchase Address</td>\n",
              "      <td>Or</td>\n",
              "    </tr>\n",
              "    <tr>\n",
              "      <th>23748</th>\n",
              "      <td>Order ID</td>\n",
              "      <td>Product</td>\n",
              "      <td>Quantity Ordered</td>\n",
              "      <td>Price Each</td>\n",
              "      <td>Order Date</td>\n",
              "      <td>Purchase Address</td>\n",
              "      <td>Or</td>\n",
              "    </tr>\n",
              "    <tr>\n",
              "      <th>24192</th>\n",
              "      <td>Order ID</td>\n",
              "      <td>Product</td>\n",
              "      <td>Quantity Ordered</td>\n",
              "      <td>Price Each</td>\n",
              "      <td>Order Date</td>\n",
              "      <td>Purchase Address</td>\n",
              "      <td>Or</td>\n",
              "    </tr>\n",
              "    <tr>\n",
              "      <th>24222</th>\n",
              "      <td>Order ID</td>\n",
              "      <td>Product</td>\n",
              "      <td>Quantity Ordered</td>\n",
              "      <td>Price Each</td>\n",
              "      <td>Order Date</td>\n",
              "      <td>Purchase Address</td>\n",
              "      <td>Or</td>\n",
              "    </tr>\n",
              "  </tbody>\n",
              "</table>\n",
              "<p>355 rows × 7 columns</p>\n",
              "</div>"
            ],
            "text/plain": [
              "       Order ID  Product  Quantity Ordered  Price Each  Order Date  \\\n",
              "775    Order ID  Product  Quantity Ordered  Price Each  Order Date   \n",
              "1391   Order ID  Product  Quantity Ordered  Price Each  Order Date   \n",
              "1438   Order ID  Product  Quantity Ordered  Price Each  Order Date   \n",
              "1624   Order ID  Product  Quantity Ordered  Price Each  Order Date   \n",
              "1720   Order ID  Product  Quantity Ordered  Price Each  Order Date   \n",
              "...         ...      ...               ...         ...         ...   \n",
              "23198  Order ID  Product  Quantity Ordered  Price Each  Order Date   \n",
              "23337  Order ID  Product  Quantity Ordered  Price Each  Order Date   \n",
              "23748  Order ID  Product  Quantity Ordered  Price Each  Order Date   \n",
              "24192  Order ID  Product  Quantity Ordered  Price Each  Order Date   \n",
              "24222  Order ID  Product  Quantity Ordered  Price Each  Order Date   \n",
              "\n",
              "       Purchase Address Month  \n",
              "775    Purchase Address    Or  \n",
              "1391   Purchase Address    Or  \n",
              "1438   Purchase Address    Or  \n",
              "1624   Purchase Address    Or  \n",
              "1720   Purchase Address    Or  \n",
              "...                 ...   ...  \n",
              "23198  Purchase Address    Or  \n",
              "23337  Purchase Address    Or  \n",
              "23748  Purchase Address    Or  \n",
              "24192  Purchase Address    Or  \n",
              "24222  Purchase Address    Or  \n",
              "\n",
              "[355 rows x 7 columns]"
            ]
          },
          "metadata": {}
        }
      ]
    },
    {
      "cell_type": "markdown",
      "metadata": {
        "id": "mQ-2qCN4Lxd7"
      },
      "source": [
        "As can be seen, there are 355 rows with this issue. We remove these entries by doing the following assignment."
      ]
    },
    {
      "cell_type": "code",
      "metadata": {
        "id": "3C7HyPOYLvQY"
      },
      "source": [
        "df = df[df['Month'] != 'Or']"
      ],
      "execution_count": 22,
      "outputs": []
    },
    {
      "cell_type": "markdown",
      "metadata": {
        "id": "_TEmRQATMw07"
      },
      "source": [
        "Let's now try again the same assignment in line 94, i.e., parsing the `Order Date` as datetime type. While we already have `Month` column extracted, we try its conversion to integer datatype again."
      ]
    },
    {
      "cell_type": "code",
      "metadata": {
        "id": "VkC_sqhgMcjV"
      },
      "source": [
        "df['Order Date'] = pd.to_datetime(df['Order Date'], format=\"%m/%d/%y %H:%M\")"
      ],
      "execution_count": 23,
      "outputs": []
    },
    {
      "cell_type": "code",
      "metadata": {
        "id": "CesT4_jNMrBY"
      },
      "source": [
        "df['Month'] = df['Month'].astype('int64')"
      ],
      "execution_count": 24,
      "outputs": []
    },
    {
      "cell_type": "code",
      "metadata": {
        "id": "wANrC5ehNRRg"
      },
      "source": [
        "df.rename(columns={'Month':'Order Month'}, inplace=True)"
      ],
      "execution_count": 25,
      "outputs": []
    },
    {
      "cell_type": "markdown",
      "metadata": {
        "id": "5wciLTZPODbZ"
      },
      "source": [
        "We now revisit the question 1. In order to evaluate the sales value, we need to multiply `Quantity Ordered` by `Price Each`. Let's create the `Sales` column."
      ]
    },
    {
      "cell_type": "code",
      "metadata": {
        "colab": {
          "base_uri": "https://localhost:8080/",
          "height": 434
        },
        "id": "j-yGyjpQNp3V",
        "outputId": "ec6f489f-eba5-435d-ded7-d2079a005569"
      },
      "source": [
        "df['Sales'] = df['Quantity Ordered']*df['Price Each']"
      ],
      "execution_count": 26,
      "outputs": [
        {
          "output_type": "error",
          "ename": "TypeError",
          "evalue": "ignored",
          "traceback": [
            "\u001b[0;31m---------------------------------------------------------------------------\u001b[0m",
            "\u001b[0;31mTypeError\u001b[0m                                 Traceback (most recent call last)",
            "\u001b[0;32m/usr/local/lib/python3.7/dist-packages/pandas/core/ops/array_ops.py\u001b[0m in \u001b[0;36mna_arithmetic_op\u001b[0;34m(left, right, op, is_cmp)\u001b[0m\n\u001b[1;32m    142\u001b[0m     \u001b[0;32mtry\u001b[0m\u001b[0;34m:\u001b[0m\u001b[0;34m\u001b[0m\u001b[0;34m\u001b[0m\u001b[0m\n\u001b[0;32m--> 143\u001b[0;31m         \u001b[0mresult\u001b[0m \u001b[0;34m=\u001b[0m \u001b[0mexpressions\u001b[0m\u001b[0;34m.\u001b[0m\u001b[0mevaluate\u001b[0m\u001b[0;34m(\u001b[0m\u001b[0mop\u001b[0m\u001b[0;34m,\u001b[0m \u001b[0mleft\u001b[0m\u001b[0;34m,\u001b[0m \u001b[0mright\u001b[0m\u001b[0;34m)\u001b[0m\u001b[0;34m\u001b[0m\u001b[0;34m\u001b[0m\u001b[0m\n\u001b[0m\u001b[1;32m    144\u001b[0m     \u001b[0;32mexcept\u001b[0m \u001b[0mTypeError\u001b[0m\u001b[0;34m:\u001b[0m\u001b[0;34m\u001b[0m\u001b[0;34m\u001b[0m\u001b[0m\n",
            "\u001b[0;32m/usr/local/lib/python3.7/dist-packages/pandas/core/computation/expressions.py\u001b[0m in \u001b[0;36mevaluate\u001b[0;34m(op, a, b, use_numexpr)\u001b[0m\n\u001b[1;32m    232\u001b[0m         \u001b[0;32mif\u001b[0m \u001b[0muse_numexpr\u001b[0m\u001b[0;34m:\u001b[0m\u001b[0;34m\u001b[0m\u001b[0;34m\u001b[0m\u001b[0m\n\u001b[0;32m--> 233\u001b[0;31m             \u001b[0;32mreturn\u001b[0m \u001b[0m_evaluate\u001b[0m\u001b[0;34m(\u001b[0m\u001b[0mop\u001b[0m\u001b[0;34m,\u001b[0m \u001b[0mop_str\u001b[0m\u001b[0;34m,\u001b[0m \u001b[0ma\u001b[0m\u001b[0;34m,\u001b[0m \u001b[0mb\u001b[0m\u001b[0;34m)\u001b[0m  \u001b[0;31m# type: ignore\u001b[0m\u001b[0;34m\u001b[0m\u001b[0;34m\u001b[0m\u001b[0m\n\u001b[0m\u001b[1;32m    234\u001b[0m     \u001b[0;32mreturn\u001b[0m \u001b[0m_evaluate_standard\u001b[0m\u001b[0;34m(\u001b[0m\u001b[0mop\u001b[0m\u001b[0;34m,\u001b[0m \u001b[0mop_str\u001b[0m\u001b[0;34m,\u001b[0m \u001b[0ma\u001b[0m\u001b[0;34m,\u001b[0m \u001b[0mb\u001b[0m\u001b[0;34m)\u001b[0m\u001b[0;34m\u001b[0m\u001b[0;34m\u001b[0m\u001b[0m\n",
            "\u001b[0;32m/usr/local/lib/python3.7/dist-packages/pandas/core/computation/expressions.py\u001b[0m in \u001b[0;36m_evaluate_numexpr\u001b[0;34m(op, op_str, a, b)\u001b[0m\n\u001b[1;32m    118\u001b[0m     \u001b[0;32mif\u001b[0m \u001b[0mresult\u001b[0m \u001b[0;32mis\u001b[0m \u001b[0;32mNone\u001b[0m\u001b[0;34m:\u001b[0m\u001b[0;34m\u001b[0m\u001b[0;34m\u001b[0m\u001b[0m\n\u001b[0;32m--> 119\u001b[0;31m         \u001b[0mresult\u001b[0m \u001b[0;34m=\u001b[0m \u001b[0m_evaluate_standard\u001b[0m\u001b[0;34m(\u001b[0m\u001b[0mop\u001b[0m\u001b[0;34m,\u001b[0m \u001b[0mop_str\u001b[0m\u001b[0;34m,\u001b[0m \u001b[0ma\u001b[0m\u001b[0;34m,\u001b[0m \u001b[0mb\u001b[0m\u001b[0;34m)\u001b[0m\u001b[0;34m\u001b[0m\u001b[0;34m\u001b[0m\u001b[0m\n\u001b[0m\u001b[1;32m    120\u001b[0m \u001b[0;34m\u001b[0m\u001b[0m\n",
            "\u001b[0;32m/usr/local/lib/python3.7/dist-packages/pandas/core/computation/expressions.py\u001b[0m in \u001b[0;36m_evaluate_standard\u001b[0;34m(op, op_str, a, b)\u001b[0m\n\u001b[1;32m     67\u001b[0m     \u001b[0;32mwith\u001b[0m \u001b[0mnp\u001b[0m\u001b[0;34m.\u001b[0m\u001b[0merrstate\u001b[0m\u001b[0;34m(\u001b[0m\u001b[0mall\u001b[0m\u001b[0;34m=\u001b[0m\u001b[0;34m\"ignore\"\u001b[0m\u001b[0;34m)\u001b[0m\u001b[0;34m:\u001b[0m\u001b[0;34m\u001b[0m\u001b[0;34m\u001b[0m\u001b[0m\n\u001b[0;32m---> 68\u001b[0;31m         \u001b[0;32mreturn\u001b[0m \u001b[0mop\u001b[0m\u001b[0;34m(\u001b[0m\u001b[0ma\u001b[0m\u001b[0;34m,\u001b[0m \u001b[0mb\u001b[0m\u001b[0;34m)\u001b[0m\u001b[0;34m\u001b[0m\u001b[0;34m\u001b[0m\u001b[0m\n\u001b[0m\u001b[1;32m     69\u001b[0m \u001b[0;34m\u001b[0m\u001b[0m\n",
            "\u001b[0;31mTypeError\u001b[0m: can't multiply sequence by non-int of type 'str'",
            "\nDuring handling of the above exception, another exception occurred:\n",
            "\u001b[0;31mTypeError\u001b[0m                                 Traceback (most recent call last)",
            "\u001b[0;32m<ipython-input-26-3eed6fd5bfb8>\u001b[0m in \u001b[0;36m<module>\u001b[0;34m()\u001b[0m\n\u001b[0;32m----> 1\u001b[0;31m \u001b[0mdf\u001b[0m\u001b[0;34m[\u001b[0m\u001b[0;34m'Sales'\u001b[0m\u001b[0;34m]\u001b[0m \u001b[0;34m=\u001b[0m \u001b[0mdf\u001b[0m\u001b[0;34m[\u001b[0m\u001b[0;34m'Quantity Ordered'\u001b[0m\u001b[0;34m]\u001b[0m\u001b[0;34m*\u001b[0m\u001b[0mdf\u001b[0m\u001b[0;34m[\u001b[0m\u001b[0;34m'Price Each'\u001b[0m\u001b[0;34m]\u001b[0m\u001b[0;34m\u001b[0m\u001b[0;34m\u001b[0m\u001b[0m\n\u001b[0m",
            "\u001b[0;32m/usr/local/lib/python3.7/dist-packages/pandas/core/ops/common.py\u001b[0m in \u001b[0;36mnew_method\u001b[0;34m(self, other)\u001b[0m\n\u001b[1;32m     63\u001b[0m         \u001b[0mother\u001b[0m \u001b[0;34m=\u001b[0m \u001b[0mitem_from_zerodim\u001b[0m\u001b[0;34m(\u001b[0m\u001b[0mother\u001b[0m\u001b[0;34m)\u001b[0m\u001b[0;34m\u001b[0m\u001b[0;34m\u001b[0m\u001b[0m\n\u001b[1;32m     64\u001b[0m \u001b[0;34m\u001b[0m\u001b[0m\n\u001b[0;32m---> 65\u001b[0;31m         \u001b[0;32mreturn\u001b[0m \u001b[0mmethod\u001b[0m\u001b[0;34m(\u001b[0m\u001b[0mself\u001b[0m\u001b[0;34m,\u001b[0m \u001b[0mother\u001b[0m\u001b[0;34m)\u001b[0m\u001b[0;34m\u001b[0m\u001b[0;34m\u001b[0m\u001b[0m\n\u001b[0m\u001b[1;32m     66\u001b[0m \u001b[0;34m\u001b[0m\u001b[0m\n\u001b[1;32m     67\u001b[0m     \u001b[0;32mreturn\u001b[0m \u001b[0mnew_method\u001b[0m\u001b[0;34m\u001b[0m\u001b[0;34m\u001b[0m\u001b[0m\n",
            "\u001b[0;32m/usr/local/lib/python3.7/dist-packages/pandas/core/ops/__init__.py\u001b[0m in \u001b[0;36mwrapper\u001b[0;34m(left, right)\u001b[0m\n\u001b[1;32m    341\u001b[0m         \u001b[0mlvalues\u001b[0m \u001b[0;34m=\u001b[0m \u001b[0mextract_array\u001b[0m\u001b[0;34m(\u001b[0m\u001b[0mleft\u001b[0m\u001b[0;34m,\u001b[0m \u001b[0mextract_numpy\u001b[0m\u001b[0;34m=\u001b[0m\u001b[0;32mTrue\u001b[0m\u001b[0;34m)\u001b[0m\u001b[0;34m\u001b[0m\u001b[0;34m\u001b[0m\u001b[0m\n\u001b[1;32m    342\u001b[0m         \u001b[0mrvalues\u001b[0m \u001b[0;34m=\u001b[0m \u001b[0mextract_array\u001b[0m\u001b[0;34m(\u001b[0m\u001b[0mright\u001b[0m\u001b[0;34m,\u001b[0m \u001b[0mextract_numpy\u001b[0m\u001b[0;34m=\u001b[0m\u001b[0;32mTrue\u001b[0m\u001b[0;34m)\u001b[0m\u001b[0;34m\u001b[0m\u001b[0;34m\u001b[0m\u001b[0m\n\u001b[0;32m--> 343\u001b[0;31m         \u001b[0mresult\u001b[0m \u001b[0;34m=\u001b[0m \u001b[0marithmetic_op\u001b[0m\u001b[0;34m(\u001b[0m\u001b[0mlvalues\u001b[0m\u001b[0;34m,\u001b[0m \u001b[0mrvalues\u001b[0m\u001b[0;34m,\u001b[0m \u001b[0mop\u001b[0m\u001b[0;34m)\u001b[0m\u001b[0;34m\u001b[0m\u001b[0;34m\u001b[0m\u001b[0m\n\u001b[0m\u001b[1;32m    344\u001b[0m \u001b[0;34m\u001b[0m\u001b[0m\n\u001b[1;32m    345\u001b[0m         \u001b[0;32mreturn\u001b[0m \u001b[0mleft\u001b[0m\u001b[0;34m.\u001b[0m\u001b[0m_construct_result\u001b[0m\u001b[0;34m(\u001b[0m\u001b[0mresult\u001b[0m\u001b[0;34m,\u001b[0m \u001b[0mname\u001b[0m\u001b[0;34m=\u001b[0m\u001b[0mres_name\u001b[0m\u001b[0;34m)\u001b[0m\u001b[0;34m\u001b[0m\u001b[0;34m\u001b[0m\u001b[0m\n",
            "\u001b[0;32m/usr/local/lib/python3.7/dist-packages/pandas/core/ops/array_ops.py\u001b[0m in \u001b[0;36marithmetic_op\u001b[0;34m(left, right, op)\u001b[0m\n\u001b[1;32m    188\u001b[0m     \u001b[0;32melse\u001b[0m\u001b[0;34m:\u001b[0m\u001b[0;34m\u001b[0m\u001b[0;34m\u001b[0m\u001b[0m\n\u001b[1;32m    189\u001b[0m         \u001b[0;32mwith\u001b[0m \u001b[0mnp\u001b[0m\u001b[0;34m.\u001b[0m\u001b[0merrstate\u001b[0m\u001b[0;34m(\u001b[0m\u001b[0mall\u001b[0m\u001b[0;34m=\u001b[0m\u001b[0;34m\"ignore\"\u001b[0m\u001b[0;34m)\u001b[0m\u001b[0;34m:\u001b[0m\u001b[0;34m\u001b[0m\u001b[0;34m\u001b[0m\u001b[0m\n\u001b[0;32m--> 190\u001b[0;31m             \u001b[0mres_values\u001b[0m \u001b[0;34m=\u001b[0m \u001b[0mna_arithmetic_op\u001b[0m\u001b[0;34m(\u001b[0m\u001b[0mlvalues\u001b[0m\u001b[0;34m,\u001b[0m \u001b[0mrvalues\u001b[0m\u001b[0;34m,\u001b[0m \u001b[0mop\u001b[0m\u001b[0;34m)\u001b[0m\u001b[0;34m\u001b[0m\u001b[0;34m\u001b[0m\u001b[0m\n\u001b[0m\u001b[1;32m    191\u001b[0m \u001b[0;34m\u001b[0m\u001b[0m\n\u001b[1;32m    192\u001b[0m     \u001b[0;32mreturn\u001b[0m \u001b[0mres_values\u001b[0m\u001b[0;34m\u001b[0m\u001b[0;34m\u001b[0m\u001b[0m\n",
            "\u001b[0;32m/usr/local/lib/python3.7/dist-packages/pandas/core/ops/array_ops.py\u001b[0m in \u001b[0;36mna_arithmetic_op\u001b[0;34m(left, right, op, is_cmp)\u001b[0m\n\u001b[1;32m    148\u001b[0m             \u001b[0;31m#  will handle complex numbers incorrectly, see GH#32047\u001b[0m\u001b[0;34m\u001b[0m\u001b[0;34m\u001b[0m\u001b[0;34m\u001b[0m\u001b[0m\n\u001b[1;32m    149\u001b[0m             \u001b[0;32mraise\u001b[0m\u001b[0;34m\u001b[0m\u001b[0;34m\u001b[0m\u001b[0m\n\u001b[0;32m--> 150\u001b[0;31m         \u001b[0mresult\u001b[0m \u001b[0;34m=\u001b[0m \u001b[0mmasked_arith_op\u001b[0m\u001b[0;34m(\u001b[0m\u001b[0mleft\u001b[0m\u001b[0;34m,\u001b[0m \u001b[0mright\u001b[0m\u001b[0;34m,\u001b[0m \u001b[0mop\u001b[0m\u001b[0;34m)\u001b[0m\u001b[0;34m\u001b[0m\u001b[0;34m\u001b[0m\u001b[0m\n\u001b[0m\u001b[1;32m    151\u001b[0m \u001b[0;34m\u001b[0m\u001b[0m\n\u001b[1;32m    152\u001b[0m     \u001b[0;32mif\u001b[0m \u001b[0mis_cmp\u001b[0m \u001b[0;32mand\u001b[0m \u001b[0;34m(\u001b[0m\u001b[0mis_scalar\u001b[0m\u001b[0;34m(\u001b[0m\u001b[0mresult\u001b[0m\u001b[0;34m)\u001b[0m \u001b[0;32mor\u001b[0m \u001b[0mresult\u001b[0m \u001b[0;32mis\u001b[0m \u001b[0mNotImplemented\u001b[0m\u001b[0;34m)\u001b[0m\u001b[0;34m:\u001b[0m\u001b[0;34m\u001b[0m\u001b[0;34m\u001b[0m\u001b[0m\n",
            "\u001b[0;32m/usr/local/lib/python3.7/dist-packages/pandas/core/ops/array_ops.py\u001b[0m in \u001b[0;36mmasked_arith_op\u001b[0;34m(x, y, op)\u001b[0m\n\u001b[1;32m     90\u001b[0m         \u001b[0;32mif\u001b[0m \u001b[0mmask\u001b[0m\u001b[0;34m.\u001b[0m\u001b[0many\u001b[0m\u001b[0;34m(\u001b[0m\u001b[0;34m)\u001b[0m\u001b[0;34m:\u001b[0m\u001b[0;34m\u001b[0m\u001b[0;34m\u001b[0m\u001b[0m\n\u001b[1;32m     91\u001b[0m             \u001b[0;32mwith\u001b[0m \u001b[0mnp\u001b[0m\u001b[0;34m.\u001b[0m\u001b[0merrstate\u001b[0m\u001b[0;34m(\u001b[0m\u001b[0mall\u001b[0m\u001b[0;34m=\u001b[0m\u001b[0;34m\"ignore\"\u001b[0m\u001b[0;34m)\u001b[0m\u001b[0;34m:\u001b[0m\u001b[0;34m\u001b[0m\u001b[0;34m\u001b[0m\u001b[0m\n\u001b[0;32m---> 92\u001b[0;31m                 \u001b[0mresult\u001b[0m\u001b[0;34m[\u001b[0m\u001b[0mmask\u001b[0m\u001b[0;34m]\u001b[0m \u001b[0;34m=\u001b[0m \u001b[0mop\u001b[0m\u001b[0;34m(\u001b[0m\u001b[0mxrav\u001b[0m\u001b[0;34m[\u001b[0m\u001b[0mmask\u001b[0m\u001b[0;34m]\u001b[0m\u001b[0;34m,\u001b[0m \u001b[0myrav\u001b[0m\u001b[0;34m[\u001b[0m\u001b[0mmask\u001b[0m\u001b[0;34m]\u001b[0m\u001b[0;34m)\u001b[0m\u001b[0;34m\u001b[0m\u001b[0;34m\u001b[0m\u001b[0m\n\u001b[0m\u001b[1;32m     93\u001b[0m \u001b[0;34m\u001b[0m\u001b[0m\n\u001b[1;32m     94\u001b[0m     \u001b[0;32melse\u001b[0m\u001b[0;34m:\u001b[0m\u001b[0;34m\u001b[0m\u001b[0;34m\u001b[0m\u001b[0m\n",
            "\u001b[0;31mTypeError\u001b[0m: can't multiply sequence by non-int of type 'str'"
          ]
        }
      ]
    },
    {
      "cell_type": "markdown",
      "metadata": {
        "id": "PNYV7hbsPhc-"
      },
      "source": [
        "It looks like both columns are string types. Let's convert them into numeric types. Pandas `to_numeric` function can serve that purpose."
      ]
    },
    {
      "cell_type": "code",
      "metadata": {
        "id": "dmqBeJtJOMB1"
      },
      "source": [
        "df['Quantity Ordered'] = pd.to_numeric(df['Quantity Ordered'])"
      ],
      "execution_count": 27,
      "outputs": []
    },
    {
      "cell_type": "code",
      "metadata": {
        "id": "h0pErjXgP5b6"
      },
      "source": [
        "df['Price Each'] = pd.to_numeric(df['Price Each'])"
      ],
      "execution_count": 28,
      "outputs": []
    },
    {
      "cell_type": "code",
      "metadata": {
        "id": "81mUArffP_ev"
      },
      "source": [
        "df['Sales'] = df['Quantity Ordered']*df['Price Each']"
      ],
      "execution_count": 29,
      "outputs": []
    },
    {
      "cell_type": "code",
      "metadata": {
        "colab": {
          "base_uri": "https://localhost:8080/",
          "height": 457
        },
        "id": "ArSGTMfSQD1H",
        "outputId": "3c79dc8e-04e2-44a7-f26b-85f08c8a2c7b"
      },
      "source": [
        "df.groupby('Order Month').sum()['Sales'].to_frame('Monthly Sales')"
      ],
      "execution_count": 30,
      "outputs": [
        {
          "output_type": "execute_result",
          "data": {
            "text/html": [
              "<div>\n",
              "<style scoped>\n",
              "    .dataframe tbody tr th:only-of-type {\n",
              "        vertical-align: middle;\n",
              "    }\n",
              "\n",
              "    .dataframe tbody tr th {\n",
              "        vertical-align: top;\n",
              "    }\n",
              "\n",
              "    .dataframe thead th {\n",
              "        text-align: right;\n",
              "    }\n",
              "</style>\n",
              "<table border=\"1\" class=\"dataframe\">\n",
              "  <thead>\n",
              "    <tr style=\"text-align: right;\">\n",
              "      <th></th>\n",
              "      <th>Monthly Sales</th>\n",
              "    </tr>\n",
              "    <tr>\n",
              "      <th>Order Month</th>\n",
              "      <th></th>\n",
              "    </tr>\n",
              "  </thead>\n",
              "  <tbody>\n",
              "    <tr>\n",
              "      <th>1</th>\n",
              "      <td>1.822257e+06</td>\n",
              "    </tr>\n",
              "    <tr>\n",
              "      <th>2</th>\n",
              "      <td>2.202022e+06</td>\n",
              "    </tr>\n",
              "    <tr>\n",
              "      <th>3</th>\n",
              "      <td>2.807100e+06</td>\n",
              "    </tr>\n",
              "    <tr>\n",
              "      <th>4</th>\n",
              "      <td>3.390670e+06</td>\n",
              "    </tr>\n",
              "    <tr>\n",
              "      <th>5</th>\n",
              "      <td>3.152607e+06</td>\n",
              "    </tr>\n",
              "    <tr>\n",
              "      <th>6</th>\n",
              "      <td>2.577802e+06</td>\n",
              "    </tr>\n",
              "    <tr>\n",
              "      <th>7</th>\n",
              "      <td>2.647776e+06</td>\n",
              "    </tr>\n",
              "    <tr>\n",
              "      <th>8</th>\n",
              "      <td>2.244468e+06</td>\n",
              "    </tr>\n",
              "    <tr>\n",
              "      <th>9</th>\n",
              "      <td>2.097560e+06</td>\n",
              "    </tr>\n",
              "    <tr>\n",
              "      <th>10</th>\n",
              "      <td>3.736727e+06</td>\n",
              "    </tr>\n",
              "    <tr>\n",
              "      <th>11</th>\n",
              "      <td>3.199603e+06</td>\n",
              "    </tr>\n",
              "    <tr>\n",
              "      <th>12</th>\n",
              "      <td>4.613443e+06</td>\n",
              "    </tr>\n",
              "  </tbody>\n",
              "</table>\n",
              "</div>"
            ],
            "text/plain": [
              "             Monthly Sales\n",
              "Order Month               \n",
              "1             1.822257e+06\n",
              "2             2.202022e+06\n",
              "3             2.807100e+06\n",
              "4             3.390670e+06\n",
              "5             3.152607e+06\n",
              "6             2.577802e+06\n",
              "7             2.647776e+06\n",
              "8             2.244468e+06\n",
              "9             2.097560e+06\n",
              "10            3.736727e+06\n",
              "11            3.199603e+06\n",
              "12            4.613443e+06"
            ]
          },
          "metadata": {},
          "execution_count": 30
        }
      ]
    },
    {
      "cell_type": "markdown",
      "metadata": {
        "id": "CEiytjexSS8j"
      },
      "source": [
        "As seen, December was the best sales month. We can verify it as follows"
      ]
    },
    {
      "cell_type": "code",
      "metadata": {
        "colab": {
          "base_uri": "https://localhost:8080/",
          "height": 300
        },
        "id": "4bUljYDbSqwH",
        "outputId": "ae752ff8-248b-45ea-fa34-74ddfe807725"
      },
      "source": [
        "ser = df.groupby('Order Month').sum()['Sales'].to_frame('Monthly Sales $')\n",
        "ser.plot(kind='bar'); "
      ],
      "execution_count": 31,
      "outputs": [
        {
          "output_type": "display_data",
          "data": {
            "image/png": "[encoded data removed]",
            "text/plain": [
              "<Figure size 432x288 with 1 Axes>"
            ]
          },
          "metadata": {}
        }
      ]
    },
    {
      "cell_type": "markdown",
      "metadata": {
        "id": "drpJnYaEV_rG"
      },
      "source": [
        "# **Question 2: Which US city had the highest number of sales?**"
      ]
    },
    {
      "cell_type": "code",
      "metadata": {
        "colab": {
          "base_uri": "https://localhost:8080/",
          "height": 206
        },
        "id": "Z6XHu0kmTHA0",
        "outputId": "05b92b9b-ac8d-4f01-c23f-106b67f5e3ff"
      },
      "source": [
        "display(df.head())"
      ],
      "execution_count": 32,
      "outputs": [
        {
          "output_type": "display_data",
          "data": {
            "text/html": [
              "<div>\n",
              "<style scoped>\n",
              "    .dataframe tbody tr th:only-of-type {\n",
              "        vertical-align: middle;\n",
              "    }\n",
              "\n",
              "    .dataframe tbody tr th {\n",
              "        vertical-align: top;\n",
              "    }\n",
              "\n",
              "    .dataframe thead th {\n",
              "        text-align: right;\n",
              "    }\n",
              "</style>\n",
              "<table border=\"1\" class=\"dataframe\">\n",
              "  <thead>\n",
              "    <tr style=\"text-align: right;\">\n",
              "      <th></th>\n",
              "      <th>Order ID</th>\n",
              "      <th>Product</th>\n",
              "      <th>Quantity Ordered</th>\n",
              "      <th>Price Each</th>\n",
              "      <th>Order Date</th>\n",
              "      <th>Purchase Address</th>\n",
              "      <th>Order Month</th>\n",
              "      <th>Sales</th>\n",
              "    </tr>\n",
              "  </thead>\n",
              "  <tbody>\n",
              "    <tr>\n",
              "      <th>0</th>\n",
              "      <td>222910</td>\n",
              "      <td>Apple Airpods Headphones</td>\n",
              "      <td>1</td>\n",
              "      <td>150.00</td>\n",
              "      <td>2019-07-26 16:51:00</td>\n",
              "      <td>389 South St, Atlanta, GA 30301</td>\n",
              "      <td>7</td>\n",
              "      <td>150.00</td>\n",
              "    </tr>\n",
              "    <tr>\n",
              "      <th>1</th>\n",
              "      <td>222911</td>\n",
              "      <td>Flatscreen TV</td>\n",
              "      <td>1</td>\n",
              "      <td>300.00</td>\n",
              "      <td>2019-07-05 08:55:00</td>\n",
              "      <td>590 4th St, Seattle, WA 98101</td>\n",
              "      <td>7</td>\n",
              "      <td>300.00</td>\n",
              "    </tr>\n",
              "    <tr>\n",
              "      <th>2</th>\n",
              "      <td>222912</td>\n",
              "      <td>AA Batteries (4-pack)</td>\n",
              "      <td>1</td>\n",
              "      <td>3.84</td>\n",
              "      <td>2019-07-29 12:41:00</td>\n",
              "      <td>861 Hill St, Atlanta, GA 30301</td>\n",
              "      <td>7</td>\n",
              "      <td>3.84</td>\n",
              "    </tr>\n",
              "    <tr>\n",
              "      <th>3</th>\n",
              "      <td>222913</td>\n",
              "      <td>AA Batteries (4-pack)</td>\n",
              "      <td>1</td>\n",
              "      <td>3.84</td>\n",
              "      <td>2019-07-28 10:15:00</td>\n",
              "      <td>190 Ridge St, Atlanta, GA 30301</td>\n",
              "      <td>7</td>\n",
              "      <td>3.84</td>\n",
              "    </tr>\n",
              "    <tr>\n",
              "      <th>4</th>\n",
              "      <td>222914</td>\n",
              "      <td>AAA Batteries (4-pack)</td>\n",
              "      <td>5</td>\n",
              "      <td>2.99</td>\n",
              "      <td>2019-07-31 02:13:00</td>\n",
              "      <td>824 Forest St, Seattle, WA 98101</td>\n",
              "      <td>7</td>\n",
              "      <td>14.95</td>\n",
              "    </tr>\n",
              "  </tbody>\n",
              "</table>\n",
              "</div>"
            ],
            "text/plain": [
              "  Order ID                   Product  Quantity Ordered  Price Each  \\\n",
              "0   222910  Apple Airpods Headphones                 1      150.00   \n",
              "1   222911             Flatscreen TV                 1      300.00   \n",
              "2   222912     AA Batteries (4-pack)                 1        3.84   \n",
              "3   222913     AA Batteries (4-pack)                 1        3.84   \n",
              "4   222914    AAA Batteries (4-pack)                 5        2.99   \n",
              "\n",
              "           Order Date                  Purchase Address  Order Month   Sales  \n",
              "0 2019-07-26 16:51:00   389 South St, Atlanta, GA 30301            7  150.00  \n",
              "1 2019-07-05 08:55:00     590 4th St, Seattle, WA 98101            7  300.00  \n",
              "2 2019-07-29 12:41:00    861 Hill St, Atlanta, GA 30301            7    3.84  \n",
              "3 2019-07-28 10:15:00   190 Ridge St, Atlanta, GA 30301            7    3.84  \n",
              "4 2019-07-31 02:13:00  824 Forest St, Seattle, WA 98101            7   14.95  "
            ]
          },
          "metadata": {}
        }
      ]
    },
    {
      "cell_type": "markdown",
      "metadata": {
        "id": "WpHfuSVBWWFz"
      },
      "source": [
        "To answer this question, we first need to extract city string from the `Purchase Address` field. This can easily be done using `apply` function."
      ]
    },
    {
      "cell_type": "code",
      "metadata": {
        "colab": {
          "base_uri": "https://localhost:8080/",
          "height": 206
        },
        "id": "WidGg1LZXwxL",
        "outputId": "81c18c2e-f22f-4ed8-e52c-24b3e81847db"
      },
      "source": [
        "df['City'] = df['Purchase Address'].apply(lambda x: x.split(',')[1])\n",
        "display(df.head())"
      ],
      "execution_count": 33,
      "outputs": [
        {
          "output_type": "display_data",
          "data": {
            "text/html": [
              "<div>\n",
              "<style scoped>\n",
              "    .dataframe tbody tr th:only-of-type {\n",
              "        vertical-align: middle;\n",
              "    }\n",
              "\n",
              "    .dataframe tbody tr th {\n",
              "        vertical-align: top;\n",
              "    }\n",
              "\n",
              "    .dataframe thead th {\n",
              "        text-align: right;\n",
              "    }\n",
              "</style>\n",
              "<table border=\"1\" class=\"dataframe\">\n",
              "  <thead>\n",
              "    <tr style=\"text-align: right;\">\n",
              "      <th></th>\n",
              "      <th>Order ID</th>\n",
              "      <th>Product</th>\n",
              "      <th>Quantity Ordered</th>\n",
              "      <th>Price Each</th>\n",
              "      <th>Order Date</th>\n",
              "      <th>Purchase Address</th>\n",
              "      <th>Order Month</th>\n",
              "      <th>Sales</th>\n",
              "      <th>City</th>\n",
              "    </tr>\n",
              "  </thead>\n",
              "  <tbody>\n",
              "    <tr>\n",
              "      <th>0</th>\n",
              "      <td>222910</td>\n",
              "      <td>Apple Airpods Headphones</td>\n",
              "      <td>1</td>\n",
              "      <td>150.00</td>\n",
              "      <td>2019-07-26 16:51:00</td>\n",
              "      <td>389 South St, Atlanta, GA 30301</td>\n",
              "      <td>7</td>\n",
              "      <td>150.00</td>\n",
              "      <td>Atlanta</td>\n",
              "    </tr>\n",
              "    <tr>\n",
              "      <th>1</th>\n",
              "      <td>222911</td>\n",
              "      <td>Flatscreen TV</td>\n",
              "      <td>1</td>\n",
              "      <td>300.00</td>\n",
              "      <td>2019-07-05 08:55:00</td>\n",
              "      <td>590 4th St, Seattle, WA 98101</td>\n",
              "      <td>7</td>\n",
              "      <td>300.00</td>\n",
              "      <td>Seattle</td>\n",
              "    </tr>\n",
              "    <tr>\n",
              "      <th>2</th>\n",
              "      <td>222912</td>\n",
              "      <td>AA Batteries (4-pack)</td>\n",
              "      <td>1</td>\n",
              "      <td>3.84</td>\n",
              "      <td>2019-07-29 12:41:00</td>\n",
              "      <td>861 Hill St, Atlanta, GA 30301</td>\n",
              "      <td>7</td>\n",
              "      <td>3.84</td>\n",
              "      <td>Atlanta</td>\n",
              "    </tr>\n",
              "    <tr>\n",
              "      <th>3</th>\n",
              "      <td>222913</td>\n",
              "      <td>AA Batteries (4-pack)</td>\n",
              "      <td>1</td>\n",
              "      <td>3.84</td>\n",
              "      <td>2019-07-28 10:15:00</td>\n",
              "      <td>190 Ridge St, Atlanta, GA 30301</td>\n",
              "      <td>7</td>\n",
              "      <td>3.84</td>\n",
              "      <td>Atlanta</td>\n",
              "    </tr>\n",
              "    <tr>\n",
              "      <th>4</th>\n",
              "      <td>222914</td>\n",
              "      <td>AAA Batteries (4-pack)</td>\n",
              "      <td>5</td>\n",
              "      <td>2.99</td>\n",
              "      <td>2019-07-31 02:13:00</td>\n",
              "      <td>824 Forest St, Seattle, WA 98101</td>\n",
              "      <td>7</td>\n",
              "      <td>14.95</td>\n",
              "      <td>Seattle</td>\n",
              "    </tr>\n",
              "  </tbody>\n",
              "</table>\n",
              "</div>"
            ],
            "text/plain": [
              "  Order ID                   Product  Quantity Ordered  Price Each  \\\n",
              "0   222910  Apple Airpods Headphones                 1      150.00   \n",
              "1   222911             Flatscreen TV                 1      300.00   \n",
              "2   222912     AA Batteries (4-pack)                 1        3.84   \n",
              "3   222913     AA Batteries (4-pack)                 1        3.84   \n",
              "4   222914    AAA Batteries (4-pack)                 5        2.99   \n",
              "\n",
              "           Order Date                  Purchase Address  Order Month   Sales  \\\n",
              "0 2019-07-26 16:51:00   389 South St, Atlanta, GA 30301            7  150.00   \n",
              "1 2019-07-05 08:55:00     590 4th St, Seattle, WA 98101            7  300.00   \n",
              "2 2019-07-29 12:41:00    861 Hill St, Atlanta, GA 30301            7    3.84   \n",
              "3 2019-07-28 10:15:00   190 Ridge St, Atlanta, GA 30301            7    3.84   \n",
              "4 2019-07-31 02:13:00  824 Forest St, Seattle, WA 98101            7   14.95   \n",
              "\n",
              "       City  \n",
              "0   Atlanta  \n",
              "1   Seattle  \n",
              "2   Atlanta  \n",
              "3   Atlanta  \n",
              "4   Seattle  "
            ]
          },
          "metadata": {}
        }
      ]
    },
    {
      "cell_type": "code",
      "metadata": {
        "colab": {
          "base_uri": "https://localhost:8080/"
        },
        "id": "f9sxWf0CYX9N",
        "outputId": "73cec2f7-b581-47e1-b1f8-2fe02053cc05"
      },
      "source": [
        "df.groupby('City').sum()['Sales']"
      ],
      "execution_count": 34,
      "outputs": [
        {
          "output_type": "execute_result",
          "data": {
            "text/plain": [
              "City\n",
              " Atlanta          2.795499e+06\n",
              " Austin           1.819582e+06\n",
              " Boston           3.661642e+06\n",
              " Dallas           2.767975e+06\n",
              " Los Angeles      5.452571e+06\n",
              " New York City    4.664317e+06\n",
              " Portland         2.320491e+06\n",
              " San Francisco    8.262204e+06\n",
              " Seattle          2.747755e+06\n",
              "Name: Sales, dtype: float64"
            ]
          },
          "metadata": {},
          "execution_count": 34
        }
      ]
    },
    {
      "cell_type": "code",
      "metadata": {
        "colab": {
          "base_uri": "https://localhost:8080/",
          "height": 365
        },
        "id": "VF8kt9-QaXeB",
        "outputId": "5d28e06c-1967-4363-99c8-a907c0bd1b1f"
      },
      "source": [
        "ser2 = df.groupby('City').sum()['Sales'].to_frame('Sales by City $')\n",
        "ser2.plot(kind='bar');"
      ],
      "execution_count": 35,
      "outputs": [
        {
          "output_type": "display_data",
          "data": {
            "image/png": "[encoded data removed]",
            "text/plain": [
              "<Figure size 432x288 with 1 Axes>"
            ]
          },
          "metadata": {}
        }
      ]
    },
    {
      "cell_type": "markdown",
      "metadata": {
        "id": "dyhi_udocDk8"
      },
      "source": [
        "However, it is possible that the two cities have the same name but are from different states. They could be counted twice in the plot, which is misleading. To circumvent this issue, we assign state name with the city name. For that, we separate the state column. We first separate `Street`, `City` and `State Pin` fields (based on ', ' delimiter) and later we separate `State` and `Pin` fields (based on ' ' delimiter)"
      ]
    },
    {
      "cell_type": "code",
      "metadata": {
        "colab": {
          "base_uri": "https://localhost:8080/",
          "height": 310
        },
        "id": "ZBHCpLWkapXG",
        "outputId": "d9af338b-1289-44c3-ca43-cb25d8bdec27"
      },
      "source": [
        "df[['Street', 'City', 'State Pin']] = df['Purchase Address'].str.split(',',2, expand=True )\n",
        "#df.drop(['Purchase Address'], axis=1, inplace=True)\n",
        "df[['State', 'Pin']] = df['State Pin'].str.strip().str.split(\" \", 1, expand=True)\n",
        "df.drop(['State Pin'], axis=1, inplace=True)\n",
        "display(df.head())"
      ],
      "execution_count": 36,
      "outputs": [
        {
          "output_type": "display_data",
          "data": {
            "text/html": [
              "<div>\n",
              "<style scoped>\n",
              "    .dataframe tbody tr th:only-of-type {\n",
              "        vertical-align: middle;\n",
              "    }\n",
              "\n",
              "    .dataframe tbody tr th {\n",
              "        vertical-align: top;\n",
              "    }\n",
              "\n",
              "    .dataframe thead th {\n",
              "        text-align: right;\n",
              "    }\n",
              "</style>\n",
              "<table border=\"1\" class=\"dataframe\">\n",
              "  <thead>\n",
              "    <tr style=\"text-align: right;\">\n",
              "      <th></th>\n",
              "      <th>Order ID</th>\n",
              "      <th>Product</th>\n",
              "      <th>Quantity Ordered</th>\n",
              "      <th>Price Each</th>\n",
              "      <th>Order Date</th>\n",
              "      <th>Purchase Address</th>\n",
              "      <th>Order Month</th>\n",
              "      <th>Sales</th>\n",
              "      <th>City</th>\n",
              "      <th>Street</th>\n",
              "      <th>State</th>\n",
              "      <th>Pin</th>\n",
              "    </tr>\n",
              "  </thead>\n",
              "  <tbody>\n",
              "    <tr>\n",
              "      <th>0</th>\n",
              "      <td>222910</td>\n",
              "      <td>Apple Airpods Headphones</td>\n",
              "      <td>1</td>\n",
              "      <td>150.00</td>\n",
              "      <td>2019-07-26 16:51:00</td>\n",
              "      <td>389 South St, Atlanta, GA 30301</td>\n",
              "      <td>7</td>\n",
              "      <td>150.00</td>\n",
              "      <td>Atlanta</td>\n",
              "      <td>389 South St</td>\n",
              "      <td>GA</td>\n",
              "      <td>30301</td>\n",
              "    </tr>\n",
              "    <tr>\n",
              "      <th>1</th>\n",
              "      <td>222911</td>\n",
              "      <td>Flatscreen TV</td>\n",
              "      <td>1</td>\n",
              "      <td>300.00</td>\n",
              "      <td>2019-07-05 08:55:00</td>\n",
              "      <td>590 4th St, Seattle, WA 98101</td>\n",
              "      <td>7</td>\n",
              "      <td>300.00</td>\n",
              "      <td>Seattle</td>\n",
              "      <td>590 4th St</td>\n",
              "      <td>WA</td>\n",
              "      <td>98101</td>\n",
              "    </tr>\n",
              "    <tr>\n",
              "      <th>2</th>\n",
              "      <td>222912</td>\n",
              "      <td>AA Batteries (4-pack)</td>\n",
              "      <td>1</td>\n",
              "      <td>3.84</td>\n",
              "      <td>2019-07-29 12:41:00</td>\n",
              "      <td>861 Hill St, Atlanta, GA 30301</td>\n",
              "      <td>7</td>\n",
              "      <td>3.84</td>\n",
              "      <td>Atlanta</td>\n",
              "      <td>861 Hill St</td>\n",
              "      <td>GA</td>\n",
              "      <td>30301</td>\n",
              "    </tr>\n",
              "    <tr>\n",
              "      <th>3</th>\n",
              "      <td>222913</td>\n",
              "      <td>AA Batteries (4-pack)</td>\n",
              "      <td>1</td>\n",
              "      <td>3.84</td>\n",
              "      <td>2019-07-28 10:15:00</td>\n",
              "      <td>190 Ridge St, Atlanta, GA 30301</td>\n",
              "      <td>7</td>\n",
              "      <td>3.84</td>\n",
              "      <td>Atlanta</td>\n",
              "      <td>190 Ridge St</td>\n",
              "      <td>GA</td>\n",
              "      <td>30301</td>\n",
              "    </tr>\n",
              "    <tr>\n",
              "      <th>4</th>\n",
              "      <td>222914</td>\n",
              "      <td>AAA Batteries (4-pack)</td>\n",
              "      <td>5</td>\n",
              "      <td>2.99</td>\n",
              "      <td>2019-07-31 02:13:00</td>\n",
              "      <td>824 Forest St, Seattle, WA 98101</td>\n",
              "      <td>7</td>\n",
              "      <td>14.95</td>\n",
              "      <td>Seattle</td>\n",
              "      <td>824 Forest St</td>\n",
              "      <td>WA</td>\n",
              "      <td>98101</td>\n",
              "    </tr>\n",
              "  </tbody>\n",
              "</table>\n",
              "</div>"
            ],
            "text/plain": [
              "  Order ID                   Product  Quantity Ordered  Price Each  \\\n",
              "0   222910  Apple Airpods Headphones                 1      150.00   \n",
              "1   222911             Flatscreen TV                 1      300.00   \n",
              "2   222912     AA Batteries (4-pack)                 1        3.84   \n",
              "3   222913     AA Batteries (4-pack)                 1        3.84   \n",
              "4   222914    AAA Batteries (4-pack)                 5        2.99   \n",
              "\n",
              "           Order Date                  Purchase Address  Order Month   Sales  \\\n",
              "0 2019-07-26 16:51:00   389 South St, Atlanta, GA 30301            7  150.00   \n",
              "1 2019-07-05 08:55:00     590 4th St, Seattle, WA 98101            7  300.00   \n",
              "2 2019-07-29 12:41:00    861 Hill St, Atlanta, GA 30301            7    3.84   \n",
              "3 2019-07-28 10:15:00   190 Ridge St, Atlanta, GA 30301            7    3.84   \n",
              "4 2019-07-31 02:13:00  824 Forest St, Seattle, WA 98101            7   14.95   \n",
              "\n",
              "       City         Street State    Pin  \n",
              "0   Atlanta   389 South St    GA  30301  \n",
              "1   Seattle     590 4th St    WA  98101  \n",
              "2   Atlanta    861 Hill St    GA  30301  \n",
              "3   Atlanta   190 Ridge St    GA  30301  \n",
              "4   Seattle  824 Forest St    WA  98101  "
            ]
          },
          "metadata": {}
        }
      ]
    },
    {
      "cell_type": "code",
      "metadata": {
        "colab": {
          "base_uri": "https://localhost:8080/",
          "height": 396
        },
        "id": "WP0XFqaNfJv_",
        "outputId": "8bc56551-147c-403a-f278-18fbcacafcb3"
      },
      "source": [
        "ser3 = df.groupby(['City', 'State']).sum()['Sales'].to_frame('Sales by City, State $')\n",
        "ser3.plot(kind='bar');"
      ],
      "execution_count": 37,
      "outputs": [
        {
          "output_type": "display_data",
          "data": {
            "image/png": "[encoded data removed]",
            "text/plain": [
              "<Figure size 432x288 with 1 Axes>"
            ]
          },
          "metadata": {}
        }
      ]
    },
    {
      "cell_type": "markdown",
      "metadata": {
        "id": "D3qMNu_9k5Kp"
      },
      "source": [
        "As we can see, Portland from OR and ME are different. So grouping by state helped."
      ]
    },
    {
      "cell_type": "markdown",
      "metadata": {
        "id": "PMaSViehmRA8"
      },
      "source": [
        "# **Question 3: At what time should we display advertisements to maximize the likelihood of customers buying the product?**"
      ]
    },
    {
      "cell_type": "code",
      "metadata": {
        "id": "VA_Txmeasokr"
      },
      "source": [
        "df.set_index('Order Date', inplace=True)"
      ],
      "execution_count": 38,
      "outputs": []
    },
    {
      "cell_type": "code",
      "metadata": {
        "colab": {
          "base_uri": "https://localhost:8080/",
          "height": 342
        },
        "id": "SIaK2vpxkXXC",
        "outputId": "47776082-1fb9-4cc2-d763-c6273ea2bd24"
      },
      "source": [
        "display(df.head())"
      ],
      "execution_count": 39,
      "outputs": [
        {
          "output_type": "display_data",
          "data": {
            "text/html": [
              "<div>\n",
              "<style scoped>\n",
              "    .dataframe tbody tr th:only-of-type {\n",
              "        vertical-align: middle;\n",
              "    }\n",
              "\n",
              "    .dataframe tbody tr th {\n",
              "        vertical-align: top;\n",
              "    }\n",
              "\n",
              "    .dataframe thead th {\n",
              "        text-align: right;\n",
              "    }\n",
              "</style>\n",
              "<table border=\"1\" class=\"dataframe\">\n",
              "  <thead>\n",
              "    <tr style=\"text-align: right;\">\n",
              "      <th></th>\n",
              "      <th>Order ID</th>\n",
              "      <th>Product</th>\n",
              "      <th>Quantity Ordered</th>\n",
              "      <th>Price Each</th>\n",
              "      <th>Purchase Address</th>\n",
              "      <th>Order Month</th>\n",
              "      <th>Sales</th>\n",
              "      <th>City</th>\n",
              "      <th>Street</th>\n",
              "      <th>State</th>\n",
              "      <th>Pin</th>\n",
              "    </tr>\n",
              "    <tr>\n",
              "      <th>Order Date</th>\n",
              "      <th></th>\n",
              "      <th></th>\n",
              "      <th></th>\n",
              "      <th></th>\n",
              "      <th></th>\n",
              "      <th></th>\n",
              "      <th></th>\n",
              "      <th></th>\n",
              "      <th></th>\n",
              "      <th></th>\n",
              "      <th></th>\n",
              "    </tr>\n",
              "  </thead>\n",
              "  <tbody>\n",
              "    <tr>\n",
              "      <th>2019-07-26 16:51:00</th>\n",
              "      <td>222910</td>\n",
              "      <td>Apple Airpods Headphones</td>\n",
              "      <td>1</td>\n",
              "      <td>150.00</td>\n",
              "      <td>389 South St, Atlanta, GA 30301</td>\n",
              "      <td>7</td>\n",
              "      <td>150.00</td>\n",
              "      <td>Atlanta</td>\n",
              "      <td>389 South St</td>\n",
              "      <td>GA</td>\n",
              "      <td>30301</td>\n",
              "    </tr>\n",
              "    <tr>\n",
              "      <th>2019-07-05 08:55:00</th>\n",
              "      <td>222911</td>\n",
              "      <td>Flatscreen TV</td>\n",
              "      <td>1</td>\n",
              "      <td>300.00</td>\n",
              "      <td>590 4th St, Seattle, WA 98101</td>\n",
              "      <td>7</td>\n",
              "      <td>300.00</td>\n",
              "      <td>Seattle</td>\n",
              "      <td>590 4th St</td>\n",
              "      <td>WA</td>\n",
              "      <td>98101</td>\n",
              "    </tr>\n",
              "    <tr>\n",
              "      <th>2019-07-29 12:41:00</th>\n",
              "      <td>222912</td>\n",
              "      <td>AA Batteries (4-pack)</td>\n",
              "      <td>1</td>\n",
              "      <td>3.84</td>\n",
              "      <td>861 Hill St, Atlanta, GA 30301</td>\n",
              "      <td>7</td>\n",
              "      <td>3.84</td>\n",
              "      <td>Atlanta</td>\n",
              "      <td>861 Hill St</td>\n",
              "      <td>GA</td>\n",
              "      <td>30301</td>\n",
              "    </tr>\n",
              "    <tr>\n",
              "      <th>2019-07-28 10:15:00</th>\n",
              "      <td>222913</td>\n",
              "      <td>AA Batteries (4-pack)</td>\n",
              "      <td>1</td>\n",
              "      <td>3.84</td>\n",
              "      <td>190 Ridge St, Atlanta, GA 30301</td>\n",
              "      <td>7</td>\n",
              "      <td>3.84</td>\n",
              "      <td>Atlanta</td>\n",
              "      <td>190 Ridge St</td>\n",
              "      <td>GA</td>\n",
              "      <td>30301</td>\n",
              "    </tr>\n",
              "    <tr>\n",
              "      <th>2019-07-31 02:13:00</th>\n",
              "      <td>222914</td>\n",
              "      <td>AAA Batteries (4-pack)</td>\n",
              "      <td>5</td>\n",
              "      <td>2.99</td>\n",
              "      <td>824 Forest St, Seattle, WA 98101</td>\n",
              "      <td>7</td>\n",
              "      <td>14.95</td>\n",
              "      <td>Seattle</td>\n",
              "      <td>824 Forest St</td>\n",
              "      <td>WA</td>\n",
              "      <td>98101</td>\n",
              "    </tr>\n",
              "  </tbody>\n",
              "</table>\n",
              "</div>"
            ],
            "text/plain": [
              "                    Order ID                   Product  Quantity Ordered  \\\n",
              "Order Date                                                                 \n",
              "2019-07-26 16:51:00   222910  Apple Airpods Headphones                 1   \n",
              "2019-07-05 08:55:00   222911             Flatscreen TV                 1   \n",
              "2019-07-29 12:41:00   222912     AA Batteries (4-pack)                 1   \n",
              "2019-07-28 10:15:00   222913     AA Batteries (4-pack)                 1   \n",
              "2019-07-31 02:13:00   222914    AAA Batteries (4-pack)                 5   \n",
              "\n",
              "                     Price Each                  Purchase Address  \\\n",
              "Order Date                                                          \n",
              "2019-07-26 16:51:00      150.00   389 South St, Atlanta, GA 30301   \n",
              "2019-07-05 08:55:00      300.00     590 4th St, Seattle, WA 98101   \n",
              "2019-07-29 12:41:00        3.84    861 Hill St, Atlanta, GA 30301   \n",
              "2019-07-28 10:15:00        3.84   190 Ridge St, Atlanta, GA 30301   \n",
              "2019-07-31 02:13:00        2.99  824 Forest St, Seattle, WA 98101   \n",
              "\n",
              "                     Order Month   Sales      City         Street State    Pin  \n",
              "Order Date                                                                      \n",
              "2019-07-26 16:51:00            7  150.00   Atlanta   389 South St    GA  30301  \n",
              "2019-07-05 08:55:00            7  300.00   Seattle     590 4th St    WA  98101  \n",
              "2019-07-29 12:41:00            7    3.84   Atlanta    861 Hill St    GA  30301  \n",
              "2019-07-28 10:15:00            7    3.84   Atlanta   190 Ridge St    GA  30301  \n",
              "2019-07-31 02:13:00            7   14.95   Seattle  824 Forest St    WA  98101  "
            ]
          },
          "metadata": {}
        }
      ]
    },
    {
      "cell_type": "code",
      "metadata": {
        "colab": {
          "base_uri": "https://localhost:8080/",
          "height": 285
        },
        "id": "rN29GQcPnm5E",
        "outputId": "3fa931c7-105b-4015-8d9a-c61eeeb27df8"
      },
      "source": [
        "dff = df.groupby(df.index.time).count()['Quantity Ordered'].to_frame('Quantities Ordered')\n",
        "hourly_ticks = 4*60*60*np.array(range(6))\n",
        "dff.plot(xticks=hourly_ticks);"
      ],
      "execution_count": 40,
      "outputs": [
        {
          "output_type": "display_data",
          "data": {
            "image/png": "[encoded data removed]",
            "text/plain": [
              "<Figure size 432x288 with 1 Axes>"
            ]
          },
          "metadata": {}
        }
      ]
    },
    {
      "cell_type": "code",
      "metadata": {
        "colab": {
          "base_uri": "https://localhost:8080/",
          "height": 285
        },
        "id": "oXUDVAPlyyJy",
        "outputId": "1c9d1d20-3d83-4f0c-b8f0-4ba99d2070a6"
      },
      "source": [
        "hourly = df.groupby(df.index.hour).count()['Quantity Ordered'].to_frame('Quantities Ordered')\n",
        "hourly.plot();"
      ],
      "execution_count": 41,
      "outputs": [
        {
          "output_type": "display_data",
          "data": {
            "image/png": "[encoded data removed]",
            "text/plain": [
              "<Figure size 432x288 with 1 Axes>"
            ]
          },
          "metadata": {}
        }
      ]
    },
    {
      "cell_type": "markdown",
      "metadata": {
        "id": "3DVsqGbT1CkA"
      },
      "source": [
        "The plots above show that around 11:00 and 19:00 are good times to advertise the products."
      ]
    },
    {
      "cell_type": "code",
      "metadata": {
        "colab": {
          "base_uri": "https://localhost:8080/",
          "height": 268
        },
        "id": "1m7OBNV5xGoY",
        "outputId": "de621477-3f8d-4ce3-d77b-ca98ea580fb9"
      },
      "source": [
        "dayofWeek = df.groupby(df.index.dayofweek).count()['Quantity Ordered'].to_frame('Quantities Ordered')\n",
        "dayofWeek.index = ['Mon', 'Tues', 'Wed', 'Thurs', 'Fri', 'Sat', 'Sun']\n",
        "dayofWeek.plot();"
      ],
      "execution_count": 42,
      "outputs": [
        {
          "output_type": "display_data",
          "data": {
            "image/png": "[encoded data removed]",
            "text/plain": [
              "<Figure size 432x288 with 1 Axes>"
            ]
          },
          "metadata": {}
        }
      ]
    },
    {
      "cell_type": "code",
      "metadata": {
        "colab": {
          "base_uri": "https://localhost:8080/",
          "height": 296
        },
        "id": "Pyl1W7wQzaAu",
        "outputId": "5e39f035-fb88-4da3-bef1-0c4bab4a6dee"
      },
      "source": [
        "daily = df.resample('D').count()\n",
        "daily['Quantity Ordered'].plot();"
      ],
      "execution_count": 43,
      "outputs": [
        {
          "output_type": "display_data",
          "data": {
            "image/png": "[encoded data removed]",
            "text/plain": [
              "<Figure size 432x288 with 1 Axes>"
            ]
          },
          "metadata": {}
        }
      ]
    },
    {
      "cell_type": "code",
      "metadata": {
        "colab": {
          "base_uri": "https://localhost:8080/",
          "height": 296
        },
        "id": "bL8gMWYvqv1g",
        "outputId": "a0f1b495-7e8f-4a73-cf2b-518166f6454a"
      },
      "source": [
        "weekly = df.resample('W').count()\n",
        "weekly['Quantity Ordered'].plot();"
      ],
      "execution_count": 44,
      "outputs": [
        {
          "output_type": "display_data",
          "data": {
            "image/png": "[encoded data removed]",
            "text/plain": [
              "<Figure size 432x288 with 1 Axes>"
            ]
          },
          "metadata": {}
        }
      ]
    },
    {
      "cell_type": "markdown",
      "metadata": {
        "id": "A7pCHeal1dli"
      },
      "source": [
        "# **Question 4: Which products are most often sold together?**"
      ]
    },
    {
      "cell_type": "code",
      "metadata": {
        "colab": {
          "base_uri": "https://localhost:8080/",
          "height": 342
        },
        "id": "S5CpTs1hULzZ",
        "outputId": "b33498d5-13ff-474e-8364-ec9ac914bef4"
      },
      "source": [
        "display(df.head())"
      ],
      "execution_count": null,
      "outputs": [
        {
          "output_type": "display_data",
          "data": {
            "text/html": [
              "<div>\n",
              "<style scoped>\n",
              "    .dataframe tbody tr th:only-of-type {\n",
              "        vertical-align: middle;\n",
              "    }\n",
              "\n",
              "    .dataframe tbody tr th {\n",
              "        vertical-align: top;\n",
              "    }\n",
              "\n",
              "    .dataframe thead th {\n",
              "        text-align: right;\n",
              "    }\n",
              "</style>\n",
              "<table border=\"1\" class=\"dataframe\">\n",
              "  <thead>\n",
              "    <tr style=\"text-align: right;\">\n",
              "      <th></th>\n",
              "      <th>Order ID</th>\n",
              "      <th>Product</th>\n",
              "      <th>Quantity Ordered</th>\n",
              "      <th>Price Each</th>\n",
              "      <th>Purchase Address</th>\n",
              "      <th>Order Month</th>\n",
              "      <th>Sales</th>\n",
              "      <th>City</th>\n",
              "      <th>Street</th>\n",
              "      <th>State</th>\n",
              "      <th>Pin</th>\n",
              "    </tr>\n",
              "    <tr>\n",
              "      <th>Order Date</th>\n",
              "      <th></th>\n",
              "      <th></th>\n",
              "      <th></th>\n",
              "      <th></th>\n",
              "      <th></th>\n",
              "      <th></th>\n",
              "      <th></th>\n",
              "      <th></th>\n",
              "      <th></th>\n",
              "      <th></th>\n",
              "      <th></th>\n",
              "    </tr>\n",
              "  </thead>\n",
              "  <tbody>\n",
              "    <tr>\n",
              "      <th>2019-07-26 16:51:00</th>\n",
              "      <td>222910</td>\n",
              "      <td>Apple Airpods Headphones</td>\n",
              "      <td>1</td>\n",
              "      <td>150.00</td>\n",
              "      <td>389 South St, Atlanta, GA 30301</td>\n",
              "      <td>7</td>\n",
              "      <td>150.00</td>\n",
              "      <td>Atlanta</td>\n",
              "      <td>389 South St</td>\n",
              "      <td>GA</td>\n",
              "      <td>30301</td>\n",
              "    </tr>\n",
              "    <tr>\n",
              "      <th>2019-07-05 08:55:00</th>\n",
              "      <td>222911</td>\n",
              "      <td>Flatscreen TV</td>\n",
              "      <td>1</td>\n",
              "      <td>300.00</td>\n",
              "      <td>590 4th St, Seattle, WA 98101</td>\n",
              "      <td>7</td>\n",
              "      <td>300.00</td>\n",
              "      <td>Seattle</td>\n",
              "      <td>590 4th St</td>\n",
              "      <td>WA</td>\n",
              "      <td>98101</td>\n",
              "    </tr>\n",
              "    <tr>\n",
              "      <th>2019-07-29 12:41:00</th>\n",
              "      <td>222912</td>\n",
              "      <td>AA Batteries (4-pack)</td>\n",
              "      <td>1</td>\n",
              "      <td>3.84</td>\n",
              "      <td>861 Hill St, Atlanta, GA 30301</td>\n",
              "      <td>7</td>\n",
              "      <td>3.84</td>\n",
              "      <td>Atlanta</td>\n",
              "      <td>861 Hill St</td>\n",
              "      <td>GA</td>\n",
              "      <td>30301</td>\n",
              "    </tr>\n",
              "    <tr>\n",
              "      <th>2019-07-28 10:15:00</th>\n",
              "      <td>222913</td>\n",
              "      <td>AA Batteries (4-pack)</td>\n",
              "      <td>1</td>\n",
              "      <td>3.84</td>\n",
              "      <td>190 Ridge St, Atlanta, GA 30301</td>\n",
              "      <td>7</td>\n",
              "      <td>3.84</td>\n",
              "      <td>Atlanta</td>\n",
              "      <td>190 Ridge St</td>\n",
              "      <td>GA</td>\n",
              "      <td>30301</td>\n",
              "    </tr>\n",
              "    <tr>\n",
              "      <th>2019-07-31 02:13:00</th>\n",
              "      <td>222914</td>\n",
              "      <td>AAA Batteries (4-pack)</td>\n",
              "      <td>5</td>\n",
              "      <td>2.99</td>\n",
              "      <td>824 Forest St, Seattle, WA 98101</td>\n",
              "      <td>7</td>\n",
              "      <td>14.95</td>\n",
              "      <td>Seattle</td>\n",
              "      <td>824 Forest St</td>\n",
              "      <td>WA</td>\n",
              "      <td>98101</td>\n",
              "    </tr>\n",
              "  </tbody>\n",
              "</table>\n",
              "</div>"
            ],
            "text/plain": [
              "                    Order ID                   Product  Quantity Ordered  \\\n",
              "Order Date                                                                 \n",
              "2019-07-26 16:51:00   222910  Apple Airpods Headphones                 1   \n",
              "2019-07-05 08:55:00   222911             Flatscreen TV                 1   \n",
              "2019-07-29 12:41:00   222912     AA Batteries (4-pack)                 1   \n",
              "2019-07-28 10:15:00   222913     AA Batteries (4-pack)                 1   \n",
              "2019-07-31 02:13:00   222914    AAA Batteries (4-pack)                 5   \n",
              "\n",
              "                     Price Each                  Purchase Address  \\\n",
              "Order Date                                                          \n",
              "2019-07-26 16:51:00      150.00   389 South St, Atlanta, GA 30301   \n",
              "2019-07-05 08:55:00      300.00     590 4th St, Seattle, WA 98101   \n",
              "2019-07-29 12:41:00        3.84    861 Hill St, Atlanta, GA 30301   \n",
              "2019-07-28 10:15:00        3.84   190 Ridge St, Atlanta, GA 30301   \n",
              "2019-07-31 02:13:00        2.99  824 Forest St, Seattle, WA 98101   \n",
              "\n",
              "                     Order Month   Sales      City         Street State    Pin  \n",
              "Order Date                                                                      \n",
              "2019-07-26 16:51:00            7  150.00   Atlanta   389 South St    GA  30301  \n",
              "2019-07-05 08:55:00            7  300.00   Seattle     590 4th St    WA  98101  \n",
              "2019-07-29 12:41:00            7    3.84   Atlanta    861 Hill St    GA  30301  \n",
              "2019-07-28 10:15:00            7    3.84   Atlanta   190 Ridge St    GA  30301  \n",
              "2019-07-31 02:13:00            7   14.95   Seattle  824 Forest St    WA  98101  "
            ]
          },
          "metadata": {}
        }
      ]
    },
    {
      "cell_type": "markdown",
      "metadata": {
        "id": "UW0cA6ScSfMO"
      },
      "source": [
        "We first start with locating all the rows with duplicated Order IDs."
      ]
    },
    {
      "cell_type": "code",
      "metadata": {
        "colab": {
          "base_uri": "https://localhost:8080/",
          "height": 829
        },
        "id": "KuuhnECJUkbr",
        "outputId": "e83e1907-1ae0-43d7-cb0f-1f258f93bb09"
      },
      "source": [
        "dupl_orders = df[df['Order ID'].duplicated(keep = False)] # Keep = False keeps all occurences of duplicates\n",
        "display(dupl_orders.head(15))"
      ],
      "execution_count": 55,
      "outputs": [
        {
          "output_type": "display_data",
          "data": {
            "text/html": [
              "<div>\n",
              "<style scoped>\n",
              "    .dataframe tbody tr th:only-of-type {\n",
              "        vertical-align: middle;\n",
              "    }\n",
              "\n",
              "    .dataframe tbody tr th {\n",
              "        vertical-align: top;\n",
              "    }\n",
              "\n",
              "    .dataframe thead th {\n",
              "        text-align: right;\n",
              "    }\n",
              "</style>\n",
              "<table border=\"1\" class=\"dataframe\">\n",
              "  <thead>\n",
              "    <tr style=\"text-align: right;\">\n",
              "      <th></th>\n",
              "      <th>Order ID</th>\n",
              "      <th>Product</th>\n",
              "      <th>Quantity Ordered</th>\n",
              "      <th>Price Each</th>\n",
              "      <th>Purchase Address</th>\n",
              "      <th>Order Month</th>\n",
              "      <th>Sales</th>\n",
              "      <th>City</th>\n",
              "      <th>Street</th>\n",
              "      <th>State</th>\n",
              "      <th>Pin</th>\n",
              "    </tr>\n",
              "    <tr>\n",
              "      <th>Order Date</th>\n",
              "      <th></th>\n",
              "      <th></th>\n",
              "      <th></th>\n",
              "      <th></th>\n",
              "      <th></th>\n",
              "      <th></th>\n",
              "      <th></th>\n",
              "      <th></th>\n",
              "      <th></th>\n",
              "      <th></th>\n",
              "      <th></th>\n",
              "    </tr>\n",
              "  </thead>\n",
              "  <tbody>\n",
              "    <tr>\n",
              "      <th>2019-07-07 10:21:00</th>\n",
              "      <td>223028</td>\n",
              "      <td>Vareebadd Phone</td>\n",
              "      <td>1</td>\n",
              "      <td>400.00</td>\n",
              "      <td>969 10th St, San Francisco, CA 94016</td>\n",
              "      <td>7</td>\n",
              "      <td>400.00</td>\n",
              "      <td>San Francisco</td>\n",
              "      <td>969 10th St</td>\n",
              "      <td>CA</td>\n",
              "      <td>94016</td>\n",
              "    </tr>\n",
              "    <tr>\n",
              "      <th>2019-07-07 10:21:00</th>\n",
              "      <td>223028</td>\n",
              "      <td>USB-C Charging Cable</td>\n",
              "      <td>2</td>\n",
              "      <td>11.95</td>\n",
              "      <td>969 10th St, San Francisco, CA 94016</td>\n",
              "      <td>7</td>\n",
              "      <td>23.90</td>\n",
              "      <td>San Francisco</td>\n",
              "      <td>969 10th St</td>\n",
              "      <td>CA</td>\n",
              "      <td>94016</td>\n",
              "    </tr>\n",
              "    <tr>\n",
              "      <th>2019-07-07 10:21:00</th>\n",
              "      <td>223028</td>\n",
              "      <td>Wired Headphones</td>\n",
              "      <td>1</td>\n",
              "      <td>11.99</td>\n",
              "      <td>969 10th St, San Francisco, CA 94016</td>\n",
              "      <td>7</td>\n",
              "      <td>11.99</td>\n",
              "      <td>San Francisco</td>\n",
              "      <td>969 10th St</td>\n",
              "      <td>CA</td>\n",
              "      <td>94016</td>\n",
              "    </tr>\n",
              "    <tr>\n",
              "      <th>2019-07-21 17:19:00</th>\n",
              "      <td>223048</td>\n",
              "      <td>Vareebadd Phone</td>\n",
              "      <td>1</td>\n",
              "      <td>400.00</td>\n",
              "      <td>168 8th St, Portland, OR 97035</td>\n",
              "      <td>7</td>\n",
              "      <td>400.00</td>\n",
              "      <td>Portland</td>\n",
              "      <td>168 8th St</td>\n",
              "      <td>OR</td>\n",
              "      <td>97035</td>\n",
              "    </tr>\n",
              "    <tr>\n",
              "      <th>2019-07-21 17:19:00</th>\n",
              "      <td>223048</td>\n",
              "      <td>USB-C Charging Cable</td>\n",
              "      <td>2</td>\n",
              "      <td>11.95</td>\n",
              "      <td>168 8th St, Portland, OR 97035</td>\n",
              "      <td>7</td>\n",
              "      <td>23.90</td>\n",
              "      <td>Portland</td>\n",
              "      <td>168 8th St</td>\n",
              "      <td>OR</td>\n",
              "      <td>97035</td>\n",
              "    </tr>\n",
              "    <tr>\n",
              "      <th>2019-07-03 13:42:00</th>\n",
              "      <td>223095</td>\n",
              "      <td>Apple Airpods Headphones</td>\n",
              "      <td>1</td>\n",
              "      <td>150.00</td>\n",
              "      <td>876 Cedar St, Los Angeles, CA 90001</td>\n",
              "      <td>7</td>\n",
              "      <td>150.00</td>\n",
              "      <td>Los Angeles</td>\n",
              "      <td>876 Cedar St</td>\n",
              "      <td>CA</td>\n",
              "      <td>90001</td>\n",
              "    </tr>\n",
              "    <tr>\n",
              "      <th>2019-07-03 13:42:00</th>\n",
              "      <td>223095</td>\n",
              "      <td>AA Batteries (4-pack)</td>\n",
              "      <td>1</td>\n",
              "      <td>3.84</td>\n",
              "      <td>876 Cedar St, Los Angeles, CA 90001</td>\n",
              "      <td>7</td>\n",
              "      <td>3.84</td>\n",
              "      <td>Los Angeles</td>\n",
              "      <td>876 Cedar St</td>\n",
              "      <td>CA</td>\n",
              "      <td>90001</td>\n",
              "    </tr>\n",
              "    <tr>\n",
              "      <th>2019-07-14 14:30:00</th>\n",
              "      <td>223106</td>\n",
              "      <td>Wired Headphones</td>\n",
              "      <td>1</td>\n",
              "      <td>11.99</td>\n",
              "      <td>630 2nd St, San Francisco, CA 94016</td>\n",
              "      <td>7</td>\n",
              "      <td>11.99</td>\n",
              "      <td>San Francisco</td>\n",
              "      <td>630 2nd St</td>\n",
              "      <td>CA</td>\n",
              "      <td>94016</td>\n",
              "    </tr>\n",
              "    <tr>\n",
              "      <th>2019-07-14 14:30:00</th>\n",
              "      <td>223106</td>\n",
              "      <td>Vareebadd Phone</td>\n",
              "      <td>1</td>\n",
              "      <td>400.00</td>\n",
              "      <td>630 2nd St, San Francisco, CA 94016</td>\n",
              "      <td>7</td>\n",
              "      <td>400.00</td>\n",
              "      <td>San Francisco</td>\n",
              "      <td>630 2nd St</td>\n",
              "      <td>CA</td>\n",
              "      <td>94016</td>\n",
              "    </tr>\n",
              "    <tr>\n",
              "      <th>2019-07-11 23:25:00</th>\n",
              "      <td>223117</td>\n",
              "      <td>Google Phone</td>\n",
              "      <td>1</td>\n",
              "      <td>600.00</td>\n",
              "      <td>184 Spruce St, Atlanta, GA 30301</td>\n",
              "      <td>7</td>\n",
              "      <td>600.00</td>\n",
              "      <td>Atlanta</td>\n",
              "      <td>184 Spruce St</td>\n",
              "      <td>GA</td>\n",
              "      <td>30301</td>\n",
              "    </tr>\n",
              "    <tr>\n",
              "      <th>2019-07-11 23:25:00</th>\n",
              "      <td>223117</td>\n",
              "      <td>USB-C Charging Cable</td>\n",
              "      <td>1</td>\n",
              "      <td>11.95</td>\n",
              "      <td>184 Spruce St, Atlanta, GA 30301</td>\n",
              "      <td>7</td>\n",
              "      <td>11.95</td>\n",
              "      <td>Atlanta</td>\n",
              "      <td>184 Spruce St</td>\n",
              "      <td>GA</td>\n",
              "      <td>30301</td>\n",
              "    </tr>\n",
              "    <tr>\n",
              "      <th>2019-07-28 20:40:00</th>\n",
              "      <td>223133</td>\n",
              "      <td>AA Batteries (4-pack)</td>\n",
              "      <td>1</td>\n",
              "      <td>3.84</td>\n",
              "      <td>621 Church St, San Francisco, CA 94016</td>\n",
              "      <td>7</td>\n",
              "      <td>3.84</td>\n",
              "      <td>San Francisco</td>\n",
              "      <td>621 Church St</td>\n",
              "      <td>CA</td>\n",
              "      <td>94016</td>\n",
              "    </tr>\n",
              "    <tr>\n",
              "      <th>2019-07-28 20:40:00</th>\n",
              "      <td>223133</td>\n",
              "      <td>AAA Batteries (4-pack)</td>\n",
              "      <td>1</td>\n",
              "      <td>2.99</td>\n",
              "      <td>621 Church St, San Francisco, CA 94016</td>\n",
              "      <td>7</td>\n",
              "      <td>2.99</td>\n",
              "      <td>San Francisco</td>\n",
              "      <td>621 Church St</td>\n",
              "      <td>CA</td>\n",
              "      <td>94016</td>\n",
              "    </tr>\n",
              "    <tr>\n",
              "      <th>2019-07-22 09:58:00</th>\n",
              "      <td>223140</td>\n",
              "      <td>AA Batteries (4-pack)</td>\n",
              "      <td>1</td>\n",
              "      <td>3.84</td>\n",
              "      <td>112 Meadow St, San Francisco, CA 94016</td>\n",
              "      <td>7</td>\n",
              "      <td>3.84</td>\n",
              "      <td>San Francisco</td>\n",
              "      <td>112 Meadow St</td>\n",
              "      <td>CA</td>\n",
              "      <td>94016</td>\n",
              "    </tr>\n",
              "    <tr>\n",
              "      <th>2019-07-22 09:58:00</th>\n",
              "      <td>223140</td>\n",
              "      <td>Flatscreen TV</td>\n",
              "      <td>1</td>\n",
              "      <td>300.00</td>\n",
              "      <td>112 Meadow St, San Francisco, CA 94016</td>\n",
              "      <td>7</td>\n",
              "      <td>300.00</td>\n",
              "      <td>San Francisco</td>\n",
              "      <td>112 Meadow St</td>\n",
              "      <td>CA</td>\n",
              "      <td>94016</td>\n",
              "    </tr>\n",
              "  </tbody>\n",
              "</table>\n",
              "</div>"
            ],
            "text/plain": [
              "                    Order ID                   Product  Quantity Ordered  \\\n",
              "Order Date                                                                 \n",
              "2019-07-07 10:21:00   223028           Vareebadd Phone                 1   \n",
              "2019-07-07 10:21:00   223028      USB-C Charging Cable                 2   \n",
              "2019-07-07 10:21:00   223028          Wired Headphones                 1   \n",
              "2019-07-21 17:19:00   223048           Vareebadd Phone                 1   \n",
              "2019-07-21 17:19:00   223048      USB-C Charging Cable                 2   \n",
              "2019-07-03 13:42:00   223095  Apple Airpods Headphones                 1   \n",
              "2019-07-03 13:42:00   223095     AA Batteries (4-pack)                 1   \n",
              "2019-07-14 14:30:00   223106          Wired Headphones                 1   \n",
              "2019-07-14 14:30:00   223106           Vareebadd Phone                 1   \n",
              "2019-07-11 23:25:00   223117              Google Phone                 1   \n",
              "2019-07-11 23:25:00   223117      USB-C Charging Cable                 1   \n",
              "2019-07-28 20:40:00   223133     AA Batteries (4-pack)                 1   \n",
              "2019-07-28 20:40:00   223133    AAA Batteries (4-pack)                 1   \n",
              "2019-07-22 09:58:00   223140     AA Batteries (4-pack)                 1   \n",
              "2019-07-22 09:58:00   223140             Flatscreen TV                 1   \n",
              "\n",
              "                     Price Each                        Purchase Address  \\\n",
              "Order Date                                                                \n",
              "2019-07-07 10:21:00      400.00    969 10th St, San Francisco, CA 94016   \n",
              "2019-07-07 10:21:00       11.95    969 10th St, San Francisco, CA 94016   \n",
              "2019-07-07 10:21:00       11.99    969 10th St, San Francisco, CA 94016   \n",
              "2019-07-21 17:19:00      400.00          168 8th St, Portland, OR 97035   \n",
              "2019-07-21 17:19:00       11.95          168 8th St, Portland, OR 97035   \n",
              "2019-07-03 13:42:00      150.00     876 Cedar St, Los Angeles, CA 90001   \n",
              "2019-07-03 13:42:00        3.84     876 Cedar St, Los Angeles, CA 90001   \n",
              "2019-07-14 14:30:00       11.99     630 2nd St, San Francisco, CA 94016   \n",
              "2019-07-14 14:30:00      400.00     630 2nd St, San Francisco, CA 94016   \n",
              "2019-07-11 23:25:00      600.00        184 Spruce St, Atlanta, GA 30301   \n",
              "2019-07-11 23:25:00       11.95        184 Spruce St, Atlanta, GA 30301   \n",
              "2019-07-28 20:40:00        3.84  621 Church St, San Francisco, CA 94016   \n",
              "2019-07-28 20:40:00        2.99  621 Church St, San Francisco, CA 94016   \n",
              "2019-07-22 09:58:00        3.84  112 Meadow St, San Francisco, CA 94016   \n",
              "2019-07-22 09:58:00      300.00  112 Meadow St, San Francisco, CA 94016   \n",
              "\n",
              "                     Order Month   Sales            City         Street State  \\\n",
              "Order Date                                                                      \n",
              "2019-07-07 10:21:00            7  400.00   San Francisco    969 10th St    CA   \n",
              "2019-07-07 10:21:00            7   23.90   San Francisco    969 10th St    CA   \n",
              "2019-07-07 10:21:00            7   11.99   San Francisco    969 10th St    CA   \n",
              "2019-07-21 17:19:00            7  400.00        Portland     168 8th St    OR   \n",
              "2019-07-21 17:19:00            7   23.90        Portland     168 8th St    OR   \n",
              "2019-07-03 13:42:00            7  150.00     Los Angeles   876 Cedar St    CA   \n",
              "2019-07-03 13:42:00            7    3.84     Los Angeles   876 Cedar St    CA   \n",
              "2019-07-14 14:30:00            7   11.99   San Francisco     630 2nd St    CA   \n",
              "2019-07-14 14:30:00            7  400.00   San Francisco     630 2nd St    CA   \n",
              "2019-07-11 23:25:00            7  600.00         Atlanta  184 Spruce St    GA   \n",
              "2019-07-11 23:25:00            7   11.95         Atlanta  184 Spruce St    GA   \n",
              "2019-07-28 20:40:00            7    3.84   San Francisco  621 Church St    CA   \n",
              "2019-07-28 20:40:00            7    2.99   San Francisco  621 Church St    CA   \n",
              "2019-07-22 09:58:00            7    3.84   San Francisco  112 Meadow St    CA   \n",
              "2019-07-22 09:58:00            7  300.00   San Francisco  112 Meadow St    CA   \n",
              "\n",
              "                       Pin  \n",
              "Order Date                  \n",
              "2019-07-07 10:21:00  94016  \n",
              "2019-07-07 10:21:00  94016  \n",
              "2019-07-07 10:21:00  94016  \n",
              "2019-07-21 17:19:00  97035  \n",
              "2019-07-21 17:19:00  97035  \n",
              "2019-07-03 13:42:00  90001  \n",
              "2019-07-03 13:42:00  90001  \n",
              "2019-07-14 14:30:00  94016  \n",
              "2019-07-14 14:30:00  94016  \n",
              "2019-07-11 23:25:00  30301  \n",
              "2019-07-11 23:25:00  30301  \n",
              "2019-07-28 20:40:00  94016  \n",
              "2019-07-28 20:40:00  94016  \n",
              "2019-07-22 09:58:00  94016  \n",
              "2019-07-22 09:58:00  94016  "
            ]
          },
          "metadata": {}
        }
      ]
    },
    {
      "cell_type": "markdown",
      "metadata": {
        "id": "V6cNaDMEVa2q"
      },
      "source": [
        "We now need to group together all the entries (Product) with same Order IDs."
      ]
    },
    {
      "cell_type": "code",
      "metadata": {
        "colab": {
          "base_uri": "https://localhost:8080/",
          "height": 690
        },
        "id": "hUJTopmbVkgW",
        "outputId": "bd12a6f1-a3dc-44b6-cf8d-4f254484688a"
      },
      "source": [
        "dupl_orders['Grouped'] = dupl_orders.groupby('Order ID')['Product'].transform(lambda x: ','.join(x))\n",
        "display(dupl_orders.head(10))"
      ],
      "execution_count": 56,
      "outputs": [
        {
          "output_type": "stream",
          "name": "stderr",
          "text": [
            "/usr/local/lib/python3.7/dist-packages/ipykernel_launcher.py:1: SettingWithCopyWarning: \n",
            "A value is trying to be set on a copy of a slice from a DataFrame.\n",
            "Try using .loc[row_indexer,col_indexer] = value instead\n",
            "\n",
            "See the caveats in the documentation: https://pandas.pydata.org/pandas-docs/stable/user_guide/indexing.html#returning-a-view-versus-a-copy\n",
            "  \"\"\"Entry point for launching an IPython kernel.\n"
          ]
        },
        {
          "output_type": "display_data",
          "data": {
            "text/html": [
              "<div>\n",
              "<style scoped>\n",
              "    .dataframe tbody tr th:only-of-type {\n",
              "        vertical-align: middle;\n",
              "    }\n",
              "\n",
              "    .dataframe tbody tr th {\n",
              "        vertical-align: top;\n",
              "    }\n",
              "\n",
              "    .dataframe thead th {\n",
              "        text-align: right;\n",
              "    }\n",
              "</style>\n",
              "<table border=\"1\" class=\"dataframe\">\n",
              "  <thead>\n",
              "    <tr style=\"text-align: right;\">\n",
              "      <th></th>\n",
              "      <th>Order ID</th>\n",
              "      <th>Product</th>\n",
              "      <th>Quantity Ordered</th>\n",
              "      <th>Price Each</th>\n",
              "      <th>Purchase Address</th>\n",
              "      <th>Order Month</th>\n",
              "      <th>Sales</th>\n",
              "      <th>City</th>\n",
              "      <th>Street</th>\n",
              "      <th>State</th>\n",
              "      <th>Pin</th>\n",
              "      <th>Grouped</th>\n",
              "    </tr>\n",
              "    <tr>\n",
              "      <th>Order Date</th>\n",
              "      <th></th>\n",
              "      <th></th>\n",
              "      <th></th>\n",
              "      <th></th>\n",
              "      <th></th>\n",
              "      <th></th>\n",
              "      <th></th>\n",
              "      <th></th>\n",
              "      <th></th>\n",
              "      <th></th>\n",
              "      <th></th>\n",
              "      <th></th>\n",
              "    </tr>\n",
              "  </thead>\n",
              "  <tbody>\n",
              "    <tr>\n",
              "      <th>2019-07-07 10:21:00</th>\n",
              "      <td>223028</td>\n",
              "      <td>Vareebadd Phone</td>\n",
              "      <td>1</td>\n",
              "      <td>400.00</td>\n",
              "      <td>969 10th St, San Francisco, CA 94016</td>\n",
              "      <td>7</td>\n",
              "      <td>400.00</td>\n",
              "      <td>San Francisco</td>\n",
              "      <td>969 10th St</td>\n",
              "      <td>CA</td>\n",
              "      <td>94016</td>\n",
              "      <td>Vareebadd Phone,USB-C Charging Cable,Wired Hea...</td>\n",
              "    </tr>\n",
              "    <tr>\n",
              "      <th>2019-07-07 10:21:00</th>\n",
              "      <td>223028</td>\n",
              "      <td>USB-C Charging Cable</td>\n",
              "      <td>2</td>\n",
              "      <td>11.95</td>\n",
              "      <td>969 10th St, San Francisco, CA 94016</td>\n",
              "      <td>7</td>\n",
              "      <td>23.90</td>\n",
              "      <td>San Francisco</td>\n",
              "      <td>969 10th St</td>\n",
              "      <td>CA</td>\n",
              "      <td>94016</td>\n",
              "      <td>Vareebadd Phone,USB-C Charging Cable,Wired Hea...</td>\n",
              "    </tr>\n",
              "    <tr>\n",
              "      <th>2019-07-07 10:21:00</th>\n",
              "      <td>223028</td>\n",
              "      <td>Wired Headphones</td>\n",
              "      <td>1</td>\n",
              "      <td>11.99</td>\n",
              "      <td>969 10th St, San Francisco, CA 94016</td>\n",
              "      <td>7</td>\n",
              "      <td>11.99</td>\n",
              "      <td>San Francisco</td>\n",
              "      <td>969 10th St</td>\n",
              "      <td>CA</td>\n",
              "      <td>94016</td>\n",
              "      <td>Vareebadd Phone,USB-C Charging Cable,Wired Hea...</td>\n",
              "    </tr>\n",
              "    <tr>\n",
              "      <th>2019-07-21 17:19:00</th>\n",
              "      <td>223048</td>\n",
              "      <td>Vareebadd Phone</td>\n",
              "      <td>1</td>\n",
              "      <td>400.00</td>\n",
              "      <td>168 8th St, Portland, OR 97035</td>\n",
              "      <td>7</td>\n",
              "      <td>400.00</td>\n",
              "      <td>Portland</td>\n",
              "      <td>168 8th St</td>\n",
              "      <td>OR</td>\n",
              "      <td>97035</td>\n",
              "      <td>Vareebadd Phone,USB-C Charging Cable</td>\n",
              "    </tr>\n",
              "    <tr>\n",
              "      <th>2019-07-21 17:19:00</th>\n",
              "      <td>223048</td>\n",
              "      <td>USB-C Charging Cable</td>\n",
              "      <td>2</td>\n",
              "      <td>11.95</td>\n",
              "      <td>168 8th St, Portland, OR 97035</td>\n",
              "      <td>7</td>\n",
              "      <td>23.90</td>\n",
              "      <td>Portland</td>\n",
              "      <td>168 8th St</td>\n",
              "      <td>OR</td>\n",
              "      <td>97035</td>\n",
              "      <td>Vareebadd Phone,USB-C Charging Cable</td>\n",
              "    </tr>\n",
              "    <tr>\n",
              "      <th>2019-07-03 13:42:00</th>\n",
              "      <td>223095</td>\n",
              "      <td>Apple Airpods Headphones</td>\n",
              "      <td>1</td>\n",
              "      <td>150.00</td>\n",
              "      <td>876 Cedar St, Los Angeles, CA 90001</td>\n",
              "      <td>7</td>\n",
              "      <td>150.00</td>\n",
              "      <td>Los Angeles</td>\n",
              "      <td>876 Cedar St</td>\n",
              "      <td>CA</td>\n",
              "      <td>90001</td>\n",
              "      <td>Apple Airpods Headphones,AA Batteries (4-pack)</td>\n",
              "    </tr>\n",
              "    <tr>\n",
              "      <th>2019-07-03 13:42:00</th>\n",
              "      <td>223095</td>\n",
              "      <td>AA Batteries (4-pack)</td>\n",
              "      <td>1</td>\n",
              "      <td>3.84</td>\n",
              "      <td>876 Cedar St, Los Angeles, CA 90001</td>\n",
              "      <td>7</td>\n",
              "      <td>3.84</td>\n",
              "      <td>Los Angeles</td>\n",
              "      <td>876 Cedar St</td>\n",
              "      <td>CA</td>\n",
              "      <td>90001</td>\n",
              "      <td>Apple Airpods Headphones,AA Batteries (4-pack)</td>\n",
              "    </tr>\n",
              "    <tr>\n",
              "      <th>2019-07-14 14:30:00</th>\n",
              "      <td>223106</td>\n",
              "      <td>Wired Headphones</td>\n",
              "      <td>1</td>\n",
              "      <td>11.99</td>\n",
              "      <td>630 2nd St, San Francisco, CA 94016</td>\n",
              "      <td>7</td>\n",
              "      <td>11.99</td>\n",
              "      <td>San Francisco</td>\n",
              "      <td>630 2nd St</td>\n",
              "      <td>CA</td>\n",
              "      <td>94016</td>\n",
              "      <td>Wired Headphones,Vareebadd Phone</td>\n",
              "    </tr>\n",
              "    <tr>\n",
              "      <th>2019-07-14 14:30:00</th>\n",
              "      <td>223106</td>\n",
              "      <td>Vareebadd Phone</td>\n",
              "      <td>1</td>\n",
              "      <td>400.00</td>\n",
              "      <td>630 2nd St, San Francisco, CA 94016</td>\n",
              "      <td>7</td>\n",
              "      <td>400.00</td>\n",
              "      <td>San Francisco</td>\n",
              "      <td>630 2nd St</td>\n",
              "      <td>CA</td>\n",
              "      <td>94016</td>\n",
              "      <td>Wired Headphones,Vareebadd Phone</td>\n",
              "    </tr>\n",
              "    <tr>\n",
              "      <th>2019-07-11 23:25:00</th>\n",
              "      <td>223117</td>\n",
              "      <td>Google Phone</td>\n",
              "      <td>1</td>\n",
              "      <td>600.00</td>\n",
              "      <td>184 Spruce St, Atlanta, GA 30301</td>\n",
              "      <td>7</td>\n",
              "      <td>600.00</td>\n",
              "      <td>Atlanta</td>\n",
              "      <td>184 Spruce St</td>\n",
              "      <td>GA</td>\n",
              "      <td>30301</td>\n",
              "      <td>Google Phone,USB-C Charging Cable</td>\n",
              "    </tr>\n",
              "  </tbody>\n",
              "</table>\n",
              "</div>"
            ],
            "text/plain": [
              "                    Order ID                   Product  Quantity Ordered  \\\n",
              "Order Date                                                                 \n",
              "2019-07-07 10:21:00   223028           Vareebadd Phone                 1   \n",
              "2019-07-07 10:21:00   223028      USB-C Charging Cable                 2   \n",
              "2019-07-07 10:21:00   223028          Wired Headphones                 1   \n",
              "2019-07-21 17:19:00   223048           Vareebadd Phone                 1   \n",
              "2019-07-21 17:19:00   223048      USB-C Charging Cable                 2   \n",
              "2019-07-03 13:42:00   223095  Apple Airpods Headphones                 1   \n",
              "2019-07-03 13:42:00   223095     AA Batteries (4-pack)                 1   \n",
              "2019-07-14 14:30:00   223106          Wired Headphones                 1   \n",
              "2019-07-14 14:30:00   223106           Vareebadd Phone                 1   \n",
              "2019-07-11 23:25:00   223117              Google Phone                 1   \n",
              "\n",
              "                     Price Each                      Purchase Address  \\\n",
              "Order Date                                                              \n",
              "2019-07-07 10:21:00      400.00  969 10th St, San Francisco, CA 94016   \n",
              "2019-07-07 10:21:00       11.95  969 10th St, San Francisco, CA 94016   \n",
              "2019-07-07 10:21:00       11.99  969 10th St, San Francisco, CA 94016   \n",
              "2019-07-21 17:19:00      400.00        168 8th St, Portland, OR 97035   \n",
              "2019-07-21 17:19:00       11.95        168 8th St, Portland, OR 97035   \n",
              "2019-07-03 13:42:00      150.00   876 Cedar St, Los Angeles, CA 90001   \n",
              "2019-07-03 13:42:00        3.84   876 Cedar St, Los Angeles, CA 90001   \n",
              "2019-07-14 14:30:00       11.99   630 2nd St, San Francisco, CA 94016   \n",
              "2019-07-14 14:30:00      400.00   630 2nd St, San Francisco, CA 94016   \n",
              "2019-07-11 23:25:00      600.00      184 Spruce St, Atlanta, GA 30301   \n",
              "\n",
              "                     Order Month   Sales            City         Street State  \\\n",
              "Order Date                                                                      \n",
              "2019-07-07 10:21:00            7  400.00   San Francisco    969 10th St    CA   \n",
              "2019-07-07 10:21:00            7   23.90   San Francisco    969 10th St    CA   \n",
              "2019-07-07 10:21:00            7   11.99   San Francisco    969 10th St    CA   \n",
              "2019-07-21 17:19:00            7  400.00        Portland     168 8th St    OR   \n",
              "2019-07-21 17:19:00            7   23.90        Portland     168 8th St    OR   \n",
              "2019-07-03 13:42:00            7  150.00     Los Angeles   876 Cedar St    CA   \n",
              "2019-07-03 13:42:00            7    3.84     Los Angeles   876 Cedar St    CA   \n",
              "2019-07-14 14:30:00            7   11.99   San Francisco     630 2nd St    CA   \n",
              "2019-07-14 14:30:00            7  400.00   San Francisco     630 2nd St    CA   \n",
              "2019-07-11 23:25:00            7  600.00         Atlanta  184 Spruce St    GA   \n",
              "\n",
              "                       Pin                                            Grouped  \n",
              "Order Date                                                                     \n",
              "2019-07-07 10:21:00  94016  Vareebadd Phone,USB-C Charging Cable,Wired Hea...  \n",
              "2019-07-07 10:21:00  94016  Vareebadd Phone,USB-C Charging Cable,Wired Hea...  \n",
              "2019-07-07 10:21:00  94016  Vareebadd Phone,USB-C Charging Cable,Wired Hea...  \n",
              "2019-07-21 17:19:00  97035               Vareebadd Phone,USB-C Charging Cable  \n",
              "2019-07-21 17:19:00  97035               Vareebadd Phone,USB-C Charging Cable  \n",
              "2019-07-03 13:42:00  90001     Apple Airpods Headphones,AA Batteries (4-pack)  \n",
              "2019-07-03 13:42:00  90001     Apple Airpods Headphones,AA Batteries (4-pack)  \n",
              "2019-07-14 14:30:00  94016                   Wired Headphones,Vareebadd Phone  \n",
              "2019-07-14 14:30:00  94016                   Wired Headphones,Vareebadd Phone  \n",
              "2019-07-11 23:25:00  30301                  Google Phone,USB-C Charging Cable  "
            ]
          },
          "metadata": {}
        }
      ]
    },
    {
      "cell_type": "code",
      "metadata": {
        "colab": {
          "base_uri": "https://localhost:8080/",
          "height": 394
        },
        "id": "pgahNhpVWpBo",
        "outputId": "d07f40dd-2cfe-440b-85c5-ab16afb3152a"
      },
      "source": [
        "# Removing duplicate entries with the same Order ID\n",
        "dupl_orders = dupl_orders[['Order ID', 'Grouped']].drop_duplicates()\n",
        "display(dupl_orders.head(10))"
      ],
      "execution_count": 57,
      "outputs": [
        {
          "output_type": "display_data",
          "data": {
            "text/html": [
              "<div>\n",
              "<style scoped>\n",
              "    .dataframe tbody tr th:only-of-type {\n",
              "        vertical-align: middle;\n",
              "    }\n",
              "\n",
              "    .dataframe tbody tr th {\n",
              "        vertical-align: top;\n",
              "    }\n",
              "\n",
              "    .dataframe thead th {\n",
              "        text-align: right;\n",
              "    }\n",
              "</style>\n",
              "<table border=\"1\" class=\"dataframe\">\n",
              "  <thead>\n",
              "    <tr style=\"text-align: right;\">\n",
              "      <th></th>\n",
              "      <th>Order ID</th>\n",
              "      <th>Grouped</th>\n",
              "    </tr>\n",
              "    <tr>\n",
              "      <th>Order Date</th>\n",
              "      <th></th>\n",
              "      <th></th>\n",
              "    </tr>\n",
              "  </thead>\n",
              "  <tbody>\n",
              "    <tr>\n",
              "      <th>2019-07-07 10:21:00</th>\n",
              "      <td>223028</td>\n",
              "      <td>Vareebadd Phone,USB-C Charging Cable,Wired Hea...</td>\n",
              "    </tr>\n",
              "    <tr>\n",
              "      <th>2019-07-21 17:19:00</th>\n",
              "      <td>223048</td>\n",
              "      <td>Vareebadd Phone,USB-C Charging Cable</td>\n",
              "    </tr>\n",
              "    <tr>\n",
              "      <th>2019-07-03 13:42:00</th>\n",
              "      <td>223095</td>\n",
              "      <td>Apple Airpods Headphones,AA Batteries (4-pack)</td>\n",
              "    </tr>\n",
              "    <tr>\n",
              "      <th>2019-07-14 14:30:00</th>\n",
              "      <td>223106</td>\n",
              "      <td>Wired Headphones,Vareebadd Phone</td>\n",
              "    </tr>\n",
              "    <tr>\n",
              "      <th>2019-07-11 23:25:00</th>\n",
              "      <td>223117</td>\n",
              "      <td>Google Phone,USB-C Charging Cable</td>\n",
              "    </tr>\n",
              "    <tr>\n",
              "      <th>2019-07-28 20:40:00</th>\n",
              "      <td>223133</td>\n",
              "      <td>AA Batteries (4-pack),AAA Batteries (4-pack)</td>\n",
              "    </tr>\n",
              "    <tr>\n",
              "      <th>2019-07-22 09:58:00</th>\n",
              "      <td>223140</td>\n",
              "      <td>AA Batteries (4-pack),Flatscreen TV</td>\n",
              "    </tr>\n",
              "    <tr>\n",
              "      <th>2019-07-15 21:51:00</th>\n",
              "      <td>223144</td>\n",
              "      <td>Google Phone,USB-C Charging Cable</td>\n",
              "    </tr>\n",
              "    <tr>\n",
              "      <th>2019-07-09 17:05:00</th>\n",
              "      <td>223210</td>\n",
              "      <td>AA Batteries (4-pack),27in FHD Monitor</td>\n",
              "    </tr>\n",
              "    <tr>\n",
              "      <th>2019-07-07 18:32:00</th>\n",
              "      <td>223221</td>\n",
              "      <td>Wired Headphones,Macbook Pro Laptop</td>\n",
              "    </tr>\n",
              "  </tbody>\n",
              "</table>\n",
              "</div>"
            ],
            "text/plain": [
              "                    Order ID  \\\n",
              "Order Date                     \n",
              "2019-07-07 10:21:00   223028   \n",
              "2019-07-21 17:19:00   223048   \n",
              "2019-07-03 13:42:00   223095   \n",
              "2019-07-14 14:30:00   223106   \n",
              "2019-07-11 23:25:00   223117   \n",
              "2019-07-28 20:40:00   223133   \n",
              "2019-07-22 09:58:00   223140   \n",
              "2019-07-15 21:51:00   223144   \n",
              "2019-07-09 17:05:00   223210   \n",
              "2019-07-07 18:32:00   223221   \n",
              "\n",
              "                                                               Grouped  \n",
              "Order Date                                                              \n",
              "2019-07-07 10:21:00  Vareebadd Phone,USB-C Charging Cable,Wired Hea...  \n",
              "2019-07-21 17:19:00               Vareebadd Phone,USB-C Charging Cable  \n",
              "2019-07-03 13:42:00     Apple Airpods Headphones,AA Batteries (4-pack)  \n",
              "2019-07-14 14:30:00                   Wired Headphones,Vareebadd Phone  \n",
              "2019-07-11 23:25:00                  Google Phone,USB-C Charging Cable  \n",
              "2019-07-28 20:40:00       AA Batteries (4-pack),AAA Batteries (4-pack)  \n",
              "2019-07-22 09:58:00                AA Batteries (4-pack),Flatscreen TV  \n",
              "2019-07-15 21:51:00                  Google Phone,USB-C Charging Cable  \n",
              "2019-07-09 17:05:00             AA Batteries (4-pack),27in FHD Monitor  \n",
              "2019-07-07 18:32:00                Wired Headphones,Macbook Pro Laptop  "
            ]
          },
          "metadata": {}
        }
      ]
    },
    {
      "cell_type": "markdown",
      "metadata": {
        "id": "aRXH0d7iXI2Q"
      },
      "source": [
        "We now count the number of occurences of each Grouped product pairs."
      ]
    },
    {
      "cell_type": "code",
      "metadata": {
        "colab": {
          "base_uri": "https://localhost:8080/"
        },
        "id": "f0KX_gViXcko",
        "outputId": "35ffa933-e265-4712-87c7-d361856cccb9"
      },
      "source": [
        "# Reference: https://stackoverflow.com/questions/52195887/counting-unique-pairs-of-numbers-into-a-python-dictionary\n",
        "from itertools import combinations\n",
        "from collections import Counter\n",
        "\n",
        "count = Counter()\n",
        "\n",
        "for row in dupl_orders['Grouped']:\n",
        "  row_list = row.split(',')\n",
        "  count.update(Counter(combinations(row_list, 2)))\n",
        "\n",
        "for key, value in count.most_common(10):\n",
        "  print(key, value)"
      ],
      "execution_count": 64,
      "outputs": [
        {
          "output_type": "stream",
          "name": "stdout",
          "text": [
            "('iPhone', 'Lightning Charging Cable') 1005\n",
            "('Google Phone', 'USB-C Charging Cable') 987\n",
            "('iPhone', 'Wired Headphones') 447\n",
            "('Google Phone', 'Wired Headphones') 414\n",
            "('Vareebadd Phone', 'USB-C Charging Cable') 361\n",
            "('iPhone', 'Apple Airpods Headphones') 360\n",
            "('Google Phone', 'Bose SoundSport Headphones') 220\n",
            "('USB-C Charging Cable', 'Wired Headphones') 160\n",
            "('Vareebadd Phone', 'Wired Headphones') 143\n",
            "('Lightning Charging Cable', 'Wired Headphones') 92\n"
          ]
        }
      ]
    },
    {
      "cell_type": "markdown",
      "metadata": {
        "id": "lMsRYWeoRZPq"
      },
      "source": [
        "## **Alternate Solution**"
      ]
    },
    {
      "cell_type": "code",
      "metadata": {
        "colab": {
          "base_uri": "https://localhost:8080/",
          "height": 342
        },
        "id": "QeycPSjm5aAW",
        "outputId": "b33498d5-13ff-474e-8364-ec9ac914bef4"
      },
      "source": [
        "display(df.head())"
      ],
      "execution_count": 45,
      "outputs": [
        {
          "output_type": "display_data",
          "data": {
            "text/html": [
              "<div>\n",
              "<style scoped>\n",
              "    .dataframe tbody tr th:only-of-type {\n",
              "        vertical-align: middle;\n",
              "    }\n",
              "\n",
              "    .dataframe tbody tr th {\n",
              "        vertical-align: top;\n",
              "    }\n",
              "\n",
              "    .dataframe thead th {\n",
              "        text-align: right;\n",
              "    }\n",
              "</style>\n",
              "<table border=\"1\" class=\"dataframe\">\n",
              "  <thead>\n",
              "    <tr style=\"text-align: right;\">\n",
              "      <th></th>\n",
              "      <th>Order ID</th>\n",
              "      <th>Product</th>\n",
              "      <th>Quantity Ordered</th>\n",
              "      <th>Price Each</th>\n",
              "      <th>Purchase Address</th>\n",
              "      <th>Order Month</th>\n",
              "      <th>Sales</th>\n",
              "      <th>City</th>\n",
              "      <th>Street</th>\n",
              "      <th>State</th>\n",
              "      <th>Pin</th>\n",
              "    </tr>\n",
              "    <tr>\n",
              "      <th>Order Date</th>\n",
              "      <th></th>\n",
              "      <th></th>\n",
              "      <th></th>\n",
              "      <th></th>\n",
              "      <th></th>\n",
              "      <th></th>\n",
              "      <th></th>\n",
              "      <th></th>\n",
              "      <th></th>\n",
              "      <th></th>\n",
              "      <th></th>\n",
              "    </tr>\n",
              "  </thead>\n",
              "  <tbody>\n",
              "    <tr>\n",
              "      <th>2019-07-26 16:51:00</th>\n",
              "      <td>222910</td>\n",
              "      <td>Apple Airpods Headphones</td>\n",
              "      <td>1</td>\n",
              "      <td>150.00</td>\n",
              "      <td>389 South St, Atlanta, GA 30301</td>\n",
              "      <td>7</td>\n",
              "      <td>150.00</td>\n",
              "      <td>Atlanta</td>\n",
              "      <td>389 South St</td>\n",
              "      <td>GA</td>\n",
              "      <td>30301</td>\n",
              "    </tr>\n",
              "    <tr>\n",
              "      <th>2019-07-05 08:55:00</th>\n",
              "      <td>222911</td>\n",
              "      <td>Flatscreen TV</td>\n",
              "      <td>1</td>\n",
              "      <td>300.00</td>\n",
              "      <td>590 4th St, Seattle, WA 98101</td>\n",
              "      <td>7</td>\n",
              "      <td>300.00</td>\n",
              "      <td>Seattle</td>\n",
              "      <td>590 4th St</td>\n",
              "      <td>WA</td>\n",
              "      <td>98101</td>\n",
              "    </tr>\n",
              "    <tr>\n",
              "      <th>2019-07-29 12:41:00</th>\n",
              "      <td>222912</td>\n",
              "      <td>AA Batteries (4-pack)</td>\n",
              "      <td>1</td>\n",
              "      <td>3.84</td>\n",
              "      <td>861 Hill St, Atlanta, GA 30301</td>\n",
              "      <td>7</td>\n",
              "      <td>3.84</td>\n",
              "      <td>Atlanta</td>\n",
              "      <td>861 Hill St</td>\n",
              "      <td>GA</td>\n",
              "      <td>30301</td>\n",
              "    </tr>\n",
              "    <tr>\n",
              "      <th>2019-07-28 10:15:00</th>\n",
              "      <td>222913</td>\n",
              "      <td>AA Batteries (4-pack)</td>\n",
              "      <td>1</td>\n",
              "      <td>3.84</td>\n",
              "      <td>190 Ridge St, Atlanta, GA 30301</td>\n",
              "      <td>7</td>\n",
              "      <td>3.84</td>\n",
              "      <td>Atlanta</td>\n",
              "      <td>190 Ridge St</td>\n",
              "      <td>GA</td>\n",
              "      <td>30301</td>\n",
              "    </tr>\n",
              "    <tr>\n",
              "      <th>2019-07-31 02:13:00</th>\n",
              "      <td>222914</td>\n",
              "      <td>AAA Batteries (4-pack)</td>\n",
              "      <td>5</td>\n",
              "      <td>2.99</td>\n",
              "      <td>824 Forest St, Seattle, WA 98101</td>\n",
              "      <td>7</td>\n",
              "      <td>14.95</td>\n",
              "      <td>Seattle</td>\n",
              "      <td>824 Forest St</td>\n",
              "      <td>WA</td>\n",
              "      <td>98101</td>\n",
              "    </tr>\n",
              "  </tbody>\n",
              "</table>\n",
              "</div>"
            ],
            "text/plain": [
              "                    Order ID                   Product  Quantity Ordered  \\\n",
              "Order Date                                                                 \n",
              "2019-07-26 16:51:00   222910  Apple Airpods Headphones                 1   \n",
              "2019-07-05 08:55:00   222911             Flatscreen TV                 1   \n",
              "2019-07-29 12:41:00   222912     AA Batteries (4-pack)                 1   \n",
              "2019-07-28 10:15:00   222913     AA Batteries (4-pack)                 1   \n",
              "2019-07-31 02:13:00   222914    AAA Batteries (4-pack)                 5   \n",
              "\n",
              "                     Price Each                  Purchase Address  \\\n",
              "Order Date                                                          \n",
              "2019-07-26 16:51:00      150.00   389 South St, Atlanta, GA 30301   \n",
              "2019-07-05 08:55:00      300.00     590 4th St, Seattle, WA 98101   \n",
              "2019-07-29 12:41:00        3.84    861 Hill St, Atlanta, GA 30301   \n",
              "2019-07-28 10:15:00        3.84   190 Ridge St, Atlanta, GA 30301   \n",
              "2019-07-31 02:13:00        2.99  824 Forest St, Seattle, WA 98101   \n",
              "\n",
              "                     Order Month   Sales      City         Street State    Pin  \n",
              "Order Date                                                                      \n",
              "2019-07-26 16:51:00            7  150.00   Atlanta   389 South St    GA  30301  \n",
              "2019-07-05 08:55:00            7  300.00   Seattle     590 4th St    WA  98101  \n",
              "2019-07-29 12:41:00            7    3.84   Atlanta    861 Hill St    GA  30301  \n",
              "2019-07-28 10:15:00            7    3.84   Atlanta   190 Ridge St    GA  30301  \n",
              "2019-07-31 02:13:00            7   14.95   Seattle  824 Forest St    WA  98101  "
            ]
          },
          "metadata": {}
        }
      ]
    },
    {
      "cell_type": "code",
      "metadata": {
        "colab": {
          "base_uri": "https://localhost:8080/"
        },
        "id": "Ygp8Psvy-pv3",
        "outputId": "8fbb1b87-403b-4d38-9e28-facce1d58c18"
      },
      "source": [
        "fr = df.groupby(['Order ID']).count()['Product']\n",
        "fr = pd.DataFrame(fr[fr>1])\n",
        "len(fr.index)"
      ],
      "execution_count": 46,
      "outputs": [
        {
          "output_type": "execute_result",
          "data": {
            "text/plain": [
              "7136"
            ]
          },
          "metadata": {},
          "execution_count": 46
        }
      ]
    },
    {
      "cell_type": "code",
      "metadata": {
        "id": "uFn6pW4ERPY2"
      },
      "source": [
        "from itertools import combinations as cmb"
      ],
      "execution_count": 47,
      "outputs": []
    },
    {
      "cell_type": "code",
      "metadata": {
        "id": "PQoWQ7aFQlDG"
      },
      "source": [
        "total_products = list(set(df['Product']))\n",
        "totProductCombs = list(cmb(total_products, 2))\n",
        "totProductCombs = [frozenset(x) for x in totProductCombs]"
      ],
      "execution_count": 48,
      "outputs": []
    },
    {
      "cell_type": "code",
      "metadata": {
        "colab": {
          "base_uri": "https://localhost:8080/"
        },
        "id": "kWYEEhAXDCUc",
        "outputId": "ba71e25f-5c80-41ab-aa79-e68fcf30afe1"
      },
      "source": [
        "recorder = {}\n",
        "for order in fr.index:\n",
        "  #print(set(df[df['Order ID'] == order]['Product']))\n",
        "  combination = frozenset(df[df['Order ID'] == order]['Product'])\n",
        "  if combination in totProductCombs:\n",
        "    recorder[combination] = recorder.get(combination, 0) + 1\n",
        "\n",
        "recorder"
      ],
      "execution_count": 49,
      "outputs": [
        {
          "output_type": "execute_result",
          "data": {
            "text/plain": [
              "{frozenset({'USB-C Charging Cable', 'Wired Headphones'}): 82,\n",
              " frozenset({'AA Batteries (4-pack)', 'Apple Airpods Headphones'}): 70,\n",
              " frozenset({'Vareebadd Phone', 'Wired Headphones'}): 110,\n",
              " frozenset({'Google Phone', 'USB-C Charging Cable'}): 869,\n",
              " frozenset({'Bose SoundSport Headphones', 'Google Phone'}): 169,\n",
              " frozenset({'Apple Airpods Headphones', 'iPhone'}): 299,\n",
              " frozenset({'Apple Airpods Headphones', 'Google Phone'}): 17,\n",
              " frozenset({'Apple Airpods Headphones', 'USB-C Charging Cable'}): 60,\n",
              " frozenset({'Lightning Charging Cable', 'Wired Headphones'}): 66,\n",
              " frozenset({'Lightning Charging Cable', 'iPhone'}): 895,\n",
              " frozenset({'27in FHD Monitor', 'Bose SoundSport Headphones'}): 25,\n",
              " frozenset({'Wired Headphones', 'iPhone'}): 374,\n",
              " frozenset({'AA Batteries (4-pack)', 'AAA Batteries (4-pack)'}): 87,\n",
              " frozenset({'34in Ultrawide Monitor', 'Lightning Charging Cable'}): 32,\n",
              " frozenset({'Bose SoundSport Headphones', 'Lightning Charging Cable'}): 71,\n",
              " frozenset({'Google Phone', 'Wired Headphones'}): 311,\n",
              " frozenset({'Apple Airpods Headphones', 'Lightning Charging Cable'}): 69,\n",
              " frozenset({'Google Phone', 'iPhone'}): 6,\n",
              " frozenset({'20in Monitor', 'Wired Headphones'}): 19,\n",
              " frozenset({'20in Monitor', 'Bose SoundSport Headphones'}): 15,\n",
              " frozenset({'USB-C Charging Cable', 'Vareebadd Phone'}): 318,\n",
              " frozenset({'Bose SoundSport Headphones', 'Vareebadd Phone'}): 62,\n",
              " frozenset({'AAA Batteries (4-pack)', 'Apple Airpods Headphones'}): 78,\n",
              " frozenset({'27in 4K Gaming Monitor', 'AAA Batteries (4-pack)'}): 30,\n",
              " frozenset({'AA Batteries (4-pack)', 'USB-C Charging Cable'}): 72,\n",
              " frozenset({'Lightning Charging Cable', 'USB-C Charging Cable'}): 96,\n",
              " frozenset({'AA Batteries (4-pack)', 'Macbook Pro Laptop'}): 17,\n",
              " frozenset({'Bose SoundSport Headphones', 'Macbook Pro Laptop'}): 15,\n",
              " frozenset({'34in Ultrawide Monitor', 'Wired Headphones'}): 28,\n",
              " frozenset({'AA Batteries (4-pack)', 'Wired Headphones'}): 80,\n",
              " frozenset({'20in Monitor', 'USB-C Charging Cable'}): 25,\n",
              " frozenset({'Apple Airpods Headphones', 'Bose SoundSport Headphones'}): 48,\n",
              " frozenset({'ThinkPad Laptop', 'Wired Headphones'}): 14,\n",
              " frozenset({'Flatscreen TV', 'LG Dryer'}): 1,\n",
              " frozenset({'AA Batteries (4-pack)', 'Bose SoundSport Headphones'}): 55,\n",
              " frozenset({'Apple Airpods Headphones', 'ThinkPad Laptop'}): 16,\n",
              " frozenset({'AAA Batteries (4-pack)', 'Flatscreen TV'}): 21,\n",
              " frozenset({'AAA Batteries (4-pack)', 'USB-C Charging Cable'}): 92,\n",
              " frozenset({'27in FHD Monitor', 'USB-C Charging Cable'}): 41,\n",
              " frozenset({'27in 4K Gaming Monitor', 'AA Batteries (4-pack)'}): 26,\n",
              " frozenset({'27in 4K Gaming Monitor', 'iPhone'}): 8,\n",
              " frozenset({'Bose SoundSport Headphones', 'Wired Headphones'}): 45,\n",
              " frozenset({'AAA Batteries (4-pack)', 'Lightning Charging Cable'}): 79,\n",
              " frozenset({'27in FHD Monitor', 'Lightning Charging Cable'}): 36,\n",
              " frozenset({'Flatscreen TV', 'USB-C Charging Cable'}): 17,\n",
              " frozenset({'Bose SoundSport Headphones', 'LG Washing Machine'}): 2,\n",
              " frozenset({'Lightning Charging Cable', 'Macbook Pro Laptop'}): 21,\n",
              " frozenset({'USB-C Charging Cable', 'iPhone'}): 24,\n",
              " frozenset({'AA Batteries (4-pack)', 'Lightning Charging Cable'}): 103,\n",
              " frozenset({'AA Batteries (4-pack)', 'LG Dryer'}): 6,\n",
              " frozenset({'Bose SoundSport Headphones', 'USB-C Charging Cable'}): 51,\n",
              " frozenset({'AAA Batteries (4-pack)', 'Vareebadd Phone'}): 6,\n",
              " frozenset({'Apple Airpods Headphones', 'Flatscreen TV'}): 13,\n",
              " frozenset({'AAA Batteries (4-pack)', 'Wired Headphones'}): 86,\n",
              " frozenset({'AAA Batteries (4-pack)', 'Bose SoundSport Headphones'}): 57,\n",
              " frozenset({'Flatscreen TV', 'Lightning Charging Cable'}): 21,\n",
              " frozenset({'Google Phone', 'Lightning Charging Cable'}): 24,\n",
              " frozenset({'AA Batteries (4-pack)', 'Flatscreen TV'}): 21,\n",
              " frozenset({'34in Ultrawide Monitor', 'Flatscreen TV'}): 8,\n",
              " frozenset({'27in FHD Monitor', 'AAA Batteries (4-pack)'}): 43,\n",
              " frozenset({'27in 4K Gaming Monitor', '27in FHD Monitor'}): 8,\n",
              " frozenset({'34in Ultrawide Monitor', 'AA Batteries (4-pack)'}): 32,\n",
              " frozenset({'Flatscreen TV', 'Wired Headphones'}): 11,\n",
              " frozenset({'Apple Airpods Headphones', 'Wired Headphones'}): 71,\n",
              " frozenset({'27in 4K Gaming Monitor', 'USB-C Charging Cable'}): 23,\n",
              " frozenset({'34in Ultrawide Monitor', 'AAA Batteries (4-pack)'}): 25,\n",
              " frozenset({'Apple Airpods Headphones', 'Macbook Pro Laptop'}): 19,\n",
              " frozenset({'34in Ultrawide Monitor', 'USB-C Charging Cable'}): 25,\n",
              " frozenset({'20in Monitor', 'Lightning Charging Cable'}): 26,\n",
              " frozenset({'Apple Airpods Headphones', 'Vareebadd Phone'}): 10,\n",
              " frozenset({'ThinkPad Laptop', 'USB-C Charging Cable'}): 20,\n",
              " frozenset({'27in 4K Gaming Monitor', 'Bose SoundSport Headphones'}): 19,\n",
              " frozenset({'27in 4K Gaming Monitor', 'Lightning Charging Cable'}): 33,\n",
              " frozenset({'27in FHD Monitor', 'Apple Airpods Headphones'}): 24,\n",
              " frozenset({'34in Ultrawide Monitor', 'Apple Airpods Headphones'}): 14,\n",
              " frozenset({'AA Batteries (4-pack)', 'ThinkPad Laptop'}): 17,\n",
              " frozenset({'AA Batteries (4-pack)', 'Google Phone'}): 21,\n",
              " frozenset({'27in FHD Monitor', 'Wired Headphones'}): 21,\n",
              " frozenset({'Flatscreen TV', 'Google Phone'}): 4,\n",
              " frozenset({'Macbook Pro Laptop', 'iPhone'}): 6,\n",
              " frozenset({'Google Phone', 'LG Washing Machine'}): 1,\n",
              " frozenset({'LG Washing Machine', 'Wired Headphones'}): 4,\n",
              " frozenset({'27in FHD Monitor', 'Macbook Pro Laptop'}): 9,\n",
              " frozenset({'AAA Batteries (4-pack)', 'ThinkPad Laptop'}): 27,\n",
              " frozenset({'AAA Batteries (4-pack)', 'iPhone'}): 27,\n",
              " frozenset({'AAA Batteries (4-pack)', 'Macbook Pro Laptop'}): 18,\n",
              " frozenset({'Bose SoundSport Headphones', 'Flatscreen TV'}): 12,\n",
              " frozenset({'27in 4K Gaming Monitor', 'Macbook Pro Laptop'}): 13,\n",
              " frozenset({'Google Phone', 'Vareebadd Phone'}): 4,\n",
              " frozenset({'Bose SoundSport Headphones', 'ThinkPad Laptop'}): 13,\n",
              " frozenset({'AA Batteries (4-pack)', 'Vareebadd Phone'}): 12,\n",
              " frozenset({'Macbook Pro Laptop', 'Wired Headphones'}): 19,\n",
              " frozenset({'27in 4K Gaming Monitor', 'Google Phone'}): 6,\n",
              " frozenset({'27in 4K Gaming Monitor', 'Wired Headphones'}): 28,\n",
              " frozenset({'AAA Batteries (4-pack)', 'Google Phone'}): 19,\n",
              " frozenset({'Lightning Charging Cable', 'ThinkPad Laptop'}): 20,\n",
              " frozenset({'Macbook Pro Laptop', 'USB-C Charging Cable'}): 21,\n",
              " frozenset({'Flatscreen TV', 'iPhone'}): 9,\n",
              " frozenset({'27in FHD Monitor', 'AA Batteries (4-pack)'}): 26,\n",
              " frozenset({'AA Batteries (4-pack)', 'iPhone'}): 29,\n",
              " frozenset({'27in FHD Monitor', 'LG Dryer'}): 3,\n",
              " frozenset({'20in Monitor', '27in FHD Monitor'}): 5,\n",
              " frozenset({'20in Monitor', 'AA Batteries (4-pack)'}): 16,\n",
              " frozenset({'20in Monitor', 'Apple Airpods Headphones'}): 13,\n",
              " frozenset({'20in Monitor', 'Macbook Pro Laptop'}): 6,\n",
              " frozenset({'27in FHD Monitor', '34in Ultrawide Monitor'}): 10,\n",
              " frozenset({'ThinkPad Laptop', 'iPhone'}): 7,\n",
              " frozenset({'20in Monitor', '27in 4K Gaming Monitor'}): 2,\n",
              " frozenset({'LG Washing Machine', 'Lightning Charging Cable'}): 6,\n",
              " frozenset({'27in 4K Gaming Monitor', 'Vareebadd Phone'}): 2,\n",
              " frozenset({'27in FHD Monitor', 'Google Phone'}): 5,\n",
              " frozenset({'34in Ultrawide Monitor', 'Bose SoundSport Headphones'}): 16,\n",
              " frozenset({'27in FHD Monitor', 'Vareebadd Phone'}): 2,\n",
              " frozenset({'27in 4K Gaming Monitor', 'LG Washing Machine'}): 1,\n",
              " frozenset({'Flatscreen TV', 'ThinkPad Laptop'}): 6,\n",
              " frozenset({'27in 4K Gaming Monitor', 'Apple Airpods Headphones'}): 22,\n",
              " frozenset({'27in 4K Gaming Monitor', 'Flatscreen TV'}): 5,\n",
              " frozenset({'ThinkPad Laptop', 'Vareebadd Phone'}): 3,\n",
              " frozenset({'34in Ultrawide Monitor', 'Google Phone'}): 4,\n",
              " frozenset({'AAA Batteries (4-pack)', 'LG Washing Machine'}): 4,\n",
              " frozenset({'Apple Airpods Headphones', 'LG Washing Machine'}): 1,\n",
              " frozenset({'27in 4K Gaming Monitor', '34in Ultrawide Monitor'}): 6,\n",
              " frozenset({'27in FHD Monitor', 'Flatscreen TV'}): 6,\n",
              " frozenset({'Bose SoundSport Headphones', 'iPhone'}): 11,\n",
              " frozenset({'27in 4K Gaming Monitor', 'LG Dryer'}): 2,\n",
              " frozenset({'20in Monitor', 'LG Washing Machine'}): 2,\n",
              " frozenset({'Apple Airpods Headphones', 'LG Dryer'}): 3,\n",
              " frozenset({'Google Phone', 'LG Dryer'}): 1,\n",
              " frozenset({'20in Monitor', 'AAA Batteries (4-pack)'}): 11,\n",
              " frozenset({'Macbook Pro Laptop', 'ThinkPad Laptop'}): 5,\n",
              " frozenset({'Google Phone', 'ThinkPad Laptop'}): 6,\n",
              " frozenset({'34in Ultrawide Monitor', 'Macbook Pro Laptop'}): 7,\n",
              " frozenset({'LG Dryer', 'Lightning Charging Cable'}): 3,\n",
              " frozenset({'34in Ultrawide Monitor', 'iPhone'}): 12,\n",
              " frozenset({'Vareebadd Phone', 'iPhone'}): 4,\n",
              " frozenset({'34in Ultrawide Monitor', 'Vareebadd Phone'}): 4,\n",
              " frozenset({'27in FHD Monitor', 'iPhone'}): 2,\n",
              " frozenset({'Lightning Charging Cable', 'Vareebadd Phone'}): 3,\n",
              " frozenset({'27in 4K Gaming Monitor', 'ThinkPad Laptop'}): 5,\n",
              " frozenset({'27in FHD Monitor', 'ThinkPad Laptop'}): 6,\n",
              " frozenset({'20in Monitor', 'Flatscreen TV'}): 2,\n",
              " frozenset({'LG Dryer', 'USB-C Charging Cable'}): 1,\n",
              " frozenset({'Flatscreen TV', 'Macbook Pro Laptop'}): 5,\n",
              " frozenset({'34in Ultrawide Monitor', 'LG Washing Machine'}): 1,\n",
              " frozenset({'Google Phone', 'Macbook Pro Laptop'}): 6,\n",
              " frozenset({'LG Washing Machine', 'iPhone'}): 2,\n",
              " frozenset({'LG Dryer', 'Wired Headphones'}): 1,\n",
              " frozenset({'20in Monitor', 'iPhone'}): 3,\n",
              " frozenset({'27in FHD Monitor', 'LG Washing Machine'}): 1,\n",
              " frozenset({'20in Monitor', '34in Ultrawide Monitor'}): 2,\n",
              " frozenset({'20in Monitor', 'Google Phone'}): 4,\n",
              " frozenset({'Flatscreen TV', 'Vareebadd Phone'}): 2,\n",
              " frozenset({'LG Washing Machine', 'Macbook Pro Laptop'}): 2,\n",
              " frozenset({'34in Ultrawide Monitor', 'ThinkPad Laptop'}): 4,\n",
              " frozenset({'LG Dryer', 'Vareebadd Phone'}): 1,\n",
              " frozenset({'LG Dryer', 'ThinkPad Laptop'}): 1,\n",
              " frozenset({'AA Batteries (4-pack)', 'LG Washing Machine'}): 1,\n",
              " frozenset({'20in Monitor', 'ThinkPad Laptop'}): 2,\n",
              " frozenset({'AAA Batteries (4-pack)', 'LG Dryer'}): 2}"
            ]
          },
          "metadata": {},
          "execution_count": 49
        }
      ]
    },
    {
      "cell_type": "markdown",
      "metadata": {
        "id": "TrcvRajCWlvU"
      },
      "source": [
        "Function that sorts dictionary by values"
      ]
    },
    {
      "cell_type": "code",
      "metadata": {
        "id": "IOjJ-V2bWj-B"
      },
      "source": [
        "def sortDictReverse(x):\n",
        "    keys = sorted(x, reverse = True, key = x.get)\n",
        "    return {key: x[key] for key in keys}"
      ],
      "execution_count": 50,
      "outputs": []
    },
    {
      "cell_type": "code",
      "metadata": {
        "colab": {
          "base_uri": "https://localhost:8080/"
        },
        "id": "6VLRo12PW55J",
        "outputId": "643c07a3-f3f0-402f-f367-c5af895553b0"
      },
      "source": [
        "sortDictReverse(recorder)"
      ],
      "execution_count": 51,
      "outputs": [
        {
          "output_type": "execute_result",
          "data": {
            "text/plain": [
              "{frozenset({'Lightning Charging Cable', 'iPhone'}): 895,\n",
              " frozenset({'Google Phone', 'USB-C Charging Cable'}): 869,\n",
              " frozenset({'Wired Headphones', 'iPhone'}): 374,\n",
              " frozenset({'USB-C Charging Cable', 'Vareebadd Phone'}): 318,\n",
              " frozenset({'Google Phone', 'Wired Headphones'}): 311,\n",
              " frozenset({'Apple Airpods Headphones', 'iPhone'}): 299,\n",
              " frozenset({'Bose SoundSport Headphones', 'Google Phone'}): 169,\n",
              " frozenset({'Vareebadd Phone', 'Wired Headphones'}): 110,\n",
              " frozenset({'AA Batteries (4-pack)', 'Lightning Charging Cable'}): 103,\n",
              " frozenset({'Lightning Charging Cable', 'USB-C Charging Cable'}): 96,\n",
              " frozenset({'AAA Batteries (4-pack)', 'USB-C Charging Cable'}): 92,\n",
              " frozenset({'AA Batteries (4-pack)', 'AAA Batteries (4-pack)'}): 87,\n",
              " frozenset({'AAA Batteries (4-pack)', 'Wired Headphones'}): 86,\n",
              " frozenset({'USB-C Charging Cable', 'Wired Headphones'}): 82,\n",
              " frozenset({'AA Batteries (4-pack)', 'Wired Headphones'}): 80,\n",
              " frozenset({'AAA Batteries (4-pack)', 'Lightning Charging Cable'}): 79,\n",
              " frozenset({'AAA Batteries (4-pack)', 'Apple Airpods Headphones'}): 78,\n",
              " frozenset({'AA Batteries (4-pack)', 'USB-C Charging Cable'}): 72,\n",
              " frozenset({'Bose SoundSport Headphones', 'Lightning Charging Cable'}): 71,\n",
              " frozenset({'Apple Airpods Headphones', 'Wired Headphones'}): 71,\n",
              " frozenset({'AA Batteries (4-pack)', 'Apple Airpods Headphones'}): 70,\n",
              " frozenset({'Apple Airpods Headphones', 'Lightning Charging Cable'}): 69,\n",
              " frozenset({'Lightning Charging Cable', 'Wired Headphones'}): 66,\n",
              " frozenset({'Bose SoundSport Headphones', 'Vareebadd Phone'}): 62,\n",
              " frozenset({'Apple Airpods Headphones', 'USB-C Charging Cable'}): 60,\n",
              " frozenset({'AAA Batteries (4-pack)', 'Bose SoundSport Headphones'}): 57,\n",
              " frozenset({'AA Batteries (4-pack)', 'Bose SoundSport Headphones'}): 55,\n",
              " frozenset({'Bose SoundSport Headphones', 'USB-C Charging Cable'}): 51,\n",
              " frozenset({'Apple Airpods Headphones', 'Bose SoundSport Headphones'}): 48,\n",
              " frozenset({'Bose SoundSport Headphones', 'Wired Headphones'}): 45,\n",
              " frozenset({'27in FHD Monitor', 'AAA Batteries (4-pack)'}): 43,\n",
              " frozenset({'27in FHD Monitor', 'USB-C Charging Cable'}): 41,\n",
              " frozenset({'27in FHD Monitor', 'Lightning Charging Cable'}): 36,\n",
              " frozenset({'27in 4K Gaming Monitor', 'Lightning Charging Cable'}): 33,\n",
              " frozenset({'34in Ultrawide Monitor', 'Lightning Charging Cable'}): 32,\n",
              " frozenset({'34in Ultrawide Monitor', 'AA Batteries (4-pack)'}): 32,\n",
              " frozenset({'27in 4K Gaming Monitor', 'AAA Batteries (4-pack)'}): 30,\n",
              " frozenset({'AA Batteries (4-pack)', 'iPhone'}): 29,\n",
              " frozenset({'34in Ultrawide Monitor', 'Wired Headphones'}): 28,\n",
              " frozenset({'27in 4K Gaming Monitor', 'Wired Headphones'}): 28,\n",
              " frozenset({'AAA Batteries (4-pack)', 'ThinkPad Laptop'}): 27,\n",
              " frozenset({'AAA Batteries (4-pack)', 'iPhone'}): 27,\n",
              " frozenset({'27in 4K Gaming Monitor', 'AA Batteries (4-pack)'}): 26,\n",
              " frozenset({'20in Monitor', 'Lightning Charging Cable'}): 26,\n",
              " frozenset({'27in FHD Monitor', 'AA Batteries (4-pack)'}): 26,\n",
              " frozenset({'27in FHD Monitor', 'Bose SoundSport Headphones'}): 25,\n",
              " frozenset({'20in Monitor', 'USB-C Charging Cable'}): 25,\n",
              " frozenset({'34in Ultrawide Monitor', 'AAA Batteries (4-pack)'}): 25,\n",
              " frozenset({'34in Ultrawide Monitor', 'USB-C Charging Cable'}): 25,\n",
              " frozenset({'USB-C Charging Cable', 'iPhone'}): 24,\n",
              " frozenset({'Google Phone', 'Lightning Charging Cable'}): 24,\n",
              " frozenset({'27in FHD Monitor', 'Apple Airpods Headphones'}): 24,\n",
              " frozenset({'27in 4K Gaming Monitor', 'USB-C Charging Cable'}): 23,\n",
              " frozenset({'27in 4K Gaming Monitor', 'Apple Airpods Headphones'}): 22,\n",
              " frozenset({'AAA Batteries (4-pack)', 'Flatscreen TV'}): 21,\n",
              " frozenset({'Lightning Charging Cable', 'Macbook Pro Laptop'}): 21,\n",
              " frozenset({'Flatscreen TV', 'Lightning Charging Cable'}): 21,\n",
              " frozenset({'AA Batteries (4-pack)', 'Flatscreen TV'}): 21,\n",
              " frozenset({'AA Batteries (4-pack)', 'Google Phone'}): 21,\n",
              " frozenset({'27in FHD Monitor', 'Wired Headphones'}): 21,\n",
              " frozenset({'Macbook Pro Laptop', 'USB-C Charging Cable'}): 21,\n",
              " frozenset({'ThinkPad Laptop', 'USB-C Charging Cable'}): 20,\n",
              " frozenset({'Lightning Charging Cable', 'ThinkPad Laptop'}): 20,\n",
              " frozenset({'20in Monitor', 'Wired Headphones'}): 19,\n",
              " frozenset({'Apple Airpods Headphones', 'Macbook Pro Laptop'}): 19,\n",
              " frozenset({'27in 4K Gaming Monitor', 'Bose SoundSport Headphones'}): 19,\n",
              " frozenset({'Macbook Pro Laptop', 'Wired Headphones'}): 19,\n",
              " frozenset({'AAA Batteries (4-pack)', 'Google Phone'}): 19,\n",
              " frozenset({'AAA Batteries (4-pack)', 'Macbook Pro Laptop'}): 18,\n",
              " frozenset({'Apple Airpods Headphones', 'Google Phone'}): 17,\n",
              " frozenset({'AA Batteries (4-pack)', 'Macbook Pro Laptop'}): 17,\n",
              " frozenset({'Flatscreen TV', 'USB-C Charging Cable'}): 17,\n",
              " frozenset({'AA Batteries (4-pack)', 'ThinkPad Laptop'}): 17,\n",
              " frozenset({'Apple Airpods Headphones', 'ThinkPad Laptop'}): 16,\n",
              " frozenset({'20in Monitor', 'AA Batteries (4-pack)'}): 16,\n",
              " frozenset({'34in Ultrawide Monitor', 'Bose SoundSport Headphones'}): 16,\n",
              " frozenset({'20in Monitor', 'Bose SoundSport Headphones'}): 15,\n",
              " frozenset({'Bose SoundSport Headphones', 'Macbook Pro Laptop'}): 15,\n",
              " frozenset({'ThinkPad Laptop', 'Wired Headphones'}): 14,\n",
              " frozenset({'34in Ultrawide Monitor', 'Apple Airpods Headphones'}): 14,\n",
              " frozenset({'Apple Airpods Headphones', 'Flatscreen TV'}): 13,\n",
              " frozenset({'27in 4K Gaming Monitor', 'Macbook Pro Laptop'}): 13,\n",
              " frozenset({'Bose SoundSport Headphones', 'ThinkPad Laptop'}): 13,\n",
              " frozenset({'20in Monitor', 'Apple Airpods Headphones'}): 13,\n",
              " frozenset({'Bose SoundSport Headphones', 'Flatscreen TV'}): 12,\n",
              " frozenset({'AA Batteries (4-pack)', 'Vareebadd Phone'}): 12,\n",
              " frozenset({'34in Ultrawide Monitor', 'iPhone'}): 12,\n",
              " frozenset({'Flatscreen TV', 'Wired Headphones'}): 11,\n",
              " frozenset({'Bose SoundSport Headphones', 'iPhone'}): 11,\n",
              " frozenset({'20in Monitor', 'AAA Batteries (4-pack)'}): 11,\n",
              " frozenset({'Apple Airpods Headphones', 'Vareebadd Phone'}): 10,\n",
              " frozenset({'27in FHD Monitor', '34in Ultrawide Monitor'}): 10,\n",
              " frozenset({'27in FHD Monitor', 'Macbook Pro Laptop'}): 9,\n",
              " frozenset({'Flatscreen TV', 'iPhone'}): 9,\n",
              " frozenset({'27in 4K Gaming Monitor', 'iPhone'}): 8,\n",
              " frozenset({'34in Ultrawide Monitor', 'Flatscreen TV'}): 8,\n",
              " frozenset({'27in 4K Gaming Monitor', '27in FHD Monitor'}): 8,\n",
              " frozenset({'ThinkPad Laptop', 'iPhone'}): 7,\n",
              " frozenset({'34in Ultrawide Monitor', 'Macbook Pro Laptop'}): 7,\n",
              " frozenset({'Google Phone', 'iPhone'}): 6,\n",
              " frozenset({'AA Batteries (4-pack)', 'LG Dryer'}): 6,\n",
              " frozenset({'AAA Batteries (4-pack)', 'Vareebadd Phone'}): 6,\n",
              " frozenset({'Macbook Pro Laptop', 'iPhone'}): 6,\n",
              " frozenset({'27in 4K Gaming Monitor', 'Google Phone'}): 6,\n",
              " frozenset({'20in Monitor', 'Macbook Pro Laptop'}): 6,\n",
              " frozenset({'LG Washing Machine', 'Lightning Charging Cable'}): 6,\n",
              " frozenset({'Flatscreen TV', 'ThinkPad Laptop'}): 6,\n",
              " frozenset({'27in 4K Gaming Monitor', '34in Ultrawide Monitor'}): 6,\n",
              " frozenset({'27in FHD Monitor', 'Flatscreen TV'}): 6,\n",
              " frozenset({'Google Phone', 'ThinkPad Laptop'}): 6,\n",
              " frozenset({'27in FHD Monitor', 'ThinkPad Laptop'}): 6,\n",
              " frozenset({'Google Phone', 'Macbook Pro Laptop'}): 6,\n",
              " frozenset({'20in Monitor', '27in FHD Monitor'}): 5,\n",
              " frozenset({'27in FHD Monitor', 'Google Phone'}): 5,\n",
              " frozenset({'27in 4K Gaming Monitor', 'Flatscreen TV'}): 5,\n",
              " frozenset({'Macbook Pro Laptop', 'ThinkPad Laptop'}): 5,\n",
              " frozenset({'27in 4K Gaming Monitor', 'ThinkPad Laptop'}): 5,\n",
              " frozenset({'Flatscreen TV', 'Macbook Pro Laptop'}): 5,\n",
              " frozenset({'Flatscreen TV', 'Google Phone'}): 4,\n",
              " frozenset({'LG Washing Machine', 'Wired Headphones'}): 4,\n",
              " frozenset({'Google Phone', 'Vareebadd Phone'}): 4,\n",
              " frozenset({'34in Ultrawide Monitor', 'Google Phone'}): 4,\n",
              " frozenset({'AAA Batteries (4-pack)', 'LG Washing Machine'}): 4,\n",
              " frozenset({'Vareebadd Phone', 'iPhone'}): 4,\n",
              " frozenset({'34in Ultrawide Monitor', 'Vareebadd Phone'}): 4,\n",
              " frozenset({'20in Monitor', 'Google Phone'}): 4,\n",
              " frozenset({'34in Ultrawide Monitor', 'ThinkPad Laptop'}): 4,\n",
              " frozenset({'27in FHD Monitor', 'LG Dryer'}): 3,\n",
              " frozenset({'ThinkPad Laptop', 'Vareebadd Phone'}): 3,\n",
              " frozenset({'Apple Airpods Headphones', 'LG Dryer'}): 3,\n",
              " frozenset({'LG Dryer', 'Lightning Charging Cable'}): 3,\n",
              " frozenset({'Lightning Charging Cable', 'Vareebadd Phone'}): 3,\n",
              " frozenset({'20in Monitor', 'iPhone'}): 3,\n",
              " frozenset({'Bose SoundSport Headphones', 'LG Washing Machine'}): 2,\n",
              " frozenset({'20in Monitor', '27in 4K Gaming Monitor'}): 2,\n",
              " frozenset({'27in 4K Gaming Monitor', 'Vareebadd Phone'}): 2,\n",
              " frozenset({'27in FHD Monitor', 'Vareebadd Phone'}): 2,\n",
              " frozenset({'27in 4K Gaming Monitor', 'LG Dryer'}): 2,\n",
              " frozenset({'20in Monitor', 'LG Washing Machine'}): 2,\n",
              " frozenset({'27in FHD Monitor', 'iPhone'}): 2,\n",
              " frozenset({'20in Monitor', 'Flatscreen TV'}): 2,\n",
              " frozenset({'LG Washing Machine', 'iPhone'}): 2,\n",
              " frozenset({'20in Monitor', '34in Ultrawide Monitor'}): 2,\n",
              " frozenset({'Flatscreen TV', 'Vareebadd Phone'}): 2,\n",
              " frozenset({'LG Washing Machine', 'Macbook Pro Laptop'}): 2,\n",
              " frozenset({'20in Monitor', 'ThinkPad Laptop'}): 2,\n",
              " frozenset({'AAA Batteries (4-pack)', 'LG Dryer'}): 2,\n",
              " frozenset({'Flatscreen TV', 'LG Dryer'}): 1,\n",
              " frozenset({'Google Phone', 'LG Washing Machine'}): 1,\n",
              " frozenset({'27in 4K Gaming Monitor', 'LG Washing Machine'}): 1,\n",
              " frozenset({'Apple Airpods Headphones', 'LG Washing Machine'}): 1,\n",
              " frozenset({'Google Phone', 'LG Dryer'}): 1,\n",
              " frozenset({'LG Dryer', 'USB-C Charging Cable'}): 1,\n",
              " frozenset({'34in Ultrawide Monitor', 'LG Washing Machine'}): 1,\n",
              " frozenset({'LG Dryer', 'Wired Headphones'}): 1,\n",
              " frozenset({'27in FHD Monitor', 'LG Washing Machine'}): 1,\n",
              " frozenset({'LG Dryer', 'Vareebadd Phone'}): 1,\n",
              " frozenset({'LG Dryer', 'ThinkPad Laptop'}): 1,\n",
              " frozenset({'AA Batteries (4-pack)', 'LG Washing Machine'}): 1}"
            ]
          },
          "metadata": {},
          "execution_count": 51
        }
      ]
    },
    {
      "cell_type": "markdown",
      "metadata": {
        "id": "ajnC6YaRanIt"
      },
      "source": [
        "# **Question 5: Which product was sold the most? Why do you think it was sold the most?**"
      ]
    },
    {
      "cell_type": "code",
      "metadata": {
        "colab": {
          "base_uri": "https://localhost:8080/",
          "height": 342
        },
        "id": "mPI5Fx5CamRX",
        "outputId": "dad0b61d-b900-478f-9abc-77a3761d2c28"
      },
      "source": [
        "display(df.head())"
      ],
      "execution_count": 52,
      "outputs": [
        {
          "output_type": "display_data",
          "data": {
            "text/html": [
              "<div>\n",
              "<style scoped>\n",
              "    .dataframe tbody tr th:only-of-type {\n",
              "        vertical-align: middle;\n",
              "    }\n",
              "\n",
              "    .dataframe tbody tr th {\n",
              "        vertical-align: top;\n",
              "    }\n",
              "\n",
              "    .dataframe thead th {\n",
              "        text-align: right;\n",
              "    }\n",
              "</style>\n",
              "<table border=\"1\" class=\"dataframe\">\n",
              "  <thead>\n",
              "    <tr style=\"text-align: right;\">\n",
              "      <th></th>\n",
              "      <th>Order ID</th>\n",
              "      <th>Product</th>\n",
              "      <th>Quantity Ordered</th>\n",
              "      <th>Price Each</th>\n",
              "      <th>Purchase Address</th>\n",
              "      <th>Order Month</th>\n",
              "      <th>Sales</th>\n",
              "      <th>City</th>\n",
              "      <th>Street</th>\n",
              "      <th>State</th>\n",
              "      <th>Pin</th>\n",
              "    </tr>\n",
              "    <tr>\n",
              "      <th>Order Date</th>\n",
              "      <th></th>\n",
              "      <th></th>\n",
              "      <th></th>\n",
              "      <th></th>\n",
              "      <th></th>\n",
              "      <th></th>\n",
              "      <th></th>\n",
              "      <th></th>\n",
              "      <th></th>\n",
              "      <th></th>\n",
              "      <th></th>\n",
              "    </tr>\n",
              "  </thead>\n",
              "  <tbody>\n",
              "    <tr>\n",
              "      <th>2019-07-26 16:51:00</th>\n",
              "      <td>222910</td>\n",
              "      <td>Apple Airpods Headphones</td>\n",
              "      <td>1</td>\n",
              "      <td>150.00</td>\n",
              "      <td>389 South St, Atlanta, GA 30301</td>\n",
              "      <td>7</td>\n",
              "      <td>150.00</td>\n",
              "      <td>Atlanta</td>\n",
              "      <td>389 South St</td>\n",
              "      <td>GA</td>\n",
              "      <td>30301</td>\n",
              "    </tr>\n",
              "    <tr>\n",
              "      <th>2019-07-05 08:55:00</th>\n",
              "      <td>222911</td>\n",
              "      <td>Flatscreen TV</td>\n",
              "      <td>1</td>\n",
              "      <td>300.00</td>\n",
              "      <td>590 4th St, Seattle, WA 98101</td>\n",
              "      <td>7</td>\n",
              "      <td>300.00</td>\n",
              "      <td>Seattle</td>\n",
              "      <td>590 4th St</td>\n",
              "      <td>WA</td>\n",
              "      <td>98101</td>\n",
              "    </tr>\n",
              "    <tr>\n",
              "      <th>2019-07-29 12:41:00</th>\n",
              "      <td>222912</td>\n",
              "      <td>AA Batteries (4-pack)</td>\n",
              "      <td>1</td>\n",
              "      <td>3.84</td>\n",
              "      <td>861 Hill St, Atlanta, GA 30301</td>\n",
              "      <td>7</td>\n",
              "      <td>3.84</td>\n",
              "      <td>Atlanta</td>\n",
              "      <td>861 Hill St</td>\n",
              "      <td>GA</td>\n",
              "      <td>30301</td>\n",
              "    </tr>\n",
              "    <tr>\n",
              "      <th>2019-07-28 10:15:00</th>\n",
              "      <td>222913</td>\n",
              "      <td>AA Batteries (4-pack)</td>\n",
              "      <td>1</td>\n",
              "      <td>3.84</td>\n",
              "      <td>190 Ridge St, Atlanta, GA 30301</td>\n",
              "      <td>7</td>\n",
              "      <td>3.84</td>\n",
              "      <td>Atlanta</td>\n",
              "      <td>190 Ridge St</td>\n",
              "      <td>GA</td>\n",
              "      <td>30301</td>\n",
              "    </tr>\n",
              "    <tr>\n",
              "      <th>2019-07-31 02:13:00</th>\n",
              "      <td>222914</td>\n",
              "      <td>AAA Batteries (4-pack)</td>\n",
              "      <td>5</td>\n",
              "      <td>2.99</td>\n",
              "      <td>824 Forest St, Seattle, WA 98101</td>\n",
              "      <td>7</td>\n",
              "      <td>14.95</td>\n",
              "      <td>Seattle</td>\n",
              "      <td>824 Forest St</td>\n",
              "      <td>WA</td>\n",
              "      <td>98101</td>\n",
              "    </tr>\n",
              "  </tbody>\n",
              "</table>\n",
              "</div>"
            ],
            "text/plain": [
              "                    Order ID                   Product  Quantity Ordered  \\\n",
              "Order Date                                                                 \n",
              "2019-07-26 16:51:00   222910  Apple Airpods Headphones                 1   \n",
              "2019-07-05 08:55:00   222911             Flatscreen TV                 1   \n",
              "2019-07-29 12:41:00   222912     AA Batteries (4-pack)                 1   \n",
              "2019-07-28 10:15:00   222913     AA Batteries (4-pack)                 1   \n",
              "2019-07-31 02:13:00   222914    AAA Batteries (4-pack)                 5   \n",
              "\n",
              "                     Price Each                  Purchase Address  \\\n",
              "Order Date                                                          \n",
              "2019-07-26 16:51:00      150.00   389 South St, Atlanta, GA 30301   \n",
              "2019-07-05 08:55:00      300.00     590 4th St, Seattle, WA 98101   \n",
              "2019-07-29 12:41:00        3.84    861 Hill St, Atlanta, GA 30301   \n",
              "2019-07-28 10:15:00        3.84   190 Ridge St, Atlanta, GA 30301   \n",
              "2019-07-31 02:13:00        2.99  824 Forest St, Seattle, WA 98101   \n",
              "\n",
              "                     Order Month   Sales      City         Street State    Pin  \n",
              "Order Date                                                                      \n",
              "2019-07-26 16:51:00            7  150.00   Atlanta   389 South St    GA  30301  \n",
              "2019-07-05 08:55:00            7  300.00   Seattle     590 4th St    WA  98101  \n",
              "2019-07-29 12:41:00            7    3.84   Atlanta    861 Hill St    GA  30301  \n",
              "2019-07-28 10:15:00            7    3.84   Atlanta   190 Ridge St    GA  30301  \n",
              "2019-07-31 02:13:00            7   14.95   Seattle  824 Forest St    WA  98101  "
            ]
          },
          "metadata": {}
        }
      ]
    },
    {
      "cell_type": "code",
      "metadata": {
        "colab": {
          "base_uri": "https://localhost:8080/",
          "height": 442
        },
        "id": "NBgeQWNCavhI",
        "outputId": "4f57c632-d8a8-4252-d777-b2afc98339ea"
      },
      "source": [
        "quantities_ordered = df.groupby('Product').sum()['Quantity Ordered'].to_frame('Product quantities sold')\n",
        "quantities_ordered.plot(kind='bar');"
      ],
      "execution_count": 66,
      "outputs": [
        {
          "output_type": "display_data",
          "data": {
            "image/png": "[encoded data removed]",
            "text/plain": [
              "<Figure size 432x288 with 1 Axes>"
            ]
          },
          "metadata": {}
        }
      ]
    },
    {
      "cell_type": "markdown",
      "metadata": {
        "id": "DOxzzH0gb63m"
      },
      "source": [
        "AAA batteries were sold the most since they are cheap and regularly required for power consumption. Let's check item prices."
      ]
    },
    {
      "cell_type": "code",
      "metadata": {
        "colab": {
          "base_uri": "https://localhost:8080/",
          "height": 397
        },
        "id": "kWC-Ik1_a7wA",
        "outputId": "27136ecc-5a79-47e5-d245-1d37fb1dfbd9"
      },
      "source": [
        "product_group = df.groupby('Product')\n",
        "quantities_ordered = product_group.sum()['Quantity Ordered']\n",
        "product_avg_prices = product_group.mean()['Price Each']\n",
        "\n",
        "products = [product for product, df in product_group]\n",
        "\n",
        "fig, ax1 = plt.subplots()\n",
        "\n",
        "ax2 = ax1.twinx()\n",
        "ax1.bar(products, quantities_ordered, color = 'blue')\n",
        "ax2.plot(products, product_avg_prices, color = 'red')\n",
        "\n",
        "ax1.set_xlabel('Product')\n",
        "ax1.set_ylabel('Quantity Ordered', color = 'blue')\n",
        "ax2.set_ylabel('Price ($)', color = 'red')\n",
        "ax1.set_xticklabels(products, rotation = 'vertical', size = 8)\n",
        "\n",
        "plt.show()"
      ],
      "execution_count": 81,
      "outputs": [
        {
          "output_type": "display_data",
          "data": {
            "image/png": "[encoded data removed]",
            "text/plain": [
              "<Figure size 432x288 with 2 Axes>"
            ]
          },
          "metadata": {}
        }
      ]
    },
    {
      "cell_type": "markdown",
      "metadata": {
        "id": "-4lwDtplckVB"
      },
      "source": [
        "As can be seen, AAA batteries are one of the cheapest items, and therefore, as the plot shows are the highest in demand. The plot also leads us to think that the quantities ordered of a certain product are negatively correlated to its price. However, in such case, some new questions may arise, such as, how is it that Macbook Pro Laptop, while having the highest price has higher demand than LG Dryer? Perhaps because there are more students among buyers in the current data. But this hypothesis will need verification with the help of additional information about buyer's occupation, etc."
      ]
    }
  ]
}